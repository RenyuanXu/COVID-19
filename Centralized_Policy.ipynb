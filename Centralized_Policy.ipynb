{
 "cells": [
  {
   "cell_type": "code",
   "execution_count": 361,
   "metadata": {},
   "outputs": [],
   "source": [
    "import numpy as np\n",
    "import pandas as pd\n",
    "import matplotlib.pyplot as plt\n",
    "%matplotlib inline\n",
    "import math\n",
    "import scipy.stats\n",
    "#import seaborn as sns\n",
    "#sns.set(style=\"whitegrid\")\n",
    "import time\n",
    "import seaborn as sns; sns.set()\n",
    "import statsmodels.api as sm\n",
    "from sklearn.linear_model import LinearRegression\n",
    "import scipy\n",
    "import random"
   ]
  },
  {
   "cell_type": "markdown",
   "metadata": {},
   "source": [
    "# Functions"
   ]
  },
  {
   "cell_type": "code",
   "execution_count": 362,
   "metadata": {},
   "outputs": [],
   "source": [
    "def Sigma_adjust_Ext(eff_dates,sigma_adjust1,sigma_adjust2,d,nn):\n",
    "    scale_ext = np.zeros((133,nn))\n",
    "    for r in range(133):\n",
    "        eff_date = int(eff_dates[r])\n",
    "        scale_ext[r,:eff_date] = sigma_adjust1[r]*np.ones(int(eff_date))\n",
    "        scale_ext[r,eff_date:] = d*sigma_adjust2[r]*np.ones(int(nn - eff_date))\n",
    "    return scale_ext"
   ]
  },
  {
   "cell_type": "code",
   "execution_count": 363,
   "metadata": {},
   "outputs": [],
   "source": [
    "def C_series(eff_dates,pr1,pr2,nn):\n",
    "    C_ext = np.zeros((133,nn))\n",
    "    for r in range(133):\n",
    "        eff_date = int(eff_dates[r])\n",
    "        C_ext[r,:eff_date] = pr1*np.ones(int(eff_date))\n",
    "        C_ext[r,eff_date:] = pr2*np.ones(int(nn - eff_date))\n",
    "    return C_ext"
   ]
  },
  {
   "cell_type": "code",
   "execution_count": 364,
   "metadata": {},
   "outputs": [],
   "source": [
    "# function without shielding\n",
    "def SEIR_Policy_on_off(init_vals, C_, Sigma_, p,f, params, d, eff_dates,sigma_adjust1,sigma_adjust2,threshold1,threshold2,relax,control_last,last_bf_stop,nn):\n",
    "    ## input\n",
    "    # nn is the number of days\n",
    "    #S_0,E_0,I_0,R_0: dimension: A*R\n",
    "    # C is a matrix in dimension R*R with compotnent c_(r,r')\n",
    "    # p is vector in dimension A with each column equals to p_a\n",
    "    S_0, E_0, I_0, A_0, D_0,R_0 = init_vals\n",
    "    \n",
    "    N_A, N_K = S_0.shape[0], S_0.shape[1]\n",
    "      \n",
    "    S, E, I, A, D, R = [S_0], [E_0], [I_0], [A_0], [D_0],[R_0]\n",
    "    \n",
    "    # N: total number of people in each class: matrix dimension A*R\n",
    "    N = S_0 + E_0 + I_0 + R_0 +D_0+ A_0\n",
    "    S_i, E_i, I_i, A_i, D_i, R_i = S_0.copy(), E_0.copy(), I_0.copy(), A_0.copy(), D_0.copy(),R_0.copy()\n",
    "    alpha, beta, gamma, kappa,pi1,pi2  = params\n",
    "    Sigma = Sigma_\n",
    "    C = C_\n",
    "    \n",
    "    ### time-dependent parameters\n",
    "    scale_ts = Sigma_adjust_Ext(eff_dates,sigma_adjust1,sigma_adjust2,d,nn)\n",
    "    C_ts = C_series(eff_dates,1.0,0.2,nn)\n",
    "    \n",
    "    total_contact = 0\n",
    "    regional_real_cases = np.zeros((nn+1,N_A,N_K))\n",
    "    regional_confirm_cases = np.zeros((nn+1,N_A,N_K))\n",
    "    england_real_cases = np.zeros((nn+1,N_A))\n",
    "    england_confirm_cases = np.zeros((nn+1,N_A))\n",
    "    \n",
    "    regional_real_cases[0,:,] = I_0\n",
    "    england_real_cases[0] = np.sum(I_0)\n",
    "    for region in range(N_K):\n",
    "            for age in range(N_A):\n",
    "                number = I_0[age,region]\n",
    "                regional_confirm_cases[0,age,region] =  np.random.binomial(number, pi1, 1)[0] \n",
    "    england_confirm_cases[0,:] = np.sum(regional_confirm_cases[0,:,:],axis=1)\n",
    "    \n",
    "    # signal==0 means relax policy (not control)\n",
    "    # signal > 0 means control\n",
    "    signal = 1 \n",
    "    signals = np.zeros(nn+1)\n",
    "    signals[0] = 1\n",
    "    consecutive_pointer = last_bf_stop\n",
    "    \n",
    "    mask_base = np.arange(16)\n",
    "    mask = (mask_base < 4) | (mask_base > 11)\n",
    "    for t in range(nn):\n",
    "        day_contact = 0\n",
    "        Lambda = np.zeros((N_A,N_K))\n",
    "        if signal > 0:\n",
    "            C_r = C_ts[:,t]*C_ + (1-C_ts[:,t])*np.identity(N_K)\n",
    "            Lambda += np.dot(Sigma[:,mask], np.reshape(scale_ts[:,t], (1, -1)) * alpha *(kappa*I_i[mask,:]+A_i[mask,:])/N[mask,:])\n",
    "            Lambda += np.dot(Sigma[:,~mask], np.reshape(scale_ts[:,t], (1, -1)) * alpha * np.dot((kappa*I_i[~mask,:]+A_i[~mask,:])/N[~mask,:], C_r.T))\n",
    "            day_contact += (N * np.dot(np.reshape(np.sum(Sigma, axis=-1), (-1, 1)), np.reshape(scale_ts[:,t], (1, -1)))).flatten().sum()\n",
    "            \n",
    "            #for r in range(N_K):\n",
    "            #    C_r = C_ts[r,t]*C_ + (1-C_ts[r,t])*np.identity(133)\n",
    "            #    for a in range(N_A):\n",
    "            #        for a_prime in [0,1,2,3,12,13,14,15]:\n",
    "            #            Lambda[a,r] += scale_ts[r,t] * alpha * Sigma[a,a_prime] * (kappa*I_i[a_prime,r]+A_i[a_prime,r])/N[a_prime,r]\n",
    "            #        for a_prime in [4,5,6,7,8,9,10,11]:\n",
    "            #            Lambda[a,r] += scale_ts[r,t] * alpha * Sigma[a,a_prime] * ((C_r[r,:]).dot((kappa*I_i[a_prime,:]+A_i[a_prime,:])/N[a_prime,:]))\n",
    "            #    \n",
    "            #        day_contact +=  N[a,r] * scale_ts[r,t] * np.sum(Sigma[a,:])\n",
    "        if signal ==0 :\n",
    "            C_ts_tmp = relax\n",
    "            C_r = C_ts_tmp*C_ + (1-C_ts_tmp)*np.identity(N_K)\n",
    "            scale_ts_tmp = relax*sigma_adjust1 + (1-relax)*scale_ts[:,t] \n",
    "            Lambda += (alpha * np.dot(Sigma[:, mask], (kappa*I_i[mask,:]+A_i[mask,:])/N[mask,:] * scale_ts_tmp.reshape((1, -1))))\n",
    "            Lambda += (alpha * np.dot(Sigma[:,~mask], np.dot((kappa*I_i[~mask,:]+A_i[~mask,:])/N[~mask,:], C_r.T) * scale_ts_tmp.reshape((1, -1))))\n",
    "            day_contact +=  (N * np.dot(Sigma.sum(axis=-1).reshape((-1, 1)), scale_ts_tmp.reshape((1, -1)))).flatten().sum()\n",
    "            \n",
    "            \n",
    "            #for r in range(N_K):\n",
    "            #    C_ts_tmp = relax #np.min([1,relax*C_ts[r,t]])\n",
    "            #    C_r = C_ts_tmp*C_ + (1-C_ts_tmp)*np.identity(133)\n",
    "            #    scale_ts_tmp = relax*sigma_adjust1[r]+ (1-relax)*scale_ts[r,t]\n",
    "            #    for a in range(N_A):\n",
    "            #        for a_prime in [0,1,2,3,12,13,14,15]:\n",
    "            #            Lambda[a,r] += scale_ts_tmp * alpha * Sigma[a,a_prime] * (kappa*I_i[a_prime,r]+A_i[a_prime,r])/N[a_prime,r]\n",
    "            #        for a_prime in [4,5,6,7,8,9,10,11]:\n",
    "            #            Lambda[a,r] += scale_ts_tmp * alpha * Sigma[a,a_prime] * ((C_r[r,:]).dot((kappa*I_i[a_prime,:]+A_i[a_prime,:])/N[a_prime,:]))\n",
    "                \n",
    "            #        day_contact +=  N[a,r] *scale_ts_tmp*np.sum(Sigma[a,:])\n",
    "        #if signal == -1 : \n",
    "        #    C_r =C_\n",
    "        #    scale_ts_tmp = sigma_adjust1 \n",
    "        #    Lambda += (alpha * np.dot(Sigma[:, mask], (kappa*I_i[mask,:]+A_i[mask,:])/N[mask,:] * scale_ts_tmp.reshape((1, -1))))\n",
    "        #    Lambda += (alpha * np.dot(Sigma[:,~mask], np.dot((kappa*I_i[~mask,:]+A_i[~mask,:])/N[~mask,:], C_r.T) * scale_ts_tmp.reshape((1, -1))))\n",
    "        #    day_contact +=  (N * np.dot(Sigma.sum(axis=-1).reshape((-1, 1)), scale_ts_tmp.reshape((1, -1)))).flatten().sum()\n",
    "            \n",
    "            \n",
    "            #for r in range(N_K):\n",
    "            #    C_r = C_\n",
    "            #    for a in range(N_A):\n",
    "            #        for a_prime in [0,1,2,3,12,13,14,15]:\n",
    "            #            Lambda[a,r] += sigma_adjust1[r] * alpha * Sigma[a,a_prime] * (kappa*I_i[a_prime,r]+A_i[a_prime,r])/N[a_prime,r]\n",
    "            #        for a_prime in [4,5,6,7,8,9,10,11]:\n",
    "            #            Lambda[a,r] += sigma_adjust1[r]* alpha * Sigma[a,a_prime] * ((C_r[r,:]).dot((kappa*I_i[a_prime,:]+A_i[a_prime,:])/N[a_prime,:]))\n",
    "            #    \n",
    "            #        day_contact +=  N[a,r] *sigma_adjust1[r]*np.sum(Sigma[a,:])\n",
    "        \n",
    "        total_contact += day_contact        \n",
    "        dI_i = np.zeros((N_A,N_K))\n",
    "        dA_i = np.zeros((N_A,N_K))\n",
    "        for a in range(N_A):\n",
    "            dI_i[a,:] += p[a]*beta*E_i[a,:]\n",
    "            dA_i[a,:] += (1-p[a])*beta*E_i[a,:]\n",
    "        \n",
    "        compartment_prob = np.array([(S_i*Lambda), dI_i, dA_i ,(gamma*f*I_i),(gamma*(1-f)*I_i),(gamma*A_i)]).reshape(6*N_A*N_K)\n",
    "\n",
    "        compartment_prob = np.asarray(compartment_prob).astype(np.float64)\n",
    "        ratio = np.sum(compartment_prob)\n",
    "        if ratio > 0:\n",
    "            compartment_prob /= np.sum(compartment_prob)\n",
    "        else:\n",
    "            total_contact += (nn-t)*day_contact   \n",
    "            return S,E,I,A,D,R,signals,regional_real_cases,england_real_cases,regional_confirm_cases,england_confirm_cases,  total_contact\n",
    "\n",
    "        number_event = np.random.poisson(ratio,1)[0]\n",
    "    \n",
    "        ind = np.random.multinomial(number_event, compartment_prob, size=1)\n",
    "        \n",
    "        ind = ind.reshape(6,N_A,N_K)\n",
    "\n",
    "        \n",
    "\n",
    "        S_i += -ind[0,:,:]\n",
    "        E_i += ind[0,:,:]-ind[1,:,:]-ind[2,:,:]\n",
    "        I_i += ind[1,:,:]-ind[3,:,:]-ind[4,:,:]\n",
    "        A_i += ind[2,:,:]-ind[5,:,:]\n",
    "        D_i += ind[3,:,:]\n",
    "        R_i += ind[4,:,:]+ind[5,:,:]\n",
    "        \n",
    "        S_i = (np.abs(S_i)+S_i)/2\n",
    "        E_i = (np.abs(E_i)+E_i)/2\n",
    "        A_i = (np.abs(A_i)+A_i)/2\n",
    "        D_i = (np.abs(D_i)+D_i)/2\n",
    "        I_i = (np.abs(I_i)+I_i)/2\n",
    "        R_i = (np.abs(R_i)+R_i)/2\n",
    "        \n",
    "        regional_real_cases[t+1,:,:] = ind[1,:,:]\n",
    "        england_real_cases[t+1,:] = np.sum(ind[1,:,:],axis=1)\n",
    "        \n",
    "        if t <= 120:\n",
    "            pi_ = pi1\n",
    "        else:\n",
    "            pi_ = pi2\n",
    "        \n",
    "        for region in range(N_K):\n",
    "            for age in range(N_A):\n",
    "                number = ind[1,age,region]\n",
    "                regional_confirm_cases[t+1,age,region] =  np.random.binomial(number, pi_, 1)[0] \n",
    "        \n",
    "        today_confirm = np.sum(regional_confirm_cases[t+1,:,:],axis=1)\n",
    "        england_confirm_cases[t+1,:] = today_confirm\n",
    "        # threshold2 < threshold1\n",
    "        if (np.sum(today_confirm)<threshold2) & (signal >=control_last) & (t> 120):\n",
    "            signal = 0\n",
    "        elif (np.sum(today_confirm)<threshold1) & (signal ==0) & (consecutive_pointer == 0):\n",
    "            signal = -1\n",
    "        elif (np.sum(today_confirm)<threshold1) & (signal ==-1):\n",
    "            signal = -1\n",
    "        elif (np.sum(today_confirm)<threshold1) & (signal ==0) & (consecutive_pointer > 0):\n",
    "            signal = 0\n",
    "            consecutive_pointer -=1\n",
    "        else:\n",
    "            signal = np.max([0,signal]) +1\n",
    "            consecutive_pointer = last_bf_stop\n",
    "        signals[t+1] = signal\n",
    "        \n",
    "        S.append(S_i.copy())\n",
    "        E.append(E_i.copy())\n",
    "        I.append(I_i.copy())\n",
    "        A.append(A_i.copy())\n",
    "        D.append(D_i.copy())\n",
    "        R.append(R_i.copy())\n",
    "         \n",
    "    return S,E,I,A,D,R,signals,regional_real_cases,england_real_cases,regional_confirm_cases,england_confirm_cases, total_contact"
   ]
  },
  {
   "cell_type": "markdown",
   "metadata": {},
   "source": [
    "# Import Data"
   ]
  },
  {
   "cell_type": "code",
   "execution_count": 365,
   "metadata": {},
   "outputs": [],
   "source": [
    "N_A= 16\n",
    "N_K = 133\n",
    "initial_day = 15"
   ]
  },
  {
   "cell_type": "code",
   "execution_count": 366,
   "metadata": {},
   "outputs": [],
   "source": [
    "# social contact among age group\n",
    "contact = pd.read_csv('../../../data/contact_matrix_16_groups.csv')\n",
    "social_m = np.array(contact[['matrix..0.5.', 'matrix..5.10.', 'matrix..10.15.', 'matrix..15.20.',\n",
    "       'matrix..20.25.', 'matrix..25.30.', 'matrix..30.35.', 'matrix..35.40.',\n",
    "       'matrix..40.45.', 'matrix..45.50.', 'matrix..50.55.', 'matrix..55.60.',\n",
    "       'matrix..60.65.', 'matrix..65.70.', 'matrix..70.75.', 'matrix.75.']]).reshape(16,16)\n",
    "\n",
    "Sigma = social_m"
   ]
  },
  {
   "cell_type": "code",
   "execution_count": null,
   "metadata": {},
   "outputs": [],
   "source": []
  },
  {
   "cell_type": "code",
   "execution_count": 367,
   "metadata": {},
   "outputs": [],
   "source": [
    "#contact mtrix\n",
    "transport = pd.read_csv('../../../data/CommuteMatrix-NUTS3.csv')\n",
    "transport_mat = np.array(transport)[:,1:].astype(float)\n",
    "C = transport_mat"
   ]
  },
  {
   "cell_type": "code",
   "execution_count": 368,
   "metadata": {},
   "outputs": [],
   "source": [
    "covid_data = pd.read_csv('../../../data/UK-COVID-data.csv')\n",
    "covid_data_new = pd.DataFrame(columns = covid_data.columns)\n",
    "region_order = list(transport['Unnamed: 0'])"
   ]
  },
  {
   "cell_type": "code",
   "execution_count": 369,
   "metadata": {},
   "outputs": [],
   "source": [
    "for i in range(133):\n",
    "    region = region_order[i]\n",
    "    covid_data_new.loc[i] = covid_data[covid_data['id']==region].values[0]\n",
    "    #covid_data_new2.loc[i] = covid_data2[covid_data2['id']==region].values[0]"
   ]
  },
  {
   "cell_type": "code",
   "execution_count": 370,
   "metadata": {},
   "outputs": [
    {
     "name": "stdout",
     "output_type": "stream",
     "text": [
      "does all tables have the same region order:\n",
      "True\n"
     ]
    }
   ],
   "source": [
    "## Sanity check\n",
    "print('does all tables have the same region order:')\n",
    "covid_order = list(covid_data_new['id'])\n",
    "#covid_order2 = list(covid_data_new2['id'])\n",
    "\n",
    "region_order = list(transport['Unnamed: 0'])\n",
    "\n",
    "\n",
    "print(region_order==covid_order)\n",
    "#print(population_order==covid_order2)"
   ]
  },
  {
   "cell_type": "code",
   "execution_count": 371,
   "metadata": {},
   "outputs": [],
   "source": [
    "## Population data validation \n",
    "population = pd.read_csv('../../../data/UK-COVID-data-with_ALL_age_groups.csv')\n",
    "population = population[['id','Y_LT5', 'Y5-9', 'Y10-14', 'Y15-19', 'Y20-24',\n",
    "       'Y25-29', 'Y30-34', 'Y35-39', 'Y40-44', 'Y45-49', 'Y50-54', 'Y55-59',\n",
    "       'Y60-64', 'Y65-69', 'Y70-74', 'Y75-79', 'Y80-84', 'Y85-89','Y_GE90']]"
   ]
  },
  {
   "cell_type": "code",
   "execution_count": 372,
   "metadata": {},
   "outputs": [],
   "source": [
    "population_new = pd.DataFrame(columns = population.columns)\n"
   ]
  },
  {
   "cell_type": "code",
   "execution_count": 373,
   "metadata": {},
   "outputs": [],
   "source": [
    "for i in range(133):\n",
    "    region = region_order[i]\n",
    "    population_new.loc[i] = population[population['id']==region].values[0]"
   ]
  },
  {
   "cell_type": "code",
   "execution_count": 374,
   "metadata": {},
   "outputs": [
    {
     "data": {
      "text/plain": [
       "56171302.0"
      ]
     },
     "execution_count": 374,
     "metadata": {},
     "output_type": "execute_result"
    }
   ],
   "source": [
    "N_mat2 = np.array(population_new[['Y_LT5', 'Y5-9', 'Y10-14', 'Y15-19', 'Y20-24',\n",
    "       'Y25-29', 'Y30-34', 'Y35-39', 'Y40-44', 'Y45-49', 'Y50-54', 'Y55-59',\n",
    "       'Y60-64', 'Y65-69', 'Y70-74', 'Y75-79', 'Y80-84', 'Y85-89','Y_GE90']]).T\n",
    "\n",
    "N_mat = np.zeros((16,133))\n",
    "\n",
    "N_mat[:15,:] = N_mat2[:15,:]\n",
    "\n",
    "N_mat[-1,:] = np.sum(N_mat2[15:,],axis=0)\n",
    "np.sum(N_mat)"
   ]
  },
  {
   "cell_type": "code",
   "execution_count": 375,
   "metadata": {},
   "outputs": [],
   "source": [
    "## Population density\n",
    "population_density = np.array(covid_data_new['population_density'])"
   ]
  },
  {
   "cell_type": "code",
   "execution_count": 431,
   "metadata": {},
   "outputs": [],
   "source": [
    "d_table =  pd.read_csv('../../../data/d1d2_effdates_initialization_final_lowratio_133regions_16agegroups.csv')\n",
    "\n",
    "initial_covid = np.array(d_table['initialization'])"
   ]
  },
  {
   "cell_type": "code",
   "execution_count": 377,
   "metadata": {},
   "outputs": [
    {
     "data": {
      "text/html": [
       "<div>\n",
       "<style scoped>\n",
       "    .dataframe tbody tr th:only-of-type {\n",
       "        vertical-align: middle;\n",
       "    }\n",
       "\n",
       "    .dataframe tbody tr th {\n",
       "        vertical-align: top;\n",
       "    }\n",
       "\n",
       "    .dataframe thead th {\n",
       "        text-align: right;\n",
       "    }\n",
       "</style>\n",
       "<table border=\"1\" class=\"dataframe\">\n",
       "  <thead>\n",
       "    <tr style=\"text-align: right;\">\n",
       "      <th></th>\n",
       "      <th>region</th>\n",
       "      <th>d_adjust1</th>\n",
       "      <th>d_adjust2</th>\n",
       "      <th>adjust_dates</th>\n",
       "      <th>initialization</th>\n",
       "    </tr>\n",
       "  </thead>\n",
       "  <tbody>\n",
       "    <tr>\n",
       "      <th>0</th>\n",
       "      <td>UKC11</td>\n",
       "      <td>1.045941</td>\n",
       "      <td>1.466334</td>\n",
       "      <td>25.0</td>\n",
       "      <td>5.000000</td>\n",
       "    </tr>\n",
       "    <tr>\n",
       "      <th>1</th>\n",
       "      <td>UKC12</td>\n",
       "      <td>1.804483</td>\n",
       "      <td>1.018565</td>\n",
       "      <td>23.0</td>\n",
       "      <td>2.000000</td>\n",
       "    </tr>\n",
       "    <tr>\n",
       "      <th>2</th>\n",
       "      <td>UKC13</td>\n",
       "      <td>1.259746</td>\n",
       "      <td>1.202675</td>\n",
       "      <td>27.0</td>\n",
       "      <td>2.000000</td>\n",
       "    </tr>\n",
       "    <tr>\n",
       "      <th>3</th>\n",
       "      <td>UKC22</td>\n",
       "      <td>1.049231</td>\n",
       "      <td>0.959281</td>\n",
       "      <td>25.0</td>\n",
       "      <td>21.000000</td>\n",
       "    </tr>\n",
       "    <tr>\n",
       "      <th>4</th>\n",
       "      <td>UKD12</td>\n",
       "      <td>1.154643</td>\n",
       "      <td>0.940007</td>\n",
       "      <td>22.0</td>\n",
       "      <td>17.055149</td>\n",
       "    </tr>\n",
       "    <tr>\n",
       "      <th>...</th>\n",
       "      <td>...</td>\n",
       "      <td>...</td>\n",
       "      <td>...</td>\n",
       "      <td>...</td>\n",
       "      <td>...</td>\n",
       "    </tr>\n",
       "    <tr>\n",
       "      <th>128</th>\n",
       "      <td>UKJ28</td>\n",
       "      <td>0.849863</td>\n",
       "      <td>0.777999</td>\n",
       "      <td>23.0</td>\n",
       "      <td>8.458674</td>\n",
       "    </tr>\n",
       "    <tr>\n",
       "      <th>129</th>\n",
       "      <td>UKI75</td>\n",
       "      <td>1.085533</td>\n",
       "      <td>0.845362</td>\n",
       "      <td>18.0</td>\n",
       "      <td>36.000000</td>\n",
       "    </tr>\n",
       "    <tr>\n",
       "      <th>130</th>\n",
       "      <td>UKD44</td>\n",
       "      <td>1.317403</td>\n",
       "      <td>1.045672</td>\n",
       "      <td>24.0</td>\n",
       "      <td>3.587218</td>\n",
       "    </tr>\n",
       "    <tr>\n",
       "      <th>131</th>\n",
       "      <td>UKJ35</td>\n",
       "      <td>0.877225</td>\n",
       "      <td>0.937636</td>\n",
       "      <td>23.0</td>\n",
       "      <td>28.010320</td>\n",
       "    </tr>\n",
       "    <tr>\n",
       "      <th>132</th>\n",
       "      <td>UKH25</td>\n",
       "      <td>1.185496</td>\n",
       "      <td>1.279336</td>\n",
       "      <td>20.0</td>\n",
       "      <td>11.000000</td>\n",
       "    </tr>\n",
       "  </tbody>\n",
       "</table>\n",
       "<p>133 rows × 5 columns</p>\n",
       "</div>"
      ],
      "text/plain": [
       "    region  d_adjust1  d_adjust2  adjust_dates  initialization\n",
       "0    UKC11   1.045941   1.466334          25.0        5.000000\n",
       "1    UKC12   1.804483   1.018565          23.0        2.000000\n",
       "2    UKC13   1.259746   1.202675          27.0        2.000000\n",
       "3    UKC22   1.049231   0.959281          25.0       21.000000\n",
       "4    UKD12   1.154643   0.940007          22.0       17.055149\n",
       "..     ...        ...        ...           ...             ...\n",
       "128  UKJ28   0.849863   0.777999          23.0        8.458674\n",
       "129  UKI75   1.085533   0.845362          18.0       36.000000\n",
       "130  UKD44   1.317403   1.045672          24.0        3.587218\n",
       "131  UKJ35   0.877225   0.937636          23.0       28.010320\n",
       "132  UKH25   1.185496   1.279336          20.0       11.000000\n",
       "\n",
       "[133 rows x 5 columns]"
      ]
     },
     "execution_count": 377,
     "metadata": {},
     "output_type": "execute_result"
    }
   ],
   "source": [
    "d_table "
   ]
  },
  {
   "cell_type": "code",
   "execution_count": 378,
   "metadata": {},
   "outputs": [],
   "source": [
    "sigma_adjust1 = np.array(d_table['d_adjust1'])\n",
    "sigma_adjust2 = np.array(d_table['d_adjust2'])\n",
    "simulation_eff_dates= np.array(d_table['adjust_dates'])"
   ]
  },
  {
   "cell_type": "code",
   "execution_count": 379,
   "metadata": {},
   "outputs": [],
   "source": [
    "real_cum_cases = np.sum(np.array(covid_data_new.iloc[0:13,(19+initial_day):133]).astype(float),axis = 0)"
   ]
  },
  {
   "cell_type": "code",
   "execution_count": 380,
   "metadata": {},
   "outputs": [],
   "source": [
    "real_cum_cases_ind = np.cumsum(np.ones(len(real_cum_cases)))+initial_day"
   ]
  },
  {
   "cell_type": "code",
   "execution_count": 381,
   "metadata": {},
   "outputs": [],
   "source": [
    "death_data = pd.read_csv('../../../data/coronavirus-deaths_0521.csv')\n",
    "\n",
    "cum_death_number = np.array(death_data[death_data['Area name']=='England'][::-1].iloc[9:]['Cumulative deaths'])\n",
    "\n",
    "cum_death_number_ind = np.cumsum(np.ones(len(cum_death_number)))+initial_day"
   ]
  },
  {
   "cell_type": "markdown",
   "metadata": {},
   "source": [
    "# Initialization\n"
   ]
  },
  {
   "cell_type": "code",
   "execution_count": 382,
   "metadata": {},
   "outputs": [],
   "source": [
    "alpha = 0.055 #+ np.random.normal(0, 0.01, 1)[0]\n",
    "beta = 0.2 #+ np.random.normal(0, 0.05, 1)[0]\n",
    "gamma = 0.1 #+ np.random.normal(0, 0.02, 1)[0]\n",
    "kappa = 0.5 # + np.random.normal(0, 0.05, 1)[0]\n",
    "f0 = 0.002 \n",
    "f1 = 0.002\n",
    "f2 = 0.01\n",
    "f3 = 0.01\n",
    "f4 = 0.05\n",
    "f5 = 0.05\n",
    "f6 = 0.1\n",
    "f7 = 0.1\n",
    "f8 =  0.2\n",
    "f9 = 0.2\n",
    "f10 = 0.6\n",
    "f11 = 0.6\n",
    "f12 = 2.0\n",
    "f13 = 2.0\n",
    "f14 = 4.0\n",
    "f15 = 7.5 \n",
    "\n",
    "p0 = 0.075 \n",
    "p1 =  0.075\n",
    "p2 = 0.05\n",
    "p3 = 0.05\n",
    "p4 = 0.15\n",
    "p5 = 0.15\n",
    "p6 = 0.21\n",
    "p7 = 0.21\n",
    "p8 =  0.23 \n",
    "p9 = 0.23 \n",
    "p10 = 0.28\n",
    "p11 = 0.28\n",
    "p12 =  0.41\n",
    "p13 =  0.41\n",
    "p14 =  0.375\n",
    "p15 = 0.375\n",
    "p = [p0,p1, p2,p3,p4,p5,p6,p7,p8,p9,p10,p11,p12,p13,p14,p15]\n",
    "pi1 = 4.5/100\n",
    "pi2 = 4.5/100\n",
    "# 0.005,0.25,2,6\n",
    "f = np.array([f0,f1,f2,f3,f4,f5,f6,f7,f8,f9,f10,f11,f12,f13,f14,f15]).reshape(16,1)/100\n",
    "params =alpha, beta, gamma, kappa,pi1,pi2"
   ]
  },
  {
   "cell_type": "code",
   "execution_count": 383,
   "metadata": {},
   "outputs": [],
   "source": [
    "scale = 0.12"
   ]
  },
  {
   "cell_type": "code",
   "execution_count": 384,
   "metadata": {
    "scrolled": true
   },
   "outputs": [
    {
     "data": {
      "text/plain": [
       "2652.096014648935"
      ]
     },
     "execution_count": 384,
     "metadata": {},
     "output_type": "execute_result"
    }
   ],
   "source": [
    "np.sum(initial_covid)"
   ]
  },
  {
   "cell_type": "code",
   "execution_count": 385,
   "metadata": {},
   "outputs": [],
   "source": [
    "## initial population\n",
    "init_sick = np.zeros((N_A,N_K))\n",
    "init_sick_scale = np.zeros((N_A,N_K))\n",
    "for a in [4,5,6,7,8,9,10,11]:\n",
    "    init_sick[a,:] = initial_covid*(N_mat[a,:])/np.sum(N_mat[4:12,:],axis=0)\n",
    "\n",
    "for a in [4,5,6,7,8,9,10,11]:\n",
    "    init_sick_scale[a,:] = init_sick[a,:]/(p[a]*pi1)\n",
    "#init_sick[1,44] = 5\n",
    "#init_sick[1,64] = 5\n",
    "init_vals = N_mat-(init_sick_scale).astype(int),(init_sick_scale).astype(int), np.zeros((N_A,N_K)), np.zeros((N_A,N_K)), np.zeros((N_A,N_K)), np.zeros((N_A,N_K))"
   ]
  },
  {
   "cell_type": "code",
   "execution_count": 386,
   "metadata": {},
   "outputs": [],
   "source": [
    "sns.set(font_scale=1.3)"
   ]
  },
  {
   "cell_type": "code",
   "execution_count": 387,
   "metadata": {},
   "outputs": [],
   "source": [
    "lag = 10"
   ]
  },
  {
   "cell_type": "code",
   "execution_count": 388,
   "metadata": {},
   "outputs": [
    {
     "data": {
      "text/plain": [
       "16"
      ]
     },
     "execution_count": 388,
     "metadata": {},
     "output_type": "execute_result"
    }
   ],
   "source": [
    "N_A"
   ]
  },
  {
   "cell_type": "markdown",
   "metadata": {},
   "source": [
    "# Experiments"
   ]
  },
  {
   "cell_type": "code",
   "execution_count": 468,
   "metadata": {},
   "outputs": [],
   "source": [
    "threshold1 =  40 * 56\n",
    "threshold2 =  0.4 * threshold1\n",
    "relax = 0.5\n",
    "control_last = 7\n",
    "nn = 500\n",
    "end = nn+1\n",
    "stop_bf_last = 2000\n",
    "np.random.seed(2)\n",
    "# 30: 4 controls\n",
    "# 2: 3 controls\n",
    "S,E,I,A,D,R,signals,regional_real_cases,england_real_cases,regional_confirm_cases,england_confirm_cases, total_contact = SEIR_Policy_on_off(init_vals, C, Sigma,p,f, params,scale,simulation_eff_dates,sigma_adjust1,sigma_adjust2,threshold1,threshold2,relax,control_last,stop_bf_last,nn)"
   ]
  },
  {
   "cell_type": "code",
   "execution_count": 469,
   "metadata": {},
   "outputs": [
    {
     "data": {
      "image/png": "[encoded data removed]",
      "text/plain": [
       "<Figure size 432x288 with 1 Axes>"
      ]
     },
     "metadata": {},
     "output_type": "display_data"
    }
   ],
   "source": [
    "#plt.fill_between(xx[:400],b1,b2,alpha=0.5)\n",
    "plt.plot(xx[:400],np.sum(england_confirm_cases,axis=1)[:400],linewidth=3)\n",
    "plt.hlines(threshold1, 0,400,color='green',label=r'$ B_{on}\\times N/100,000$',linewidth=3)\n",
    "plt.hlines(threshold2, 0,400,color='orange',label=r'$ B_{off}\\times N/100,000$',linewidth=3)\n",
    "plt.ylabel('Reported cases')\n",
    "plt.xlabel('t (days)')\n",
    "plt.legend()\n",
    "plt.savefig(\"results/centralised_reported_england_3path.png\",bbox_inches=\"tight\")"
   ]
  },
  {
   "cell_type": "code",
   "execution_count": 470,
   "metadata": {},
   "outputs": [
    {
     "data": {
      "image/png": "[encoded data removed]",
      "text/plain": [
       "<Figure size 432x288 with 1 Axes>"
      ]
     },
     "metadata": {},
     "output_type": "display_data"
    }
   ],
   "source": [
    "plt.plot(xx[:400],leicester_reported[path,:],linewidth=3)\n",
    "plt.hlines(threshold1*pop_ratio, 0,400,color='green',label=r'$B_{on}\\times N(r)/100,000$',linewidth=3)\n",
    "plt.hlines(threshold2*pop_ratio, 0,400,color='orange',label=r'$B_{off}\\times N(r)/100,000$',linewidth=3)\n",
    "plt.ylabel('Reported cases')\n",
    "plt.xlabel('t (days)')\n",
    "plt.legend()\n",
    "plt.savefig(\"results/centralised_reported_leicester_3path.png\",bbox_inches=\"tight\")"
   ]
  },
  {
   "cell_type": "code",
   "execution_count": 467,
   "metadata": {},
   "outputs": [
    {
     "name": "stdout",
     "output_type": "stream",
     "text": [
      "/Users/renyuanxu/Dropbox/Research_Codes/epidemic_code/Revision_November/different_agegroups/16age_groups\r\n"
     ]
    }
   ],
   "source": [
    "!pwd"
   ]
  },
  {
   "cell_type": "code",
   "execution_count": null,
   "metadata": {},
   "outputs": [],
   "source": []
  },
  {
   "cell_type": "code",
   "execution_count": null,
   "metadata": {},
   "outputs": [],
   "source": []
  },
  {
   "cell_type": "code",
   "execution_count": 415,
   "metadata": {},
   "outputs": [],
   "source": [
    "I = np.array(I)"
   ]
  },
  {
   "cell_type": "code",
   "execution_count": 416,
   "metadata": {},
   "outputs": [
    {
     "data": {
      "text/plain": [
       "[<matplotlib.lines.Line2D at 0x138d61cf8>]"
      ]
     },
     "execution_count": 416,
     "metadata": {},
     "output_type": "execute_result"
    },
    {
     "data": {
      "image/png": "[encoded data removed]",
      "text/plain": [
       "<Figure size 432x288 with 1 Axes>"
      ]
     },
     "metadata": {},
     "output_type": "display_data"
    }
   ],
   "source": [
    "plt.plot(np.sum(I,axis=(1,2)))"
   ]
  },
  {
   "cell_type": "code",
   "execution_count": 392,
   "metadata": {},
   "outputs": [
    {
     "data": {
      "text/plain": [
       "[<matplotlib.lines.Line2D at 0x138e73518>]"
      ]
     },
     "execution_count": 392,
     "metadata": {},
     "output_type": "execute_result"
    },
    {
     "data": {
      "image/png": "[encoded data removed]",
      "text/plain": [
       "<Figure size 432x288 with 1 Axes>"
      ]
     },
     "metadata": {},
     "output_type": "display_data"
    }
   ],
   "source": [
    "plt.plot(signals)"
   ]
  },
  {
   "cell_type": "code",
   "execution_count": 393,
   "metadata": {},
   "outputs": [
    {
     "data": {
      "text/plain": [
       "array([121., 122.,   0.,   0.,   0.,   0.,   0.,   0.,   0.,   0.,   0.,\n",
       "         0.,   0.,   0.,   0.,   0.,   0.,   0.,   0.,   0.,   0.,   0.,\n",
       "         0.,   0.,   0.,   0.,   0.,   0.,   0.,   0.,   0.,   0.,   0.,\n",
       "         0.,   0.,   0.,   0.,   0.,   0.,   0.,   0.,   0.,   0.,   0.,\n",
       "         0.,   0.,   0.,   0.,   0.,   0.,   0.,   0.,   1.,   2.,   3.,\n",
       "         4.,   5.,   6.,   7.,   8.,   9.,   0.,   0.,   0.,   0.,   0.,\n",
       "         0.,   0.,   0.,   0.,   0.,   0.,   0.,   0.,   0.,   0.,   1.,\n",
       "         2.,   3.,   4.,   5.,   6.,   7.,   8.,   9.,   0.,   0.,   0.,\n",
       "         0.,   0.,   0.,   0.,   0.,   0.,   0.,   0.,   0.,   0.,   0.,\n",
       "         0.,   0.,   0.,   0.,   0.,   0.,   0.,   0.,   0.,   0.,   0.,\n",
       "         0.,   0.,   0.,   0.,   0.,   0.,   0.,   0.,   0.,   0.])"
      ]
     },
     "execution_count": 393,
     "metadata": {},
     "output_type": "execute_result"
    }
   ],
   "source": [
    "signals[120:240]"
   ]
  },
  {
   "cell_type": "code",
   "execution_count": 394,
   "metadata": {},
   "outputs": [
    {
     "data": {
      "text/plain": [
       "132242.0"
      ]
     },
     "execution_count": 394,
     "metadata": {},
     "output_type": "execute_result"
    }
   ],
   "source": [
    "np.sum(np.array(D)[-1,:,:])"
   ]
  },
  {
   "cell_type": "code",
   "execution_count": 395,
   "metadata": {},
   "outputs": [],
   "source": [
    "benchmark_total_contact2 = 0\n",
    "for r in range(133):\n",
    "    for a in range(4):\n",
    "        benchmark_total_contact2 += N_mat[a,r]*sigma_adjust1[r]*nn*np.sum(Sigma[a,:])"
   ]
  },
  {
   "cell_type": "code",
   "execution_count": 396,
   "metadata": {},
   "outputs": [],
   "source": [
    "benchmark_total_contact = 0\n",
    "for r in range(133):\n",
    "    for a in range(16):\n",
    "        benchmark_total_contact += N_mat[a,r]*sigma_adjust1[r]*nn*np.sum(Sigma[a,:])"
   ]
  },
  {
   "cell_type": "code",
   "execution_count": 397,
   "metadata": {},
   "outputs": [
    {
     "data": {
      "text/plain": [
       "426157736707.4202"
      ]
     },
     "execution_count": 397,
     "metadata": {},
     "output_type": "execute_result"
    }
   ],
   "source": [
    "benchmark_total_contact - benchmark_total_contact2"
   ]
  },
  {
   "cell_type": "code",
   "execution_count": 398,
   "metadata": {},
   "outputs": [],
   "source": [
    "xx = np.cumsum(np.ones(nn+1))-1+lag"
   ]
  },
  {
   "cell_type": "code",
   "execution_count": 399,
   "metadata": {},
   "outputs": [
    {
     "name": "stdout",
     "output_type": "stream",
     "text": [
      "0\n",
      "1\n",
      "2\n",
      "3\n",
      "4\n",
      "5\n",
      "6\n",
      "7\n",
      "8\n",
      "9\n"
     ]
    }
   ],
   "source": [
    "paths = 10\n",
    "D_ext = np.zeros((paths,nn+1,16,133))\n",
    "I_ext = np.zeros((paths,nn+1,16,133))\n",
    "A_ext = np.zeros((paths,nn+1,16,133))\n",
    "R_ext = np.zeros((paths,nn+1,16,133))\n",
    "costs = np.zeros(paths)\n",
    "england_reported = np.zeros((paths,400))\n",
    "leicester_reported = np.zeros((paths,400))\n",
    "for path in range(paths):\n",
    "    print(path)\n",
    "    S,E,I,A,D,R,signals,regional_real_cases,england_real_cases,regional_confirm_cases,england_confirm_cases, total_contact = SEIR_Policy_on_off(init_vals, C, Sigma,p,f, params,scale,simulation_eff_dates,sigma_adjust1,sigma_adjust2,threshold1,threshold2,relax,control_last,stop_bf_last,nn)\n",
    "    england_reported[path,:] = np.sum(england_confirm_cases,axis=1)[:400]\n",
    "    leicester_reported[path,:] = np.sum(regional_confirm_cases[:,:,37],axis=1)[:400]\n",
    "    lenss = np.array(D).shape[0]\n",
    "    D_ext[path,:lenss,:,:] = np.array(D)\n",
    "    D_ext[path,lenss:,:,:] = np.array(D)[-1,:,:]\n",
    "    R_ext[path,:lenss,:,:] = np.array(R)\n",
    "    R_ext[path,lenss:,:,:] = np.array(R)[-1,:,:]\n",
    "    I_ext[path,:lenss,:,:] = np.array(I)\n",
    "    A_ext[path,:lenss,:,:] = np.array(A)\n",
    "    costs[path] = benchmark_total_contact - total_contact"
   ]
  },
  {
   "cell_type": "code",
   "execution_count": 400,
   "metadata": {},
   "outputs": [
    {
     "data": {
      "text/plain": [
       "(10, 1001, 16, 133)"
      ]
     },
     "execution_count": 400,
     "metadata": {},
     "output_type": "execute_result"
    }
   ],
   "source": [
    "D_ext.shape"
   ]
  },
  {
   "cell_type": "code",
   "execution_count": 401,
   "metadata": {},
   "outputs": [
    {
     "data": {
      "text/plain": [
       "array([ 702.7,  893.2,  285.4, 2128.6,  844.8,  567.5, 1114.1, 1258.4,\n",
       "       1262. , 1427.8,  351.1, 1162.9,  942.9,  712.9,  547.9,  959.9,\n",
       "        911.8, 1264.2, 1100.7,  979.9,  970.4,  479.4,  847.6,  938.5,\n",
       "        413. , 1926. , 2297.9, 1384.9, 1087.4, 1547. , 1642. ,  641.6,\n",
       "        808.5, 1392.3,  425.3, 1224.2,  934. ,  616.8, 1990.6,  934.9,\n",
       "        917.9, 2152.8,  509.5, 1805.5, 1520.2,  924.1,  583.6, 2272.9,\n",
       "       2142.4,  759.8,  952.6,  750. ,  612.1,  530.1,  349.9, 1542.1,\n",
       "       2054.1,  867.1,  882.2,  880.1,  399.7, 2293. ,  382.8,  502. ,\n",
       "       1530.1,  912.7, 1011.8, 1128.5,  356.9,  306. ,  479.1,  471.9,\n",
       "        733.9,  268. ,  655.2,  856. ,  467.6, 1080.4, 1059.4, 1183.1,\n",
       "        713.8,  917.7, 1152.6,  631.5,  703.1, 1237. , 1402.9,  537. ,\n",
       "        997.3, 1359.1,  508.5, 1997.5, 2108. , 1204.5, 1663.9,  438.1,\n",
       "        502.1,  368.9, 1641.9,  802.6,  564.5,  879.4,  794.6,  953.2,\n",
       "        830.3, 1573.8, 1708.5,  455.3, 1290.5,  906. , 1606.1, 1150.3,\n",
       "       1727.2,  609.2,  305.3, 1381. ,  861.2,  309.6,  837.6, 1533.6,\n",
       "       1083.3,  711.1,  777.1,  714. ,  368. , 1490.2, 1002.2,  383.9,\n",
       "       1023.2,  947.3,  856.2, 1234.4,  705.7])"
      ]
     },
     "execution_count": 401,
     "metadata": {},
     "output_type": "execute_result"
    }
   ],
   "source": [
    "np.sum(np.mean(D_ext,axis=0),axis=1)[-1,:]"
   ]
  },
  {
   "cell_type": "code",
   "execution_count": 402,
   "metadata": {},
   "outputs": [
    {
     "data": {
      "text/plain": [
       "[<matplotlib.lines.Line2D at 0x1389c9630>]"
      ]
     },
     "execution_count": 402,
     "metadata": {},
     "output_type": "execute_result"
    },
    {
     "data": {
      "image/png": "[encoded data removed]",
      "text/plain": [
       "<Figure size 432x288 with 1 Axes>"
      ]
     },
     "metadata": {},
     "output_type": "display_data"
    }
   ],
   "source": [
    "plt.plot(np.mean(np.sum(D_ext,axis=(2,3)),axis=0))"
   ]
  },
  {
   "cell_type": "code",
   "execution_count": 403,
   "metadata": {},
   "outputs": [
    {
     "data": {
      "text/plain": [
       "80286.2"
      ]
     },
     "execution_count": 403,
     "metadata": {},
     "output_type": "execute_result"
    }
   ],
   "source": [
    "np.sum(np.mean(I_ext,axis=0),axis=(1,2))[155-lag]"
   ]
  },
  {
   "cell_type": "code",
   "execution_count": 404,
   "metadata": {},
   "outputs": [
    {
     "data": {
      "text/plain": [
       "423230.80000000005"
      ]
     },
     "execution_count": 404,
     "metadata": {},
     "output_type": "execute_result"
    }
   ],
   "source": [
    "np.max(np.sum(np.mean(I_ext,axis=0),axis=(1,2))[100:])"
   ]
  },
  {
   "cell_type": "code",
   "execution_count": 405,
   "metadata": {},
   "outputs": [
    {
     "data": {
      "text/plain": [
       "321195.3"
      ]
     },
     "execution_count": 405,
     "metadata": {},
     "output_type": "execute_result"
    }
   ],
   "source": [
    "np.sum(np.mean(A_ext,axis=0),axis=(1,2))[155-lag]"
   ]
  },
  {
   "cell_type": "code",
   "execution_count": 406,
   "metadata": {},
   "outputs": [
    {
     "data": {
      "text/plain": [
       "40538.299999999996"
      ]
     },
     "execution_count": 406,
     "metadata": {},
     "output_type": "execute_result"
    }
   ],
   "source": [
    "np.sum(np.mean(D_ext,axis=0),axis=(1,2))[155-lag]"
   ]
  },
  {
   "cell_type": "code",
   "execution_count": 407,
   "metadata": {},
   "outputs": [
    {
     "data": {
      "text/plain": [
       "133469.9"
      ]
     },
     "execution_count": 407,
     "metadata": {},
     "output_type": "execute_result"
    }
   ],
   "source": [
    "np.sum(np.mean(D_ext,axis=0),axis=(1,2))[-1]"
   ]
  },
  {
   "cell_type": "code",
   "execution_count": 408,
   "metadata": {},
   "outputs": [
    {
     "data": {
      "text/plain": [
       "1492273.7999999998"
      ]
     },
     "execution_count": 408,
     "metadata": {},
     "output_type": "execute_result"
    }
   ],
   "source": [
    "np.max(np.sum(np.mean(A_ext,axis=0),axis=(1,2))[100:])"
   ]
  },
  {
   "cell_type": "code",
   "execution_count": 409,
   "metadata": {
    "scrolled": true
   },
   "outputs": [
    {
     "data": {
      "text/plain": [
       "(10, 400)"
      ]
     },
     "execution_count": 409,
     "metadata": {},
     "output_type": "execute_result"
    }
   ],
   "source": [
    "england_reported.shape"
   ]
  },
  {
   "cell_type": "code",
   "execution_count": 410,
   "metadata": {},
   "outputs": [
    {
     "data": {
      "text/plain": [
       "295669710420.4149"
      ]
     },
     "execution_count": 410,
     "metadata": {},
     "output_type": "execute_result"
    }
   ],
   "source": [
    "np.mean(costs)"
   ]
  },
  {
   "cell_type": "code",
   "execution_count": 299,
   "metadata": {},
   "outputs": [],
   "source": [
    "b1 = np.mean(england_reported,axis=0)+np.std(england_reported,axis=0)\n",
    "b2 = np.mean(england_reported,axis=0)-np.std(england_reported,axis=0)\n"
   ]
  },
  {
   "cell_type": "code",
   "execution_count": 300,
   "metadata": {},
   "outputs": [
    {
     "name": "stdout",
     "output_type": "stream",
     "text": [
      "/Users/renyuanxu/Dropbox/Research_Codes/epidemic_code/Revision_November/different_agegroups/16age_groups\r\n"
     ]
    }
   ],
   "source": [
    "!pwd"
   ]
  },
  {
   "cell_type": "code",
   "execution_count": 301,
   "metadata": {},
   "outputs": [
    {
     "data": {
      "image/png": "[encoded data removed]",
      "text/plain": [
       "<Figure size 432x288 with 1 Axes>"
      ]
     },
     "metadata": {},
     "output_type": "display_data"
    }
   ],
   "source": [
    "plt.fill_between(xx[:400],b1,b2,alpha=0.5)\n",
    "plt.plot(xx[:400],np.mean(england_reported,axis=0),linewidth=3)\n",
    "plt.hlines(threshold1, 0,400,color='green',label=r'$ B_{on}\\times N/100,000$',linewidth=3)\n",
    "plt.hlines(threshold2, 0,400,color='orange',label=r'$B_{off}\\times N/100,000$',linewidth=3)\n",
    "plt.ylabel('Reported cases')\n",
    "plt.xlabel('t (days)')\n",
    "plt.legend()\n",
    "plt.savefig(\"results/centralised_reported_england_16agegroups.png\",bbox_inches=\"tight\")"
   ]
  },
  {
   "cell_type": "code",
   "execution_count": 302,
   "metadata": {},
   "outputs": [
    {
     "data": {
      "text/plain": [
       "(10, 400)"
      ]
     },
     "execution_count": 302,
     "metadata": {},
     "output_type": "execute_result"
    }
   ],
   "source": [
    "england_reported.shape"
   ]
  },
  {
   "cell_type": "code",
   "execution_count": 303,
   "metadata": {},
   "outputs": [],
   "source": [
    "path=3"
   ]
  },
  {
   "cell_type": "code",
   "execution_count": 304,
   "metadata": {},
   "outputs": [
    {
     "data": {
      "image/png": "[encoded data removed]",
      "text/plain": [
       "<Figure size 432x288 with 1 Axes>"
      ]
     },
     "metadata": {},
     "output_type": "display_data"
    }
   ],
   "source": [
    "#plt.fill_between(xx[:400],b1,b2,alpha=0.5)\n",
    "plt.plot(xx[:400],england_reported[path,:],linewidth=3)\n",
    "plt.hlines(threshold1, 0,400,color='green',label=r'$ B_{on}\\times N/100,000$',linewidth=3)\n",
    "plt.hlines(threshold2, 0,400,color='orange',label=r'$ B_{off}\\times N/100,000$',linewidth=3)\n",
    "plt.ylabel('Reported cases')\n",
    "plt.xlabel('t (days)')\n",
    "plt.legend()\n",
    "plt.savefig(\"results/centralised_reported_england_1path.png\",bbox_inches=\"tight\")"
   ]
  },
  {
   "cell_type": "markdown",
   "metadata": {},
   "source": [
    "# Region 37"
   ]
  },
  {
   "cell_type": "code",
   "execution_count": 305,
   "metadata": {},
   "outputs": [
    {
     "data": {
      "text/plain": [
       "'UKF21'"
      ]
     },
     "execution_count": 305,
     "metadata": {},
     "output_type": "execute_result"
    }
   ],
   "source": [
    "region_order[37]"
   ]
  },
  {
   "cell_type": "code",
   "execution_count": 306,
   "metadata": {},
   "outputs": [
    {
     "data": {
      "text/plain": [
       "(1001, 16, 133)"
      ]
     },
     "execution_count": 306,
     "metadata": {},
     "output_type": "execute_result"
    }
   ],
   "source": [
    "regional_real_cases.shape"
   ]
  },
  {
   "cell_type": "code",
   "execution_count": 307,
   "metadata": {},
   "outputs": [
    {
     "data": {
      "text/plain": [
       "(16, 133)"
      ]
     },
     "execution_count": 307,
     "metadata": {},
     "output_type": "execute_result"
    }
   ],
   "source": [
    "N_mat.shape"
   ]
  },
  {
   "cell_type": "code",
   "execution_count": 308,
   "metadata": {},
   "outputs": [],
   "source": [
    "pop_ratio = np.sum(N_mat[:,37])/np.sum(N_mat)"
   ]
  },
  {
   "cell_type": "code",
   "execution_count": 309,
   "metadata": {},
   "outputs": [
    {
     "data": {
      "text/plain": [
       "14.29576"
      ]
     },
     "execution_count": 309,
     "metadata": {},
     "output_type": "execute_result"
    }
   ],
   "source": [
    "np.sum(N_mat[:,37])/100000*4"
   ]
  },
  {
   "cell_type": "code",
   "execution_count": 310,
   "metadata": {},
   "outputs": [
    {
     "data": {
      "text/plain": [
       "14.252163141954588"
      ]
     },
     "execution_count": 310,
     "metadata": {},
     "output_type": "execute_result"
    }
   ],
   "source": [
    "threshold1*pop_ratio"
   ]
  },
  {
   "cell_type": "code",
   "execution_count": 311,
   "metadata": {},
   "outputs": [
    {
     "data": {
      "text/plain": [
       "5.700865256781835"
      ]
     },
     "execution_count": 311,
     "metadata": {},
     "output_type": "execute_result"
    }
   ],
   "source": [
    "threshold2*pop_ratio"
   ]
  },
  {
   "cell_type": "code",
   "execution_count": 312,
   "metadata": {},
   "outputs": [],
   "source": [
    "a1 = np.mean(leicester_reported,axis=0)+np.std(leicester_reported,axis=0)\n",
    "a2 = np.mean(leicester_reported,axis=0)-np.std(leicester_reported,axis=0)"
   ]
  },
  {
   "cell_type": "code",
   "execution_count": 313,
   "metadata": {},
   "outputs": [
    {
     "data": {
      "image/png": "[encoded data removed]",
      "text/plain": [
       "<Figure size 432x288 with 1 Axes>"
      ]
     },
     "metadata": {},
     "output_type": "display_data"
    }
   ],
   "source": [
    "plt.fill_between(xx[:400],a1,a2,alpha=0.5)\n",
    "plt.plot(xx[:400],np.mean(leicester_reported,axis=0),linewidth=3)\n",
    "plt.hlines(threshold1*pop_ratio, 0,400,color='green',label=r'$B_{on}\\times N(r)/100,000$',linewidth=3)\n",
    "plt.hlines(threshold2*pop_ratio, 0,400,color='orange',label=r'$B_{off}\\times N(r)/100,000$',linewidth=3)\n",
    "plt.ylabel('Reported cases')\n",
    "plt.xlabel('t (days)')\n",
    "plt.legend()\n",
    "plt.savefig(\"results/centralised_reported_leicester_16agegroups.png\",bbox_inches=\"tight\")"
   ]
  },
  {
   "cell_type": "code",
   "execution_count": 314,
   "metadata": {},
   "outputs": [
    {
     "data": {
      "image/png": "[encoded data removed]",
      "text/plain": [
       "<Figure size 432x288 with 1 Axes>"
      ]
     },
     "metadata": {},
     "output_type": "display_data"
    }
   ],
   "source": [
    "plt.plot(xx[:400],leicester_reported[path,:],linewidth=3)\n",
    "plt.hlines(threshold1*pop_ratio, 0,400,color='green',label=r'$B_{on}\\times N(r)/100,000$',linewidth=3)\n",
    "plt.hlines(threshold2*pop_ratio, 0,400,color='orange',label=r'$B_{off}\\times N(r)/100,000$',linewidth=3)\n",
    "plt.ylabel('Reported cases')\n",
    "plt.xlabel('t (days)')\n",
    "plt.legend()\n",
    "plt.savefig(\"results/centralised_reported_leicester_1path.png\",bbox_inches=\"tight\")"
   ]
  },
  {
   "cell_type": "markdown",
   "metadata": {},
   "source": [
    "## Export for comparison"
   ]
  },
  {
   "cell_type": "code",
   "execution_count": 315,
   "metadata": {
    "scrolled": true
   },
   "outputs": [],
   "source": [
    "I_mean = np.mean(np.sum(I_ext,axis=(2,3)),axis=0)[:500]\n",
    "I_std = np.std(np.sum(I_ext,axis=(2,3)),axis=0)[:500]\n",
    "\n",
    "D_mean = np.mean(np.sum(D_ext,axis=(2,3)),axis=0)[:500]\n",
    "D_std = np.std(np.sum(D_ext,axis=(2,3)),axis=0)[:500]\n",
    "\n",
    "output = pd.DataFrame(columns = [\"I_mean\",\"I_std\",\"D_mean\",\"D_std\"])\n",
    "#plt.hlines(threshold1, 0,400,color='green',label=r'$ R_{on}\\times N/100,000$',linewidth=3)\n",
    "#plt.hlines(threshold2, 0,400,color='orange',label=r'$ R_{off}\\times N/100,000$',linewidth=3)\n",
    "output['I_mean'] = I_mean\n",
    "output['I_std'] = I_std\n",
    "output['D_mean'] = D_mean\n",
    "output['D_std'] = D_std\n",
    "\n",
    "output.to_csv('nation_adaptive_16agegroups.csv',index=False)"
   ]
  },
  {
   "cell_type": "code",
   "execution_count": 316,
   "metadata": {},
   "outputs": [],
   "source": [
    "Re_Le_mean = np.mean(leicester_reported,axis=0)[:400]\n",
    "Re_Le_std = np.std(leicester_reported,axis=0)[:400]\n",
    "\n",
    "Re_En_mean = np.mean(england_reported,axis=0)[:400]\n",
    "Re_En_std =np.std(england_reported,axis=0)[:400]\n",
    "\n",
    "output = pd.DataFrame(columns = [\"Re_Le_mean\",\"Re_Le_std\",\"Re_En_mean\",\"Re_En_std\"])\n",
    "#plt.hlines(threshold1, 0,400,color='green',label=r'$ R_{on}\\times N/100,000$',linewidth=3)\n",
    "#plt.hlines(threshold2, 0,400,color='orange',label=r'$ R_{off}\\times N/100,000$',linewidth=3)\n",
    "output['Re_Le_mean'] = Re_Le_mean \n",
    "output['Re_Le_std'] = Re_Le_std\n",
    "output['Re_En_mean'] = Re_En_mean\n",
    "output['Re_En_std'] = Re_En_std\n",
    "\n",
    "output.to_csv('nation_adaptive_16agegroups_reported.csv',index=False)"
   ]
  },
  {
   "cell_type": "code",
   "execution_count": 317,
   "metadata": {},
   "outputs": [
    {
     "data": {
      "text/plain": [
       "43303831.300000004"
      ]
     },
     "execution_count": 317,
     "metadata": {},
     "output_type": "execute_result"
    }
   ],
   "source": [
    "np.sum(np.mean(R_ext,axis=0),axis=(1,2))[-1]+np.sum(np.mean(D_ext,axis=0),axis=(1,2))[-1]"
   ]
  },
  {
   "cell_type": "code",
   "execution_count": 318,
   "metadata": {},
   "outputs": [
    {
     "data": {
      "text/plain": [
       "133184.70000000004"
      ]
     },
     "execution_count": 318,
     "metadata": {},
     "output_type": "execute_result"
    }
   ],
   "source": [
    "np.sum(np.mean(D_ext,axis=0),axis=(1,2))[-1]"
   ]
  },
  {
   "cell_type": "code",
   "execution_count": 319,
   "metadata": {},
   "outputs": [
    {
     "data": {
      "text/plain": [
       "[<matplotlib.lines.Line2D at 0x139074eb8>]"
      ]
     },
     "execution_count": 319,
     "metadata": {},
     "output_type": "execute_result"
    },
    {
     "data": {
      "image/png": "[encoded data removed]",
      "text/plain": [
       "<Figure size 432x288 with 1 Axes>"
      ]
     },
     "metadata": {},
     "output_type": "display_data"
    }
   ],
   "source": [
    "plt.plot(np.sum(np.mean(D_ext,axis=0),axis=(1,2)),linewidth=2.5)\n"
   ]
  },
  {
   "cell_type": "code",
   "execution_count": 320,
   "metadata": {},
   "outputs": [
    {
     "data": {
      "text/plain": [
       "[<matplotlib.lines.Line2D at 0x138bcbbe0>]"
      ]
     },
     "execution_count": 320,
     "metadata": {},
     "output_type": "execute_result"
    },
    {
     "data": {
      "image/png": "[encoded data removed]",
      "text/plain": [
       "<Figure size 432x288 with 1 Axes>"
      ]
     },
     "metadata": {},
     "output_type": "display_data"
    }
   ],
   "source": [
    "plt.plot(np.sum(np.mean(I_ext,axis=0),axis=(1,2)),linewidth=2.5)\n"
   ]
  },
  {
   "cell_type": "code",
   "execution_count": 321,
   "metadata": {},
   "outputs": [
    {
     "name": "stdout",
     "output_type": "stream",
     "text": [
      "UKI32 UKJ14 UKG31\n"
     ]
    }
   ],
   "source": [
    "print(region_order[69],region_order[89],region_order[48])"
   ]
  },
  {
   "cell_type": "code",
   "execution_count": 322,
   "metadata": {},
   "outputs": [],
   "source": [
    "D_ext_region_69 = D_ext[:,:,:,69]\n",
    "D_ext_region_89 = D_ext[:,:,:,89]\n",
    "D_ext_region_48 =  D_ext[:,:,:,48]\n",
    "\n",
    "\n",
    "D_ext_region_80 = D_ext[:,:,:,80]\n",
    "I_ext_region_80 = I_ext[:,:,:,80]\n",
    "\n",
    "D_ext_region_20 = D_ext[:,:,:,20]\n",
    "I_ext_region_20 = I_ext[:,:,:,20]\n",
    "\n",
    "D_ext_region_24 = D_ext[:,:,:,24]\n",
    "I_ext_region_24 = I_ext[:,:,:,24]\n",
    "\n",
    "D_ext_region_48 = D_ext[:,:,:,48]\n",
    "I_ext_region_48 = I_ext[:,:,:,48]\n",
    "\n",
    "D_ext_region_69 = D_ext[:,:,:,69]\n",
    "I_ext_region_69 = I_ext[:,:,:,69]\n",
    "\n",
    "D_ext_region_89 = D_ext[:,:,:,89]\n",
    "I_ext_region_89 = I_ext[:,:,:,89]\n",
    "\n",
    "D_ext_region_37 = D_ext[:,:,:,37]\n",
    "I_ext_region_37 = I_ext[:,:,:,37]\n",
    "\n",
    "data = {\"region_24_I\":np.sum(np.mean(I_ext_region_24,axis=0),axis=1) ,\"region_24_D\":np.sum(np.mean(D_ext_region_24,axis=0),axis=1),\n",
    "        \"region_48_I\":np.sum(np.mean(I_ext_region_48,axis=0),axis=1) ,\"region_48_D\":np.sum(np.mean(D_ext_region_48,axis=0),axis=1),\n",
    "        \"region_69_I\":np.sum(np.mean(I_ext_region_69,axis=0),axis=1) ,\"region_69_D\":np.sum(np.mean(D_ext_region_69,axis=0),axis=1),\n",
    "        \"region_89_I\":np.sum(np.mean(I_ext_region_89,axis=0),axis=1) ,\"region_89_D\":np.sum(np.mean(D_ext_region_89,axis=0),axis=1),\n",
    "        \"region_37_I\":np.sum(np.mean(I_ext_region_37,axis=0),axis=1) ,\"region_37_D\":np.sum(np.mean(D_ext_region_37,axis=0),axis=1),\n",
    "        \"england_I\":np.sum(np.mean(I_ext,axis=0),axis=(1,2)),\"england_D\":np.sum(np.mean(D_ext,axis=0),axis=(1,2))}"
   ]
  },
  {
   "cell_type": "code",
   "execution_count": 323,
   "metadata": {},
   "outputs": [],
   "source": [
    "data = pd.DataFrame(data)\n",
    "\n",
    "data.to_csv('data/feedback_40_04R_050_07.csv',index=False)"
   ]
  },
  {
   "cell_type": "code",
   "execution_count": 324,
   "metadata": {},
   "outputs": [],
   "source": [
    "total_death_rgs = np.zeros(133)\n",
    "\n",
    "for i in range(133):\n",
    "    total_death_rgs[i] = np.sum(np.mean(D_ext[:,:,:,i],axis=0),axis=1)[-1]\n",
    "\n",
    "data_fatality = pd.DataFrame(columns=['region','death_countrywide'])\n",
    "\n",
    "data_fatality['region'] = d_table['region']\n",
    "\n",
    "data_fatality['death_countrywide'] = total_death_rgs\n",
    "\n",
    "data_fatality.to_csv('data/death_visualziation.csv',index=False)"
   ]
  },
  {
   "cell_type": "markdown",
   "metadata": {},
   "source": [
    "# Two extreme scenarios"
   ]
  },
  {
   "cell_type": "code",
   "execution_count": 325,
   "metadata": {},
   "outputs": [
    {
     "name": "stdout",
     "output_type": "stream",
     "text": [
      "0\n",
      "1\n",
      "2\n",
      "3\n",
      "4\n"
     ]
    }
   ],
   "source": [
    "relax =  0.5\n",
    "th1 = 100  *56\n",
    "th2 = th1 *0.4\n",
    "last_day = 7\n",
    "nn = 1000\n",
    "stop_bf_last = 2000\n",
    "paths = 5\n",
    "\n",
    "D_ext4 = np.zeros((paths,nn+1,16,133))\n",
    "I_ext4 = np.zeros((paths,nn+1,16,133))\n",
    "costs4 = np.zeros(paths)\n",
    "\n",
    "for path in range(paths):\n",
    "    print(path)\n",
    "    S,E,I,A,D,R,signals,regional_real_cases,england_real_cases,regional_confirm_cases,england_confirm_cases, total_contact = SEIR_Policy_on_off(init_vals, C, Sigma,p,f, params,scale,simulation_eff_dates,sigma_adjust1,sigma_adjust2,th1,th2,relax,last_day,stop_bf_last,nn)\n",
    "    lenss = np.array(D).shape[0]\n",
    "    D_ext4[path,:lenss,:,:] = np.array(D)\n",
    "    D_ext4[path,lenss:,:,:] = np.array(D)[-1,:,:]\n",
    "    I_ext4[path,:lenss,:,:] = np.array(I)\n",
    "    costs4[path] = benchmark_total_contact - total_contact\n"
   ]
  },
  {
   "cell_type": "code",
   "execution_count": 326,
   "metadata": {},
   "outputs": [
    {
     "name": "stdout",
     "output_type": "stream",
     "text": [
      "0\n",
      "1\n",
      "2\n",
      "3\n",
      "4\n"
     ]
    }
   ],
   "source": [
    "relax =  0.5\n",
    "th1 = 20  *56\n",
    "th2 = th1 *0.4\n",
    "last_day = 7\n",
    "nn = 1000\n",
    "stop_bf_last = 2000\n",
    "paths = 5\n",
    "\n",
    "D_ext5 = np.zeros((paths,nn+1,16,133))\n",
    "I_ext5 = np.zeros((paths,nn+1,16,133))\n",
    "costs5 = np.zeros(paths)\n",
    "\n",
    "for path in range(paths):\n",
    "    print(path)\n",
    "    S,E,I,A,D,R,signals,regional_real_cases,england_real_cases,regional_confirm_cases,england_confirm_cases, total_contact = SEIR_Policy_on_off(init_vals, C, Sigma,p,f, params,scale,simulation_eff_dates,sigma_adjust1,sigma_adjust2,th1,th2,relax,last_day,stop_bf_last,nn)\n",
    "    lenss = np.array(D).shape[0]\n",
    "    D_ext5[path,:lenss,:,:] = np.array(D)\n",
    "    D_ext5[path,lenss:,:,:] = np.array(D)[-1,:,:]\n",
    "    I_ext5[path,:lenss,:,:] = np.array(I)\n",
    "    costs5[path] = benchmark_total_contact - total_contact\n"
   ]
  },
  {
   "cell_type": "code",
   "execution_count": 327,
   "metadata": {},
   "outputs": [],
   "source": [
    "Trags_I4 = np.sum(I_ext4, axis=(2,3))\n",
    "Deaths4 =  np.sum(D_ext4, axis=(2,3))\n",
    "\n",
    "I_mean4 = np.mean(Trags_I4, axis=0)\n",
    "I_std4 = np.std(Trags_I4, axis=0)\n",
    "\n",
    "D_mean4 = np.mean(Deaths4, axis=0)\n",
    "D_std4 = np.std(Deaths4, axis=0)\n",
    "\n",
    "Trags_I5 = np.sum(I_ext5, axis=(2,3))\n",
    "Deaths5 =  np.sum(D_ext5, axis=(2,3))\n",
    "\n",
    "I_mean5 = np.mean(Trags_I5, axis=0)\n",
    "I_std5 = np.std(Trags_I5, axis=0)\n",
    "\n",
    "D_mean5 = np.mean(Deaths5, axis=0)\n",
    "D_std5 = np.std(Deaths5, axis=0)"
   ]
  },
  {
   "cell_type": "code",
   "execution_count": 328,
   "metadata": {},
   "outputs": [
    {
     "name": "stdout",
     "output_type": "stream",
     "text": [
      "290940205922.38495 307282987122.97516\n"
     ]
    }
   ],
   "source": [
    "print(np.mean(costs4),np.mean(costs5))"
   ]
  },
  {
   "cell_type": "code",
   "execution_count": 329,
   "metadata": {},
   "outputs": [],
   "source": [
    "lag = 10"
   ]
  },
  {
   "cell_type": "code",
   "execution_count": 330,
   "metadata": {},
   "outputs": [],
   "source": [
    "xx = np.cumsum(np.ones(len(D_mean5)))-1+lag"
   ]
  },
  {
   "cell_type": "code",
   "execution_count": 331,
   "metadata": {},
   "outputs": [
    {
     "data": {
      "image/png": "[encoded data removed]",
      "text/plain": [
       "<Figure size 432x288 with 1 Axes>"
      ]
     },
     "metadata": {},
     "output_type": "display_data"
    }
   ],
   "source": [
    "plt.plot(xx,D_mean4, linewidth = 3, label = \"$B_{on}=10$\",linestyle='--')\n",
    "plt.plot(xx,D_mean5, linewidth = 3, label = \"$B_{on}=2$\")\n",
    "plt.xlabel('t (days)')\n",
    "plt.ylabel('Fatalities')\n",
    "plt.legend()\n",
    "plt.savefig('results/extreme_countrywide_feedback_comparison_Dt_lowratio.png',bbox_inches=\"tight\")"
   ]
  },
  {
   "cell_type": "code",
   "execution_count": 332,
   "metadata": {},
   "outputs": [
    {
     "data": {
      "text/plain": [
       "0.17669520864897476"
      ]
     },
     "execution_count": 332,
     "metadata": {},
     "output_type": "execute_result"
    }
   ],
   "source": [
    "(D_mean4[-1]-D_mean5[-1])/D_mean4[-1]"
   ]
  },
  {
   "cell_type": "code",
   "execution_count": 333,
   "metadata": {},
   "outputs": [
    {
     "data": {
      "text/plain": [
       "120093.0"
      ]
     },
     "execution_count": 333,
     "metadata": {},
     "output_type": "execute_result"
    }
   ],
   "source": [
    "D_mean5[-1]"
   ]
  },
  {
   "cell_type": "code",
   "execution_count": 334,
   "metadata": {},
   "outputs": [
    {
     "data": {
      "image/png": "[encoded data removed]",
      "text/plain": [
       "<Figure size 432x288 with 1 Axes>"
      ]
     },
     "metadata": {},
     "output_type": "display_data"
    }
   ],
   "source": [
    "plt.plot(xx,I_mean4, linewidth = 3, label = \"$B_{on}=10$\",linestyle='--')\n",
    "plt.plot(xx,I_mean5, linewidth = 3, label = \"$B_{on}=2$\")\n",
    "plt.xlabel('t (days)')\n",
    "plt.ylabel(r'$I_t$')\n",
    "plt.legend()\n",
    "plt.savefig('results/extreme_countrywide_feedback_comparison_It_lowratio.png',bbox_inches=\"tight\")"
   ]
  },
  {
   "cell_type": "code",
   "execution_count": 335,
   "metadata": {},
   "outputs": [],
   "source": [
    "region = 89"
   ]
  },
  {
   "cell_type": "code",
   "execution_count": 336,
   "metadata": {},
   "outputs": [
    {
     "data": {
      "text/plain": [
       "'UKJ14'"
      ]
     },
     "execution_count": 336,
     "metadata": {},
     "output_type": "execute_result"
    }
   ],
   "source": [
    "region_order[region]"
   ]
  },
  {
   "cell_type": "code",
   "execution_count": 337,
   "metadata": {},
   "outputs": [
    {
     "data": {
      "image/png": "[encoded data removed]",
      "text/plain": [
       "<Figure size 432x288 with 1 Axes>"
      ]
     },
     "metadata": {},
     "output_type": "display_data"
    }
   ],
   "source": [
    "plt.plot(np.mean(np.sum(I_ext4,axis=2),axis=0)[:,region],linewidth=2.5, label = r\"$B_{on}=10$ \",linestyle='--')\n",
    "plt.plot(np.mean(np.sum(I_ext5,axis=2),axis=0)[:,region],linewidth=2.5, label = \" $B_{on}=2$\")\n",
    "plt.xlabel('t (days)')\n",
    "plt.ylabel(r'$I_t$')\n",
    "plt.legend()\n",
    "plt.savefig('results/extreme_countrywide_feedback_comparison_UKJ14_lowratio.png',bbox_inches=\"tight\")"
   ]
  },
  {
   "cell_type": "markdown",
   "metadata": {},
   "source": [
    "# Increasing reporting probability"
   ]
  },
  {
   "cell_type": "code",
   "execution_count": 338,
   "metadata": {},
   "outputs": [],
   "source": [
    "pi1 = 4.5/100\n",
    "pi2 = 4.5/100\n",
    "# 0.005,0.25,2,6\n",
    "#f = np.array([f0,f1,f2,f3,f4,f5,f6,f7,f8,f9,f10,f11,f12,f13,f14,f15]).reshape(16,1)/100\n",
    "params =alpha, beta, gamma, kappa,pi1,pi2"
   ]
  },
  {
   "cell_type": "code",
   "execution_count": 339,
   "metadata": {},
   "outputs": [
    {
     "name": "stdout",
     "output_type": "stream",
     "text": [
      "0\n",
      "1\n",
      "2\n",
      "3\n",
      "4\n"
     ]
    }
   ],
   "source": [
    "relax =  0.5\n",
    "th1 = 60  *56\n",
    "th2 = th1 *0.4\n",
    "last_day = 7\n",
    "nn = 1000\n",
    "stop_bf_last = 2000\n",
    "paths = 5\n",
    "\n",
    "D_ext7 = np.zeros((paths,nn+1,16,133))\n",
    "I_ext7 = np.zeros((paths,nn+1,16,133))\n",
    "costs7 = np.zeros(paths)\n",
    "np.random.seed(5)\n",
    "for path in range(paths):\n",
    "    print(path)\n",
    "    S,E,I,A,D,R,signals,regional_real_cases,england_real_cases,regional_confirm_cases,england_confirm_cases, total_contact = SEIR_Policy_on_off(init_vals, C, Sigma,p,f, params,scale,simulation_eff_dates,sigma_adjust1,sigma_adjust2,th1,th2,relax,last_day,stop_bf_last,nn)\n",
    "    lenss = np.array(D).shape[0]\n",
    "    D_ext7[path,:lenss,:,:] = np.array(D)\n",
    "    D_ext7[path,lenss:,:,:] = np.array(D)[-1,:,:]\n",
    "    I_ext7[path,:lenss,:,:] = np.array(I)\n",
    "    costs7[path] = benchmark_total_contact - total_contact\n",
    "\n"
   ]
  },
  {
   "cell_type": "code",
   "execution_count": 340,
   "metadata": {},
   "outputs": [],
   "source": [
    "pi1 = 4.5/100\n",
    "pi2 = 20/100\n",
    "# 0.005,0.25,2,6\n",
    "#f = np.array([f0,f1,f2,f3,f4,f5,f6,f7,f8,f9,f10,f11,f12,f13,f14,f15]).reshape(16,1)/100\n",
    "params =alpha, beta, gamma, kappa,pi1,pi2"
   ]
  },
  {
   "cell_type": "code",
   "execution_count": 341,
   "metadata": {},
   "outputs": [
    {
     "name": "stdout",
     "output_type": "stream",
     "text": [
      "0\n",
      "1\n",
      "2\n",
      "3\n",
      "4\n"
     ]
    }
   ],
   "source": [
    "relax =  0.5\n",
    "th1 = 60  *56\n",
    "th2 = th1 *0.4\n",
    "last_day = 7\n",
    "nn = 1000\n",
    "stop_bf_last = 2000\n",
    "paths = 5\n",
    "\n",
    "D_ext8 = np.zeros((paths,nn+1,16,133))\n",
    "I_ext8 = np.zeros((paths,nn+1,16,133))\n",
    "costs8 = np.zeros(paths)\n",
    "np.random.seed(5)\n",
    "\n",
    "for path in range(paths):\n",
    "    print(path)\n",
    "    S,E,I,A,D,R,signals,regional_real_cases,england_real_cases,regional_confirm_cases,england_confirm_cases, total_contact = SEIR_Policy_on_off(init_vals, C, Sigma,p,f, params,scale,simulation_eff_dates,sigma_adjust1,sigma_adjust2,th1,th2,relax,last_day,stop_bf_last,nn)\n",
    "    lenss = np.array(D).shape[0]\n",
    "    D_ext8[path,:lenss,:,:] = np.array(D)\n",
    "    D_ext8[path,lenss:,:,:] = np.array(D)[-1,:,:]\n",
    "    I_ext8[path,:lenss,:,:] = np.array(I)\n",
    "    costs8[path] = benchmark_total_contact - total_contact"
   ]
  },
  {
   "cell_type": "code",
   "execution_count": 342,
   "metadata": {},
   "outputs": [],
   "source": [
    "pi1 = 4.5/100\n",
    "pi2 = 50/100\n",
    "# 0.005,0.25,2,6\n",
    "#f = np.array([f0,f1,f2,f3,f4,f5,f6,f7,f8,f9,f10,f11,f12,f13,f14,f15]).reshape(16,1)/100\n",
    "params =alpha, beta, gamma, kappa,pi1,pi2"
   ]
  },
  {
   "cell_type": "code",
   "execution_count": 343,
   "metadata": {},
   "outputs": [
    {
     "name": "stdout",
     "output_type": "stream",
     "text": [
      "0\n",
      "1\n",
      "2\n",
      "3\n",
      "4\n"
     ]
    }
   ],
   "source": [
    "relax =  0.5\n",
    "th1 = 60  *56\n",
    "th2 = th1 *0.4\n",
    "last_day = 7\n",
    "nn = 1000\n",
    "stop_bf_last = 2000\n",
    "paths = 5\n",
    "\n",
    "D_ext9 = np.zeros((paths,nn+1,16,133))\n",
    "I_ext9 = np.zeros((paths,nn+1,16,133))\n",
    "costs9 = np.zeros(paths)\n",
    "np.random.seed(5)\n",
    "\n",
    "for path in range(paths):\n",
    "    print(path)\n",
    "    S,E,I,A,D,R,signals,regional_real_cases,england_real_cases,regional_confirm_cases,england_confirm_cases, total_contact = SEIR_Policy_on_off(init_vals, C, Sigma,p,f, params,scale,simulation_eff_dates,sigma_adjust1,sigma_adjust2,th1,th2,relax,last_day,stop_bf_last,nn)\n",
    "    lenss = np.array(D).shape[0]\n",
    "    D_ext9[path,:lenss,:,:] = np.array(D)\n",
    "    D_ext9[path,lenss:,:,:] = np.array(D)[-1,:,:]\n",
    "    I_ext9[path,:lenss,:,:] = np.array(I)\n",
    "    costs9[path] = benchmark_total_contact - total_contact"
   ]
  },
  {
   "cell_type": "code",
   "execution_count": 344,
   "metadata": {},
   "outputs": [],
   "source": [
    "Trags_I7 = np.sum(I_ext7, axis=(2,3))\n",
    "Deaths7 =  np.sum(D_ext7, axis=(2,3))\n",
    "\n",
    "I_mean7 = np.mean(Trags_I7, axis=0)\n",
    "I_std7 = np.std(Trags_I7, axis=0)\n",
    "\n",
    "D_mean7 = np.mean(Deaths7, axis=0)\n",
    "D_std7 = np.std(Deaths7, axis=0)\n",
    "\n",
    "Trags_I8 = np.sum(I_ext8, axis=(2,3))\n",
    "Deaths8 =  np.sum(D_ext8, axis=(2,3))\n",
    "\n",
    "I_mean8 = np.mean(Trags_I8, axis=0)\n",
    "I_std8 = np.std(Trags_I8, axis=0)\n",
    "\n",
    "D_mean8 = np.mean(Deaths8, axis=0)\n",
    "D_std8 = np.std(Deaths8, axis=0)\n",
    "\n",
    "\n",
    "Trags_I9 = np.sum(I_ext9, axis=(2,3))\n",
    "Deaths9 =  np.sum(D_ext9, axis=(2,3))\n",
    "\n",
    "I_mean9 = np.mean(Trags_I9, axis=0)\n",
    "I_std9 = np.std(Trags_I9, axis=0)\n",
    "\n",
    "D_mean9 = np.mean(Deaths9, axis=0)\n",
    "D_std9 = np.std(Deaths9, axis=0)"
   ]
  },
  {
   "cell_type": "code",
   "execution_count": 345,
   "metadata": {},
   "outputs": [
    {
     "data": {
      "image/png": "[encoded data removed]",
      "text/plain": [
       "<Figure size 432x288 with 1 Axes>"
      ]
     },
     "metadata": {},
     "output_type": "display_data"
    }
   ],
   "source": [
    "plt.plot(xx,D_mean7, linewidth = 3, label = r\"$\\pi=4.5\\%$\",linestyle='--')\n",
    "plt.plot(xx,D_mean8, linewidth = 3, label = r\"$\\pi=20\\%$\")\n",
    "plt.plot(xx,D_mean9, linewidth = 3, label = r\"$\\pi=50\\%$\",linestyle=':')\n",
    "\n",
    "plt.xlabel('t (days)')\n",
    "plt.ylabel('Fatalities')\n",
    "plt.legend()\n",
    "plt.savefig('results/countrywide_feedback_testing_capacity_Dt_lowratio.png',bbox_inches=\"tight\")"
   ]
  },
  {
   "cell_type": "code",
   "execution_count": 346,
   "metadata": {},
   "outputs": [
    {
     "data": {
      "image/png": "[encoded data removed]",
      "text/plain": [
       "<Figure size 432x288 with 1 Axes>"
      ]
     },
     "metadata": {},
     "output_type": "display_data"
    }
   ],
   "source": [
    "plt.plot(np.mean(np.sum(I_ext7,axis=2),axis=0)[:,region],linewidth=3, label = r\"$\\pi=4.5\\%$\",linestyle='--')\n",
    "plt.plot(np.mean(np.sum(I_ext8,axis=2),axis=0)[:,region],linewidth=3, label = r\"$\\pi=20\\%$\")\n",
    "plt.plot(np.mean(np.sum(I_ext9,axis=2),axis=0)[:,region],linewidth=3, label = r\"$\\pi=50\\%$\",linestyle=':')\n",
    "plt.xlabel('t (days)')\n",
    "plt.ylabel(r'$I_t$')\n",
    "plt.legend()\n",
    "plt.savefig('results/countrywide_feedback_testing_capacity_It_lowratio.png',bbox_inches=\"tight\")"
   ]
  },
  {
   "cell_type": "code",
   "execution_count": 347,
   "metadata": {},
   "outputs": [
    {
     "name": "stdout",
     "output_type": "stream",
     "text": [
      "293102265121.4845 317174407958.8544 362793857059.84924\n"
     ]
    }
   ],
   "source": [
    "print(np.mean(costs7),np.mean(costs8),np.mean(costs9))"
   ]
  },
  {
   "cell_type": "code",
   "execution_count": 348,
   "metadata": {},
   "outputs": [
    {
     "name": "stdout",
     "output_type": "stream",
     "text": [
      "137616.4 114311.6 103701.8\n"
     ]
    }
   ],
   "source": [
    "print(D_mean7[-1],D_mean8[-1],D_mean9[-1])"
   ]
  },
  {
   "cell_type": "code",
   "execution_count": 241,
   "metadata": {},
   "outputs": [],
   "source": [
    "sigma_adjust1.sort() "
   ]
  },
  {
   "cell_type": "code",
   "execution_count": 349,
   "metadata": {},
   "outputs": [
    {
     "data": {
      "text/html": [
       "<div>\n",
       "<style scoped>\n",
       "    .dataframe tbody tr th:only-of-type {\n",
       "        vertical-align: middle;\n",
       "    }\n",
       "\n",
       "    .dataframe tbody tr th {\n",
       "        vertical-align: top;\n",
       "    }\n",
       "\n",
       "    .dataframe thead th {\n",
       "        text-align: right;\n",
       "    }\n",
       "</style>\n",
       "<table border=\"1\" class=\"dataframe\">\n",
       "  <thead>\n",
       "    <tr style=\"text-align: right;\">\n",
       "      <th></th>\n",
       "      <th>region</th>\n",
       "      <th>d_adjust1</th>\n",
       "      <th>d_adjust2</th>\n",
       "      <th>adjust_dates</th>\n",
       "      <th>initialization</th>\n",
       "    </tr>\n",
       "  </thead>\n",
       "  <tbody>\n",
       "    <tr>\n",
       "      <th>0</th>\n",
       "      <td>UKC11</td>\n",
       "      <td>1.045941</td>\n",
       "      <td>1.466334</td>\n",
       "      <td>25.0</td>\n",
       "      <td>5.000000</td>\n",
       "    </tr>\n",
       "    <tr>\n",
       "      <th>1</th>\n",
       "      <td>UKC12</td>\n",
       "      <td>1.804483</td>\n",
       "      <td>1.018565</td>\n",
       "      <td>23.0</td>\n",
       "      <td>2.000000</td>\n",
       "    </tr>\n",
       "    <tr>\n",
       "      <th>2</th>\n",
       "      <td>UKC13</td>\n",
       "      <td>1.259746</td>\n",
       "      <td>1.202675</td>\n",
       "      <td>27.0</td>\n",
       "      <td>2.000000</td>\n",
       "    </tr>\n",
       "    <tr>\n",
       "      <th>3</th>\n",
       "      <td>UKC22</td>\n",
       "      <td>1.049231</td>\n",
       "      <td>0.959281</td>\n",
       "      <td>25.0</td>\n",
       "      <td>21.000000</td>\n",
       "    </tr>\n",
       "    <tr>\n",
       "      <th>4</th>\n",
       "      <td>UKD12</td>\n",
       "      <td>1.154643</td>\n",
       "      <td>0.940007</td>\n",
       "      <td>22.0</td>\n",
       "      <td>17.055149</td>\n",
       "    </tr>\n",
       "    <tr>\n",
       "      <th>...</th>\n",
       "      <td>...</td>\n",
       "      <td>...</td>\n",
       "      <td>...</td>\n",
       "      <td>...</td>\n",
       "      <td>...</td>\n",
       "    </tr>\n",
       "    <tr>\n",
       "      <th>128</th>\n",
       "      <td>UKJ28</td>\n",
       "      <td>0.849863</td>\n",
       "      <td>0.777999</td>\n",
       "      <td>23.0</td>\n",
       "      <td>8.458674</td>\n",
       "    </tr>\n",
       "    <tr>\n",
       "      <th>129</th>\n",
       "      <td>UKI75</td>\n",
       "      <td>1.085533</td>\n",
       "      <td>0.845362</td>\n",
       "      <td>18.0</td>\n",
       "      <td>36.000000</td>\n",
       "    </tr>\n",
       "    <tr>\n",
       "      <th>130</th>\n",
       "      <td>UKD44</td>\n",
       "      <td>1.317403</td>\n",
       "      <td>1.045672</td>\n",
       "      <td>24.0</td>\n",
       "      <td>3.587218</td>\n",
       "    </tr>\n",
       "    <tr>\n",
       "      <th>131</th>\n",
       "      <td>UKJ35</td>\n",
       "      <td>0.877225</td>\n",
       "      <td>0.937636</td>\n",
       "      <td>23.0</td>\n",
       "      <td>28.010320</td>\n",
       "    </tr>\n",
       "    <tr>\n",
       "      <th>132</th>\n",
       "      <td>UKH25</td>\n",
       "      <td>1.185496</td>\n",
       "      <td>1.279336</td>\n",
       "      <td>20.0</td>\n",
       "      <td>11.000000</td>\n",
       "    </tr>\n",
       "  </tbody>\n",
       "</table>\n",
       "<p>133 rows × 5 columns</p>\n",
       "</div>"
      ],
      "text/plain": [
       "    region  d_adjust1  d_adjust2  adjust_dates  initialization\n",
       "0    UKC11   1.045941   1.466334          25.0        5.000000\n",
       "1    UKC12   1.804483   1.018565          23.0        2.000000\n",
       "2    UKC13   1.259746   1.202675          27.0        2.000000\n",
       "3    UKC22   1.049231   0.959281          25.0       21.000000\n",
       "4    UKD12   1.154643   0.940007          22.0       17.055149\n",
       "..     ...        ...        ...           ...             ...\n",
       "128  UKJ28   0.849863   0.777999          23.0        8.458674\n",
       "129  UKI75   1.085533   0.845362          18.0       36.000000\n",
       "130  UKD44   1.317403   1.045672          24.0        3.587218\n",
       "131  UKJ35   0.877225   0.937636          23.0       28.010320\n",
       "132  UKH25   1.185496   1.279336          20.0       11.000000\n",
       "\n",
       "[133 rows x 5 columns]"
      ]
     },
     "execution_count": 349,
     "metadata": {},
     "output_type": "execute_result"
    }
   ],
   "source": [
    "d_table"
   ]
  },
  {
   "cell_type": "code",
   "execution_count": 350,
   "metadata": {},
   "outputs": [
    {
     "data": {
      "text/plain": [
       "1      UKC12\n",
       "79     UKI53\n",
       "81     UKI62\n",
       "121    UKG32\n",
       "122    UKC23\n",
       "Name: region, dtype: object"
      ]
     },
     "execution_count": 350,
     "metadata": {},
     "output_type": "execute_result"
    }
   ],
   "source": [
    "d_table['region'][d_table['d_adjust1']>1.50]"
   ]
  },
  {
   "cell_type": "code",
   "execution_count": 351,
   "metadata": {},
   "outputs": [
    {
     "data": {
      "text/plain": [
       "1    UKC12\n",
       "Name: region, dtype: object"
      ]
     },
     "execution_count": 351,
     "metadata": {},
     "output_type": "execute_result"
    }
   ],
   "source": [
    "d_table['region'][d_table['d_adjust1']>1.80]"
   ]
  },
  {
   "cell_type": "markdown",
   "metadata": {},
   "source": [
    "# Region National Comparison 2"
   ]
  },
  {
   "cell_type": "code",
   "execution_count": 352,
   "metadata": {},
   "outputs": [],
   "source": [
    "pi1 = 4.5/100\n",
    "pi2 = 4.5/100\n",
    "# 0.005,0.25,2,6\n",
    "#f = np.array([f0,f1,f2,f3,f4,f5,f6,f7,f8,f9,f10,f11,f12,f13,f14,f15]).reshape(16,1)/100\n",
    "params =alpha, beta, gamma, kappa,pi1,pi2"
   ]
  },
  {
   "cell_type": "code",
   "execution_count": 353,
   "metadata": {},
   "outputs": [],
   "source": [
    "threshold1 =  60* 56\n",
    "threshold2 =  0.4 * threshold1\n",
    "relax = 0.5\n",
    "control_last = 7\n",
    "nn = 1000\n",
    "end = nn+1\n",
    "stop_bf_last = 2000\n"
   ]
  },
  {
   "cell_type": "code",
   "execution_count": 354,
   "metadata": {},
   "outputs": [
    {
     "name": "stdout",
     "output_type": "stream",
     "text": [
      "0\n",
      "1\n",
      "2\n",
      "3\n",
      "4\n",
      "5\n",
      "6\n",
      "7\n",
      "8\n",
      "9\n",
      "10\n",
      "11\n",
      "12\n",
      "13\n",
      "14\n",
      "15\n",
      "16\n",
      "17\n",
      "18\n",
      "19\n"
     ]
    }
   ],
   "source": [
    "paths = 20\n",
    "D_ext = np.zeros((paths,nn+1,16,133))\n",
    "I_ext = np.zeros((paths,nn+1,16,133))\n",
    "A_ext = np.zeros((paths,nn+1,16,133))\n",
    "R_ext = np.zeros((paths,nn+1,16,133))\n",
    "costs = np.zeros(paths)\n",
    "england_reported = np.zeros((paths,400))\n",
    "leicester_reported = np.zeros((paths,400))\n",
    "for path in range(paths):\n",
    "    print(path)\n",
    "    S,E,I,A,D,R,signals,regional_real_cases,england_real_cases,regional_confirm_cases,england_confirm_cases, total_contact = SEIR_Policy_on_off(init_vals, C, Sigma,p,f, params,scale,simulation_eff_dates,sigma_adjust1,sigma_adjust2,threshold1,threshold2,relax,control_last,stop_bf_last,nn)\n",
    "    england_reported[path,:] = np.sum(england_confirm_cases,axis=1)[:400]\n",
    "    leicester_reported[path,:] = np.sum(regional_confirm_cases[:,:,37],axis=1)[:400]\n",
    "    lenss = np.array(D).shape[0]\n",
    "    D_ext[path,:lenss,:,:] = np.array(D)\n",
    "    D_ext[path,lenss:,:,:] = np.array(D)[-1,:,:]\n",
    "    R_ext[path,:lenss,:,:] = np.array(R)\n",
    "    R_ext[path,lenss:,:,:] = np.array(R)[-1,:,:]\n",
    "    I_ext[path,:lenss,:,:] = np.array(I)\n",
    "    A_ext[path,:lenss,:,:] = np.array(A)\n",
    "    costs[path] = benchmark_total_contact - total_contact"
   ]
  },
  {
   "cell_type": "code",
   "execution_count": 355,
   "metadata": {},
   "outputs": [
    {
     "data": {
      "image/png": "[encoded data removed]",
      "text/plain": [
       "<Figure size 432x288 with 1 Axes>"
      ]
     },
     "metadata": {},
     "output_type": "display_data"
    }
   ],
   "source": [
    "I_mean = np.mean(np.sum(I_ext,axis=(2,3)),axis=0)[:500]\n",
    "I_std = np.std(np.sum(I_ext,axis=(2,3)),axis=0)[:500]\n",
    "\n",
    "D_mean = np.mean(np.sum(D_ext,axis=(2,3)),axis=0)[:500]\n",
    "D_std = np.std(np.sum(D_ext,axis=(2,3)),axis=0)[:500]\n",
    "\n",
    "output = pd.DataFrame(columns = [\"I_mean\",\"I_std\",\"D_mean\",\"D_std\"])\n",
    "plt.hlines(threshold1, 0,400,color='green',label=r'$ R_{on}\\times N/100,000$',linewidth=3)\n",
    "plt.hlines(threshold2, 0,400,color='orange',label=r'$ R_{off}\\times N/100,000$',linewidth=3)\n",
    "output['I_mean'] = I_mean\n",
    "output['I_std'] = I_std\n",
    "output['D_mean'] = D_mean\n",
    "output['D_std'] = D_std\n",
    "\n",
    "output.to_csv('nation_adaptive_16agegroups_60_04R_040_07.csv',index=False)"
   ]
  },
  {
   "cell_type": "code",
   "execution_count": 356,
   "metadata": {},
   "outputs": [
    {
     "data": {
      "image/png": "[encoded data removed]",
      "text/plain": [
       "<Figure size 432x288 with 1 Axes>"
      ]
     },
     "metadata": {},
     "output_type": "display_data"
    }
   ],
   "source": [
    "Re_Le_mean = np.mean(leicester_reported,axis=0)[:400]\n",
    "Re_Le_std = np.std(leicester_reported,axis=0)[:400]\n",
    "\n",
    "Re_En_mean = np.mean(england_reported,axis=0)[:400]\n",
    "Re_En_std =np.std(england_reported,axis=0)[:400]\n",
    "\n",
    "output = pd.DataFrame(columns = [\"Re_Le_mean\",\"Re_Le_std\",\"Re_En_mean\",\"Re_En_std\"])\n",
    "plt.hlines(threshold1, 0,400,color='green',label=r'$ R_{on}\\times N/100,000$',linewidth=3)\n",
    "plt.hlines(threshold2, 0,400,color='orange',label=r'$ R_{off}\\times N/100,000$',linewidth=3)\n",
    "output['Re_Le_mean'] = Re_Le_mean \n",
    "output['Re_Le_std'] = Re_Le_std\n",
    "output['Re_En_mean'] = Re_En_mean\n",
    "output['Re_En_std'] = Re_En_std\n",
    "\n",
    "output.to_csv('nation_adaptive_16agegroups_reported_60_04R_040_07.csv',index=False)"
   ]
  },
  {
   "cell_type": "code",
   "execution_count": 357,
   "metadata": {},
   "outputs": [],
   "source": [
    "D_ext_region_69 = D_ext[:,:,:,69]\n",
    "D_ext_region_89 = D_ext[:,:,:,89]\n",
    "D_ext_region_48 =  D_ext[:,:,:,48]\n",
    "\n",
    "\n",
    "D_ext_region_80 = D_ext[:,:,:,80]\n",
    "I_ext_region_80 = I_ext[:,:,:,80]\n",
    "\n",
    "D_ext_region_20 = D_ext[:,:,:,20]\n",
    "I_ext_region_20 = I_ext[:,:,:,20]\n",
    "\n",
    "D_ext_region_24 = D_ext[:,:,:,24]\n",
    "I_ext_region_24 = I_ext[:,:,:,24]\n",
    "\n",
    "D_ext_region_48 = D_ext[:,:,:,48]\n",
    "I_ext_region_48 = I_ext[:,:,:,48]\n",
    "\n",
    "D_ext_region_69 = D_ext[:,:,:,69]\n",
    "I_ext_region_69 = I_ext[:,:,:,69]\n",
    "\n",
    "D_ext_region_89 = D_ext[:,:,:,89]\n",
    "I_ext_region_89 = I_ext[:,:,:,89]\n",
    "\n",
    "D_ext_region_37 = D_ext[:,:,:,37]\n",
    "I_ext_region_37 = I_ext[:,:,:,37]\n",
    "\n",
    "data = {\"region_24_I\":np.sum(np.mean(I_ext_region_24,axis=0),axis=1) ,\"region_24_D\":np.sum(np.mean(D_ext_region_24,axis=0),axis=1),\n",
    "        \"region_48_I\":np.sum(np.mean(I_ext_region_48,axis=0),axis=1) ,\"region_48_D\":np.sum(np.mean(D_ext_region_48,axis=0),axis=1),\n",
    "        \"region_69_I\":np.sum(np.mean(I_ext_region_69,axis=0),axis=1) ,\"region_69_D\":np.sum(np.mean(D_ext_region_69,axis=0),axis=1),\n",
    "        \"region_89_I\":np.sum(np.mean(I_ext_region_89,axis=0),axis=1) ,\"region_89_D\":np.sum(np.mean(D_ext_region_89,axis=0),axis=1),\n",
    "        \"region_37_I\":np.sum(np.mean(I_ext_region_37,axis=0),axis=1) ,\"region_37_D\":np.sum(np.mean(D_ext_region_37,axis=0),axis=1),\n",
    "        \"england_I\":np.sum(np.mean(I_ext,axis=0),axis=(1,2)),\"england_D\":np.sum(np.mean(D_ext,axis=0),axis=(1,2))}"
   ]
  },
  {
   "cell_type": "code",
   "execution_count": 358,
   "metadata": {},
   "outputs": [],
   "source": [
    "data = pd.DataFrame(data)\n",
    "\n",
    "data.to_csv('data/feedback_60_04R_040_07.csv',index=False)"
   ]
  },
  {
   "cell_type": "code",
   "execution_count": 360,
   "metadata": {},
   "outputs": [],
   "source": [
    "total_death_rgs = np.zeros(133)\n",
    "\n",
    "for i in range(133):\n",
    "    total_death_rgs[i] = np.sum(np.mean(D_ext[:,:,:,i],axis=0),axis=1)[-1]\n",
    "\n",
    "data_fatality = pd.DataFrame(columns=['region','death_countrywide'])\n",
    "\n",
    "data_fatality['region'] = d_table['region']\n",
    "\n",
    "data_fatality['death_countrywide'] = total_death_rgs\n",
    "\n",
    "data_fatality.to_csv('data/death_visualziation_60_04R_040_07.csv',index=False)"
   ]
  },
  {
   "cell_type": "code",
   "execution_count": null,
   "metadata": {},
   "outputs": [],
   "source": []
  }
 ],
 "metadata": {
  "kernelspec": {
   "display_name": "Python 3",
   "language": "python",
   "name": "python3"
  },
  "language_info": {
   "codemirror_mode": {
    "name": "ipython",
    "version": 3
   },
   "file_extension": ".py",
   "mimetype": "text/x-python",
   "name": "python",
   "nbconvert_exporter": "python",
   "pygments_lexer": "ipython3",
   "version": "3.6.5"
  }
 },
 "nbformat": 4,
 "nbformat_minor": 4
}
