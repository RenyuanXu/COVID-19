{
 "cells": [
  {
   "cell_type": "code",
   "execution_count": 1,
   "metadata": {},
   "outputs": [
    {
     "name": "stderr",
     "output_type": "stream",
     "text": [
      "/Users/renyuanxu/.pyenv/versions/3.6.5/envs/py365/lib/python3.6/site-packages/pandas/compat/__init__.py:117: UserWarning: Could not import the lzma module. Your installed Python is incomplete. Attempting to use lzma compression will result in a RuntimeError.\n",
      "  warnings.warn(msg)\n"
     ]
    }
   ],
   "source": [
    "import numpy as np\n",
    "import pandas as pd\n",
    "import matplotlib.pyplot as plt\n",
    "%matplotlib inline\n",
    "import math\n",
    "import scipy.stats\n",
    "#import seaborn as sns\n",
    "#sns.set(style=\"whitegrid\")\n",
    "import time\n",
    "import seaborn as sns; sns.set()\n",
    "import statsmodels.api as sm\n",
    "from sklearn.linear_model import LinearRegression\n",
    "import scipy\n",
    "import random"
   ]
  },
  {
   "cell_type": "markdown",
   "metadata": {},
   "source": [
    "# Functions"
   ]
  },
  {
   "cell_type": "code",
   "execution_count": 2,
   "metadata": {},
   "outputs": [],
   "source": [
    "def Sigma_adjust_Ext(eff_dates,sigma_adjust1,sigma_adjust2,d,nn):\n",
    "    scale_ext = np.zeros((133,nn))\n",
    "    for r in range(133):\n",
    "        eff_date = int(eff_dates[r])\n",
    "        scale_ext[r,:eff_date] = sigma_adjust1[r]*np.ones(int(eff_date))\n",
    "        scale_ext[r,eff_date:] = d*sigma_adjust2[r]*np.ones(int(nn - eff_date))\n",
    "    return scale_ext"
   ]
  },
  {
   "cell_type": "code",
   "execution_count": 3,
   "metadata": {},
   "outputs": [],
   "source": [
    "def C_series(eff_dates,pr1,pr2,nn):\n",
    "    C_ext = np.zeros((133,nn))\n",
    "    for r in range(133):\n",
    "        eff_date = int(eff_dates[r])\n",
    "        C_ext[r,:eff_date] = pr1*np.ones(int(eff_date))\n",
    "        C_ext[r,eff_date:] = pr2*np.ones(int(nn - eff_date))\n",
    "    return C_ext"
   ]
  },
  {
   "cell_type": "code",
   "execution_count": 4,
   "metadata": {},
   "outputs": [],
   "source": [
    "# function without shielding\n",
    "def SEIR_Policy_on_off(init_vals, C_, Sigma_, p,f, params, d, eff_dates,sigma_adjust1,sigma_adjust2,threshold1,threshold2,relax,control_last,last_bf_stop,nn):\n",
    "    ## input\n",
    "    # nn is the number of days\n",
    "    #S_0,E_0,I_0,R_0: dimension: A*R\n",
    "    # C is a matrix in dimension R*R with compotnent c_(r,r')\n",
    "    # p is vector in dimension A with each column equals to p_a\n",
    "    S_0, E_0, I_0, A_0, D_0,R_0 = init_vals\n",
    "    \n",
    "    N_A, N_K = S_0.shape[0], S_0.shape[1]\n",
    "      \n",
    "    S, E, I, A, D, R = [S_0], [E_0], [I_0], [A_0], [D_0],[R_0]\n",
    "    \n",
    "    # N: total number of people in each class: matrix dimension A*R\n",
    "    N = S_0 + E_0 + I_0 + R_0 +D_0+ A_0\n",
    "    S_i, E_i, I_i, A_i, D_i, R_i = S_0.copy(), E_0.copy(), I_0.copy(), A_0.copy(), D_0.copy(),R_0.copy()\n",
    "    alpha, beta, gamma, kappa,pi1,pi2  = params\n",
    "    Sigma = Sigma_\n",
    "    C = C_\n",
    "    \n",
    "    ### time-dependent parameters\n",
    "    scale_ts = Sigma_adjust_Ext(eff_dates,sigma_adjust1,sigma_adjust2,d,nn)\n",
    "    C_ts = C_series(eff_dates,1.0,0.2,nn)\n",
    "    \n",
    "    total_contact = 0\n",
    "    regional_real_cases = np.zeros((nn+1,N_A,N_K))\n",
    "    regional_confirm_cases = np.zeros((nn+1,N_A,N_K))\n",
    "    england_real_cases = np.zeros((nn+1,N_A))\n",
    "    england_confirm_cases = np.zeros((nn+1,N_A))\n",
    "    \n",
    "    regional_real_cases[0,:,] = I_0\n",
    "    england_real_cases[0] = np.sum(I_0)\n",
    "    for region in range(N_K):\n",
    "            for age in range(N_A):\n",
    "                number = I_0[age,region]\n",
    "                regional_confirm_cases[0,age,region] =  np.random.binomial(number, pi1, 1)[0] \n",
    "    england_confirm_cases[0,:] = np.sum(regional_confirm_cases[0,:,:],axis=1)\n",
    "    \n",
    "    # signal==0 means relax policy (not control)\n",
    "    # signal > 0 means control\n",
    "    signal = 1 \n",
    "    signals = np.zeros(nn+1)\n",
    "    signals[0] = 1\n",
    "    consecutive_pointer = last_bf_stop\n",
    "    \n",
    "    mask_base = np.arange(16)\n",
    "    mask = (mask_base < 4) | (mask_base > 11)\n",
    "    for t in range(nn):\n",
    "        day_contact = 0\n",
    "        Lambda = np.zeros((N_A,N_K))\n",
    "        if signal > 0:\n",
    "            C_r = C_ts[:,t]*C_ + (1-C_ts[:,t])*np.identity(N_K)\n",
    "            Lambda += np.dot(Sigma[:,mask], np.reshape(scale_ts[:,t], (1, -1)) * alpha *(kappa*I_i[mask,:]+A_i[mask,:])/N[mask,:])\n",
    "            Lambda += np.dot(Sigma[:,~mask], np.reshape(scale_ts[:,t], (1, -1)) * alpha * np.dot((kappa*I_i[~mask,:]+A_i[~mask,:])/N[~mask,:], C_r.T))\n",
    "            day_contact += (N * np.dot(np.reshape(np.sum(Sigma, axis=-1), (-1, 1)), np.reshape(scale_ts[:,t], (1, -1)))).flatten().sum()\n",
    "            \n",
    "            #for r in range(N_K):\n",
    "            #    C_r = C_ts[r,t]*C_ + (1-C_ts[r,t])*np.identity(133)\n",
    "            #    for a in range(N_A):\n",
    "            #        for a_prime in [0,1,2,3,12,13,14,15]:\n",
    "            #            Lambda[a,r] += scale_ts[r,t] * alpha * Sigma[a,a_prime] * (kappa*I_i[a_prime,r]+A_i[a_prime,r])/N[a_prime,r]\n",
    "            #        for a_prime in [4,5,6,7,8,9,10,11]:\n",
    "            #            Lambda[a,r] += scale_ts[r,t] * alpha * Sigma[a,a_prime] * ((C_r[r,:]).dot((kappa*I_i[a_prime,:]+A_i[a_prime,:])/N[a_prime,:]))\n",
    "            #    \n",
    "            #        day_contact +=  N[a,r] * scale_ts[r,t] * np.sum(Sigma[a,:])\n",
    "        if signal ==0 :\n",
    "            C_ts_tmp = relax\n",
    "            C_r = C_ts_tmp*C_ + (1-C_ts_tmp)*np.identity(N_K)\n",
    "            scale_ts_tmp = relax*sigma_adjust1 + (1-relax)*scale_ts[:,t] \n",
    "            Lambda += (alpha * np.dot(Sigma[:, mask], (kappa*I_i[mask,:]+A_i[mask,:])/N[mask,:] * scale_ts_tmp.reshape((1, -1))))\n",
    "            Lambda += (alpha * np.dot(Sigma[:,~mask], np.dot((kappa*I_i[~mask,:]+A_i[~mask,:])/N[~mask,:], C_r.T) * scale_ts_tmp.reshape((1, -1))))\n",
    "            day_contact +=  (N * np.dot(Sigma.sum(axis=-1).reshape((-1, 1)), scale_ts_tmp.reshape((1, -1)))).flatten().sum()\n",
    "            \n",
    "            \n",
    "            #for r in range(N_K):\n",
    "            #    C_ts_tmp = relax #np.min([1,relax*C_ts[r,t]])\n",
    "            #    C_r = C_ts_tmp*C_ + (1-C_ts_tmp)*np.identity(133)\n",
    "            #    scale_ts_tmp = relax*sigma_adjust1[r]+ (1-relax)*scale_ts[r,t]\n",
    "            #    for a in range(N_A):\n",
    "            #        for a_prime in [0,1,2,3,12,13,14,15]:\n",
    "            #            Lambda[a,r] += scale_ts_tmp * alpha * Sigma[a,a_prime] * (kappa*I_i[a_prime,r]+A_i[a_prime,r])/N[a_prime,r]\n",
    "            #        for a_prime in [4,5,6,7,8,9,10,11]:\n",
    "            #            Lambda[a,r] += scale_ts_tmp * alpha * Sigma[a,a_prime] * ((C_r[r,:]).dot((kappa*I_i[a_prime,:]+A_i[a_prime,:])/N[a_prime,:]))\n",
    "                \n",
    "            #        day_contact +=  N[a,r] *scale_ts_tmp*np.sum(Sigma[a,:])\n",
    "        #if signal == -1 : \n",
    "        #    C_r =C_\n",
    "        #    scale_ts_tmp = sigma_adjust1 \n",
    "        #    Lambda += (alpha * np.dot(Sigma[:, mask], (kappa*I_i[mask,:]+A_i[mask,:])/N[mask,:] * scale_ts_tmp.reshape((1, -1))))\n",
    "        #    Lambda += (alpha * np.dot(Sigma[:,~mask], np.dot((kappa*I_i[~mask,:]+A_i[~mask,:])/N[~mask,:], C_r.T) * scale_ts_tmp.reshape((1, -1))))\n",
    "        #    day_contact +=  (N * np.dot(Sigma.sum(axis=-1).reshape((-1, 1)), scale_ts_tmp.reshape((1, -1)))).flatten().sum()\n",
    "            \n",
    "            \n",
    "            #for r in range(N_K):\n",
    "            #    C_r = C_\n",
    "            #    for a in range(N_A):\n",
    "            #        for a_prime in [0,1,2,3,12,13,14,15]:\n",
    "            #            Lambda[a,r] += sigma_adjust1[r] * alpha * Sigma[a,a_prime] * (kappa*I_i[a_prime,r]+A_i[a_prime,r])/N[a_prime,r]\n",
    "            #        for a_prime in [4,5,6,7,8,9,10,11]:\n",
    "            #            Lambda[a,r] += sigma_adjust1[r]* alpha * Sigma[a,a_prime] * ((C_r[r,:]).dot((kappa*I_i[a_prime,:]+A_i[a_prime,:])/N[a_prime,:]))\n",
    "            #    \n",
    "            #        day_contact +=  N[a,r] *sigma_adjust1[r]*np.sum(Sigma[a,:])\n",
    "        \n",
    "        total_contact += day_contact        \n",
    "        dI_i = np.zeros((N_A,N_K))\n",
    "        dA_i = np.zeros((N_A,N_K))\n",
    "        for a in range(N_A):\n",
    "            dI_i[a,:] += p[a]*beta*E_i[a,:]\n",
    "            dA_i[a,:] += (1-p[a])*beta*E_i[a,:]\n",
    "        \n",
    "        compartment_prob = np.array([(S_i*Lambda), dI_i, dA_i ,(gamma*f*I_i),(gamma*(1-f)*I_i),(gamma*A_i)]).reshape(6*N_A*N_K)\n",
    "\n",
    "        compartment_prob = np.asarray(compartment_prob).astype(np.float64)\n",
    "        ratio = np.sum(compartment_prob)\n",
    "        if ratio > 0:\n",
    "            compartment_prob /= np.sum(compartment_prob)\n",
    "        else:\n",
    "            total_contact += (nn-t)*day_contact   \n",
    "            return S,E,I,A,D,R,signals,regional_real_cases,england_real_cases,regional_confirm_cases,england_confirm_cases,  total_contact\n",
    "\n",
    "        number_event = np.random.poisson(ratio,1)[0]\n",
    "    \n",
    "        ind = np.random.multinomial(number_event, compartment_prob, size=1)\n",
    "        \n",
    "        ind = ind.reshape(6,N_A,N_K)\n",
    "\n",
    "        \n",
    "\n",
    "        S_i += -ind[0,:,:]\n",
    "        E_i += ind[0,:,:]-ind[1,:,:]-ind[2,:,:]\n",
    "        I_i += ind[1,:,:]-ind[3,:,:]-ind[4,:,:]\n",
    "        A_i += ind[2,:,:]-ind[5,:,:]\n",
    "        D_i += ind[3,:,:]\n",
    "        R_i += ind[4,:,:]+ind[5,:,:]\n",
    "        \n",
    "        S_i = (np.abs(S_i)+S_i)/2\n",
    "        E_i = (np.abs(E_i)+E_i)/2\n",
    "        A_i = (np.abs(A_i)+A_i)/2\n",
    "        D_i = (np.abs(D_i)+D_i)/2\n",
    "        I_i = (np.abs(I_i)+I_i)/2\n",
    "        R_i = (np.abs(R_i)+R_i)/2\n",
    "        \n",
    "        regional_real_cases[t+1,:,:] = ind[1,:,:]\n",
    "        england_real_cases[t+1,:] = np.sum(ind[1,:,:],axis=1)\n",
    "        \n",
    "        if t <= 120:\n",
    "            pi_ = pi1\n",
    "        else:\n",
    "            pi_ = pi2\n",
    "        \n",
    "        for region in range(N_K):\n",
    "            for age in range(N_A):\n",
    "                number = ind[1,age,region]\n",
    "                regional_confirm_cases[t+1,age,region] =  np.random.binomial(number, pi_, 1)[0] \n",
    "        \n",
    "        today_confirm = np.sum(regional_confirm_cases[t+1,:,:],axis=1)\n",
    "        england_confirm_cases[t+1,:] = today_confirm\n",
    "        # threshold2 < threshold1\n",
    "        if (np.sum(today_confirm)<threshold2) & (signal >=control_last) & (t> 120):\n",
    "            signal = 0\n",
    "        elif (np.sum(today_confirm)<threshold1) & (signal ==0) & (consecutive_pointer == 0):\n",
    "            signal = -1\n",
    "        elif (np.sum(today_confirm)<threshold1) & (signal ==-1):\n",
    "            signal = -1\n",
    "        elif (np.sum(today_confirm)<threshold1) & (signal ==0) & (consecutive_pointer > 0):\n",
    "            signal = 0\n",
    "            consecutive_pointer -=1\n",
    "        else:\n",
    "            signal = np.max([0,signal]) +1\n",
    "            consecutive_pointer = last_bf_stop\n",
    "        signals[t+1] = signal\n",
    "        \n",
    "        S.append(S_i.copy())\n",
    "        E.append(E_i.copy())\n",
    "        I.append(I_i.copy())\n",
    "        A.append(A_i.copy())\n",
    "        D.append(D_i.copy())\n",
    "        R.append(R_i.copy())\n",
    "         \n",
    "    return S,E,I,A,D,R,signals,regional_real_cases,england_real_cases,regional_confirm_cases,england_confirm_cases, total_contact"
   ]
  },
  {
   "cell_type": "markdown",
   "metadata": {},
   "source": [
    "# Import Data"
   ]
  },
  {
   "cell_type": "code",
   "execution_count": 5,
   "metadata": {},
   "outputs": [],
   "source": [
    "N_A= 16\n",
    "N_K = 133\n",
    "initial_day = 15"
   ]
  },
  {
   "cell_type": "code",
   "execution_count": 11,
   "metadata": {},
   "outputs": [],
   "source": [
    "# social contact among age group\n",
    "contact = pd.read_csv('data/contact_matrix_16_groups.csv')\n",
    "social_m = np.array(contact[['matrix..0.5.', 'matrix..5.10.', 'matrix..10.15.', 'matrix..15.20.',\n",
    "       'matrix..20.25.', 'matrix..25.30.', 'matrix..30.35.', 'matrix..35.40.',\n",
    "       'matrix..40.45.', 'matrix..45.50.', 'matrix..50.55.', 'matrix..55.60.',\n",
    "       'matrix..60.65.', 'matrix..65.70.', 'matrix..70.75.', 'matrix.75.']]).reshape(16,16)\n",
    "\n",
    "Sigma = social_m"
   ]
  },
  {
   "cell_type": "code",
   "execution_count": null,
   "metadata": {},
   "outputs": [],
   "source": []
  },
  {
   "cell_type": "code",
   "execution_count": 12,
   "metadata": {},
   "outputs": [],
   "source": [
    "#contact mtrix\n",
    "transport = pd.read_csv('data/CommuteMatrix-NUTS3.csv')\n",
    "transport_mat = np.array(transport)[:,1:].astype(float)\n",
    "C = transport_mat"
   ]
  },
  {
   "cell_type": "code",
   "execution_count": 13,
   "metadata": {},
   "outputs": [],
   "source": [
    "covid_data = pd.read_csv('data/UK-COVID-data.csv')\n",
    "covid_data_new = pd.DataFrame(columns = covid_data.columns)\n",
    "region_order = list(transport['Unnamed: 0'])"
   ]
  },
  {
   "cell_type": "code",
   "execution_count": 14,
   "metadata": {},
   "outputs": [],
   "source": [
    "for i in range(133):\n",
    "    region = region_order[i]\n",
    "    covid_data_new.loc[i] = covid_data[covid_data['id']==region].values[0]\n",
    "    #covid_data_new2.loc[i] = covid_data2[covid_data2['id']==region].values[0]"
   ]
  },
  {
   "cell_type": "code",
   "execution_count": 15,
   "metadata": {},
   "outputs": [
    {
     "name": "stdout",
     "output_type": "stream",
     "text": [
      "does all tables have the same region order:\n",
      "True\n"
     ]
    }
   ],
   "source": [
    "## Sanity check\n",
    "print('does all tables have the same region order:')\n",
    "covid_order = list(covid_data_new['id'])\n",
    "#covid_order2 = list(covid_data_new2['id'])\n",
    "\n",
    "region_order = list(transport['Unnamed: 0'])\n",
    "\n",
    "\n",
    "print(region_order==covid_order)\n",
    "#print(population_order==covid_order2)"
   ]
  },
  {
   "cell_type": "code",
   "execution_count": 16,
   "metadata": {},
   "outputs": [],
   "source": [
    "## Population data validation \n",
    "population = pd.read_csv('data/UK-COVID-data-with_ALL_age_groups.csv')\n",
    "population = population[['id','Y_LT5', 'Y5-9', 'Y10-14', 'Y15-19', 'Y20-24',\n",
    "       'Y25-29', 'Y30-34', 'Y35-39', 'Y40-44', 'Y45-49', 'Y50-54', 'Y55-59',\n",
    "       'Y60-64', 'Y65-69', 'Y70-74', 'Y75-79', 'Y80-84', 'Y85-89','Y_GE90']]"
   ]
  },
  {
   "cell_type": "code",
   "execution_count": 17,
   "metadata": {},
   "outputs": [],
   "source": [
    "population_new = pd.DataFrame(columns = population.columns)\n"
   ]
  },
  {
   "cell_type": "code",
   "execution_count": 18,
   "metadata": {},
   "outputs": [],
   "source": [
    "for i in range(133):\n",
    "    region = region_order[i]\n",
    "    population_new.loc[i] = population[population['id']==region].values[0]"
   ]
  },
  {
   "cell_type": "code",
   "execution_count": 19,
   "metadata": {},
   "outputs": [
    {
     "data": {
      "text/plain": [
       "56171302.0"
      ]
     },
     "execution_count": 19,
     "metadata": {},
     "output_type": "execute_result"
    }
   ],
   "source": [
    "N_mat2 = np.array(population_new[['Y_LT5', 'Y5-9', 'Y10-14', 'Y15-19', 'Y20-24',\n",
    "       'Y25-29', 'Y30-34', 'Y35-39', 'Y40-44', 'Y45-49', 'Y50-54', 'Y55-59',\n",
    "       'Y60-64', 'Y65-69', 'Y70-74', 'Y75-79', 'Y80-84', 'Y85-89','Y_GE90']]).T\n",
    "\n",
    "N_mat = np.zeros((16,133))\n",
    "\n",
    "N_mat[:15,:] = N_mat2[:15,:]\n",
    "\n",
    "N_mat[-1,:] = np.sum(N_mat2[15:,],axis=0)\n",
    "np.sum(N_mat)"
   ]
  },
  {
   "cell_type": "code",
   "execution_count": 20,
   "metadata": {},
   "outputs": [],
   "source": [
    "## Population density\n",
    "population_density = np.array(covid_data_new['population_density'])"
   ]
  },
  {
   "cell_type": "code",
   "execution_count": 22,
   "metadata": {},
   "outputs": [],
   "source": [
    "d_table =  pd.read_csv('data/d1d2_effdates_initialization_final_lowratio_133regions_16agegroups.csv')\n",
    "\n",
    "initial_covid = np.array(d_table['initialization'])"
   ]
  },
  {
   "cell_type": "code",
   "execution_count": 24,
   "metadata": {},
   "outputs": [],
   "source": [
    "sigma_adjust1 = np.array(d_table['d_adjust1'])\n",
    "sigma_adjust2 = np.array(d_table['d_adjust2'])\n",
    "simulation_eff_dates= np.array(d_table['adjust_dates'])"
   ]
  },
  {
   "cell_type": "code",
   "execution_count": 25,
   "metadata": {},
   "outputs": [],
   "source": [
    "real_cum_cases = np.sum(np.array(covid_data_new.iloc[0:13,(19+initial_day):133]).astype(float),axis = 0)"
   ]
  },
  {
   "cell_type": "code",
   "execution_count": 26,
   "metadata": {},
   "outputs": [],
   "source": [
    "real_cum_cases_ind = np.cumsum(np.ones(len(real_cum_cases)))+initial_day"
   ]
  },
  {
   "cell_type": "markdown",
   "metadata": {},
   "source": [
    "# Initialization\n"
   ]
  },
  {
   "cell_type": "code",
   "execution_count": 28,
   "metadata": {},
   "outputs": [],
   "source": [
    "alpha = 0.055 #+ np.random.normal(0, 0.01, 1)[0]\n",
    "beta = 0.2 #+ np.random.normal(0, 0.05, 1)[0]\n",
    "gamma = 0.1 #+ np.random.normal(0, 0.02, 1)[0]\n",
    "kappa = 0.5 # + np.random.normal(0, 0.05, 1)[0]\n",
    "f0 = 0.002 \n",
    "f1 = 0.002\n",
    "f2 = 0.01\n",
    "f3 = 0.01\n",
    "f4 = 0.05\n",
    "f5 = 0.05\n",
    "f6 = 0.1\n",
    "f7 = 0.1\n",
    "f8 =  0.2\n",
    "f9 = 0.2\n",
    "f10 = 0.6\n",
    "f11 = 0.6\n",
    "f12 = 2.0\n",
    "f13 = 2.0\n",
    "f14 = 4.0\n",
    "f15 = 7.5 \n",
    "\n",
    "p0 = 0.075 \n",
    "p1 =  0.075\n",
    "p2 = 0.05\n",
    "p3 = 0.05\n",
    "p4 = 0.15\n",
    "p5 = 0.15\n",
    "p6 = 0.21\n",
    "p7 = 0.21\n",
    "p8 =  0.23 \n",
    "p9 = 0.23 \n",
    "p10 = 0.28\n",
    "p11 = 0.28\n",
    "p12 =  0.41\n",
    "p13 =  0.41\n",
    "p14 =  0.375\n",
    "p15 = 0.375\n",
    "p = [p0,p1, p2,p3,p4,p5,p6,p7,p8,p9,p10,p11,p12,p13,p14,p15]\n",
    "pi1 = 4.5/100\n",
    "pi2 = 4.5/100\n",
    "# 0.005,0.25,2,6\n",
    "f = np.array([f0,f1,f2,f3,f4,f5,f6,f7,f8,f9,f10,f11,f12,f13,f14,f15]).reshape(16,1)/100\n",
    "params =alpha, beta, gamma, kappa,pi1,pi2"
   ]
  },
  {
   "cell_type": "code",
   "execution_count": 29,
   "metadata": {},
   "outputs": [],
   "source": [
    "scale = 0.12"
   ]
  },
  {
   "cell_type": "code",
   "execution_count": 30,
   "metadata": {
    "scrolled": true
   },
   "outputs": [
    {
     "data": {
      "text/plain": [
       "2652.096014648935"
      ]
     },
     "execution_count": 30,
     "metadata": {},
     "output_type": "execute_result"
    }
   ],
   "source": [
    "np.sum(initial_covid)"
   ]
  },
  {
   "cell_type": "code",
   "execution_count": 31,
   "metadata": {},
   "outputs": [],
   "source": [
    "## initial population\n",
    "init_sick = np.zeros((N_A,N_K))\n",
    "init_sick_scale = np.zeros((N_A,N_K))\n",
    "for a in [4,5,6,7,8,9,10,11]:\n",
    "    init_sick[a,:] = initial_covid*(N_mat[a,:])/np.sum(N_mat[4:12,:],axis=0)\n",
    "\n",
    "for a in [4,5,6,7,8,9,10,11]:\n",
    "    init_sick_scale[a,:] = init_sick[a,:]/(p[a]*pi1)\n",
    "#init_sick[1,44] = 5\n",
    "#init_sick[1,64] = 5\n",
    "init_vals = N_mat-(init_sick_scale).astype(int),(init_sick_scale).astype(int), np.zeros((N_A,N_K)), np.zeros((N_A,N_K)), np.zeros((N_A,N_K)), np.zeros((N_A,N_K))"
   ]
  },
  {
   "cell_type": "code",
   "execution_count": 32,
   "metadata": {},
   "outputs": [],
   "source": [
    "sns.set(font_scale=1.3)"
   ]
  },
  {
   "cell_type": "code",
   "execution_count": 33,
   "metadata": {},
   "outputs": [],
   "source": [
    "lag = 10"
   ]
  },
  {
   "cell_type": "markdown",
   "metadata": {},
   "source": [
    "# Experiments"
   ]
  },
  {
   "cell_type": "code",
   "execution_count": 35,
   "metadata": {},
   "outputs": [],
   "source": [
    "threshold1 =  40 * 56\n",
    "threshold2 =  0.4 * threshold1\n",
    "relax = 0.5\n",
    "control_last = 7\n",
    "nn = 500\n",
    "end = nn+1\n",
    "stop_bf_last = 2000\n",
    "np.random.seed(2)\n",
    "S,E,I,A,D,R,signals,regional_real_cases,england_real_cases,regional_confirm_cases,england_confirm_cases, total_contact = SEIR_Policy_on_off(init_vals, C, Sigma,p,f, params,scale,simulation_eff_dates,sigma_adjust1,sigma_adjust2,threshold1,threshold2,relax,control_last,stop_bf_last,nn)"
   ]
  },
  {
   "cell_type": "code",
   "execution_count": 37,
   "metadata": {},
   "outputs": [],
   "source": [
    "xx = np.cumsum(np.ones(nn))-1+lag"
   ]
  },
  {
   "cell_type": "code",
   "execution_count": null,
   "metadata": {},
   "outputs": [],
   "source": []
  },
  {
   "cell_type": "code",
   "execution_count": 49,
   "metadata": {},
   "outputs": [
    {
     "data": {
      "text/plain": [
       "<matplotlib.legend.Legend at 0x132271438>"
      ]
     },
     "execution_count": 49,
     "metadata": {},
     "output_type": "execute_result"
    },
    {
     "data": {
      "image/png": "[encoded data removed]",
      "text/plain": [
       "<Figure size 432x288 with 1 Axes>"
      ]
     },
     "metadata": {},
     "output_type": "display_data"
    }
   ],
   "source": [
    "\n",
    "plt.plot(xx[:400],np.sum(england_confirm_cases,axis=1)[:400],linewidth=3)\n",
    "plt.hlines(threshold1, 0,400,color='green',label=r'$ B_{on}\\times N/100,000$',linewidth=3)\n",
    "plt.hlines(threshold2, 0,400,color='orange',label=r'$ B_{off}\\times N/100,000$',linewidth=3)\n",
    "plt.ylabel('Reported cases')\n",
    "plt.xlabel('t (days)')\n",
    "plt.title('England')\n",
    "plt.legend()\n"
   ]
  },
  {
   "cell_type": "code",
   "execution_count": 50,
   "metadata": {},
   "outputs": [
    {
     "data": {
      "text/plain": [
       "<matplotlib.legend.Legend at 0x1323127f0>"
      ]
     },
     "execution_count": 50,
     "metadata": {},
     "output_type": "execute_result"
    },
    {
     "data": {
      "image/png": "[encoded data removed]",
      "text/plain": [
       "<Figure size 432x288 with 1 Axes>"
      ]
     },
     "metadata": {},
     "output_type": "display_data"
    }
   ],
   "source": [
    "# Region 37 is Leceister\n",
    "pop_ratio = np.sum(N_mat[:,37])/np.sum(N_mat)\n",
    "plt.plot(xx[:400],np.sum(regional_confirm_cases[:,:,37],axis=-1)[:400],linewidth=3)\n",
    "plt.hlines(threshold1*pop_ratio, 0,400,color='green',label=r'$B_{on}\\times N(r)/100,000$',linewidth=3)\n",
    "plt.hlines(threshold2*pop_ratio, 0,400,color='orange',label=r'$B_{off}\\times N(r)/100,000$',linewidth=3)\n",
    "plt.ylabel('Reported cases')\n",
    "plt.xlabel('t (days)')\n",
    "plt.title('Leceister')\n",
    "plt.legend()"
   ]
  }
 ],
 "metadata": {
  "kernelspec": {
   "display_name": "Python 3",
   "language": "python",
   "name": "python3"
  },
  "language_info": {
   "codemirror_mode": {
    "name": "ipython",
    "version": 3
   },
   "file_extension": ".py",
   "mimetype": "text/x-python",
   "name": "python",
   "nbconvert_exporter": "python",
   "pygments_lexer": "ipython3",
   "version": "3.6.5"
  }
 },
 "nbformat": 4,
 "nbformat_minor": 4
}
