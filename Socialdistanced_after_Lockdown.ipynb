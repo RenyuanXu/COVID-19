{
 "cells": [
  {
   "cell_type": "code",
   "execution_count": 88,
   "metadata": {},
   "outputs": [],
   "source": [
    "import numpy as np\n",
    "import pandas as pd\n",
    "import matplotlib.pyplot as plt\n",
    "%matplotlib inline\n",
    "import math\n",
    "import scipy.stats\n",
    "#import seaborn as sns\n",
    "#sns.set(style=\"whitegrid\")\n",
    "import time\n",
    "import seaborn as sns; sns.set()\n",
    "import statsmodels.api as sm\n",
    "from sklearn.linear_model import LinearRegression\n",
    "import scipy\n",
    "import random"
   ]
  },
  {
   "cell_type": "code",
   "execution_count": 89,
   "metadata": {},
   "outputs": [],
   "source": [
    "def Sigma_adjust_Ext(eff_dates,sigma_adjust1,sigma_adjust2,d,nn):\n",
    "    scale_ext = np.zeros((133,nn))\n",
    "    for r in range(133):\n",
    "        eff_date = int(eff_dates[r])\n",
    "        scale_ext[r,:eff_date] = sigma_adjust1[r]*np.ones(int(eff_date))\n",
    "        scale_ext[r,eff_date:] = d*sigma_adjust2[r]*np.ones(int(nn - eff_date))\n",
    "    return scale_ext"
   ]
  },
  {
   "cell_type": "code",
   "execution_count": 90,
   "metadata": {},
   "outputs": [],
   "source": [
    "def C_series(eff_dates,pr1,pr2,nn):\n",
    "    C_ext = np.zeros((133,nn))\n",
    "    for r in range(133):\n",
    "        eff_date = int(eff_dates[r])\n",
    "        C_ext[r,:eff_date] = pr1*np.ones(int(eff_date))\n",
    "        C_ext[r,eff_date:] = pr2*np.ones(int(nn - eff_date))\n",
    "    return C_ext"
   ]
  },
  {
   "cell_type": "code",
   "execution_count": 91,
   "metadata": {},
   "outputs": [],
   "source": [
    "def SEIR_Policy_relax(init_vals, C_, Sigma_, p,f, params, d, eff_dates,sigma_adjust1,sigma_adjust2,relax,relax_day,nn):\n",
    "    ## input\n",
    "    # nn is the number of days\n",
    "    #S_0,E_0,I_0,R_0: dimension: A*R\n",
    "    # C is a matrix in dimension R*R with compotnent c_(r,r')\n",
    "    # p is vector in dimension A with each column equals to p_a\n",
    "    S_0, E_0, I_0, A_0, D_0,R_0 = init_vals\n",
    "    \n",
    "    N_A, N_K = S_0.shape[0], S_0.shape[1]\n",
    "      \n",
    "    S, E, I, A, D, R = [S_0], [E_0], [I_0], [A_0], [D_0],[R_0]\n",
    "    \n",
    "    R_I = [R_0]\n",
    "    R_A = [R_0]\n",
    "    \n",
    "    # N: total number of people in each class: matrix dimension A*R\n",
    "    N = S_0 + E_0 + I_0 + R_0 +D_0+ A_0\n",
    "    S_i, E_i, I_i, A_i, D_i, R_i = S_0.copy(), E_0.copy(), I_0.copy(), A_0.copy(), D_0.copy(),R_0.copy()\n",
    "    \n",
    "    R_i_I,R_i_A = R_0.copy(),R_0.copy()\n",
    "    \n",
    "    alpha, beta, gamma, kappa,pi  = params\n",
    "    Sigma = Sigma_\n",
    "    C = C_\n",
    "    \n",
    "    ### time-dependent parameters\n",
    "    scale_ts = Sigma_adjust_Ext(eff_dates,sigma_adjust1,sigma_adjust2,d,nn)\n",
    "    C_ts = C_series(eff_dates,1.0,0.2,nn)\n",
    "    \n",
    "    \n",
    "    regional_real_cases = np.zeros((nn+1,N_A,N_K))\n",
    "    regional_confirm_cases = np.zeros((nn+1,N_A,N_K))\n",
    "    england_real_cases = np.zeros((nn+1,N_A))\n",
    "    england_confirm_cases = np.zeros((nn+1,N_A))\n",
    "    \n",
    "    regional_real_cases[0,:,] = I_0\n",
    "    england_real_cases[0] = np.sum(I_0)\n",
    "    for region in range(N_K):\n",
    "            for age in range(N_A):\n",
    "                number = I_0[age,region]\n",
    "                regional_confirm_cases[0,age,region] =  np.random.binomial(number, pi, 1)[0] \n",
    "    england_confirm_cases[0,:] = np.sum(regional_confirm_cases[0,:,:],axis=1)\n",
    "    total_contact = 0\n",
    "    # signal==0 means relax policy (not control)\n",
    "    # signal > 0 means control \n",
    "    signals = np.zeros(nn)\n",
    "    signals[:relax_day] = 1\n",
    "    \n",
    "    mask_base = np.arange(16)\n",
    "    mask = (mask_base < 4) | (mask_base > 11)\n",
    "    for t in range(nn):\n",
    "        day_contact = 0\n",
    "        signal = signals[t]\n",
    "        Lambda = np.zeros((N_A,N_K))\n",
    "        if signal > 0:\n",
    "            #for r in range(N_K):\n",
    "            C_r = C_ts[:,t]*C_ + (1-C_ts[:,t])*np.identity(133)\n",
    "            Lambda += np.dot(Sigma[:,mask], np.reshape(scale_ts[:,t], (1, -1)) * alpha *(kappa*I_i[mask,:]+A_i[mask,:])/N[mask,:])\n",
    "            Lambda += np.dot(Sigma[:,~mask], np.reshape(scale_ts[:,t], (1, -1)) * alpha * np.dot((kappa*I_i[~mask,:]+A_i[~mask,:])/N[~mask,:], C_r.T))\n",
    "            day_contact += (N * np.dot(np.reshape(np.sum(Sigma, axis=-1), (-1, 1)), np.reshape(scale_ts[:,t], (1, -1)))).flatten().sum()\n",
    "            \n",
    "                \n",
    "                #for a in range(N_A):\n",
    "                #    for a_prime in [0,1,2,3,12,13,14,15]:\n",
    "                #        Lambda[a,r] += scale_ts[r,t] * alpha * Sigma[a,a_prime] * (kappa*I_i[a_prime,r]+A_i[a_prime,r])/N[a_prime,r]\n",
    "                #    for a_prime in [4,5,6,7,8,9,10,11]:\n",
    "                #        Lambda[a,r] += scale_ts[r,t] * alpha * Sigma[a,a_prime] * ((C_r[r,:]).dot((kappa*I_i[a_prime,:]+A_i[a_prime,:])/N[a_prime,:]))\n",
    "                #    day_contact += N[a,r] *scale_ts[r,t] *np.sum(Sigma[a,:])\n",
    "        if signal ==0 :\n",
    "            #for r in range(N_K):\n",
    "            C_ts_tmp = relax\n",
    "            C_r = C_ts_tmp*C_ + (1-C_ts_tmp)*np.identity(N_K)\n",
    "            scale_ts_tmp = relax*sigma_adjust1 + (1-relax)*scale_ts[:,t] \n",
    "            Lambda += (alpha * np.dot(Sigma[:, mask], (kappa*I_i[mask,:]+A_i[mask,:])/N[mask,:] * scale_ts_tmp.reshape((1, -1))))\n",
    "            Lambda += (alpha * np.dot(Sigma[:,~mask], np.dot((kappa*I_i[~mask,:]+A_i[~mask,:])/N[~mask,:], C_r.T) * scale_ts_tmp.reshape((1, -1))))\n",
    "            day_contact  += (N * np.dot(Sigma.sum(axis=-1).reshape((-1, 1)), scale_ts_tmp.reshape((1, -1)))).flatten().sum()\n",
    "            \n",
    "                #C_ts_tmp = relax #np.min([1,relax*C_ts[r,t]])\n",
    "                #C_r = C_ts_tmp*C_ + (1-C_ts_tmp)*np.identity(133)\n",
    "                #scale_ts_tmp = relax*sigma_adjust1[r] + (1-relax)*scale_ts[r,t] \n",
    "                #for a in range(N_A):\n",
    "                #    for a_prime in [0,1,2,3,12,13,14,15]:\n",
    "                #        Lambda[a,r] += scale_ts_tmp * alpha * Sigma[a,a_prime] * (kappa*I_i[a_prime,r]+A_i[a_prime,r])/N[a_prime,r]\n",
    "                #    \n",
    "                #    for a_prime in [4,5,6,7,8,9,10,11]:\n",
    "                #        Lambda[a,r] += scale_ts_tmp * alpha * Sigma[a,a_prime] * ((C_r[r,:]).dot((kappa*I_i[a_prime,:]+A_i[a_prime,:])/N[a_prime,:]))\n",
    "                #    day_contact +=  N[a,r] *scale_ts_tmp*np.sum(Sigma[a,:])\n",
    "                \n",
    "                \n",
    "        total_contact += day_contact      \n",
    "        dI_i = np.zeros((N_A,N_K))\n",
    "        dA_i = np.zeros((N_A,N_K))\n",
    "        for a in range(N_A):\n",
    "            dI_i[a,:] += p[a]*beta*E_i[a,:]\n",
    "            dA_i[a,:] += (1-p[a])*beta*E_i[a,:]\n",
    "        \n",
    "        compartment_prob = np.array([(S_i*Lambda), dI_i, dA_i ,(gamma*f*I_i),(gamma*(1-f)*I_i),(gamma*A_i)]).reshape(6*N_A*N_K)\n",
    "\n",
    "        compartment_prob = np.asarray(compartment_prob).astype(np.float64)\n",
    "        ratio = np.sum(compartment_prob)\n",
    "        if ratio > 0:\n",
    "            compartment_prob /= np.sum(compartment_prob)\n",
    "        else:\n",
    "            total_contact += (nn-t)*day_contact \n",
    "            return S,E,I,A,D,R,R_A,R_I,signals,regional_real_cases,england_real_cases,regional_confirm_cases,england_confirm_cases, total_contact\n",
    "\n",
    "        number_event = np.random.poisson(ratio,1)[0]\n",
    "    \n",
    "        ind = np.random.multinomial(number_event, compartment_prob, size=1)\n",
    "        \n",
    "        ind = ind.reshape(6,N_A,N_K)\n",
    "\n",
    "        \n",
    "\n",
    "        S_i += -ind[0,:,:]\n",
    "        E_i += ind[0,:,:]-ind[1,:,:]-ind[2,:,:]\n",
    "        I_i += ind[1,:,:]-ind[3,:,:]-ind[4,:,:]\n",
    "        A_i += ind[2,:,:]-ind[5,:,:]\n",
    "        D_i += ind[3,:,:]\n",
    "        R_i += ind[4,:,:]+ind[5,:,:]\n",
    "        \n",
    "        R_i_A += ind[5,:,:]\n",
    "        R_i_I += ind[4,:,:]\n",
    "        \n",
    "        S_i = (np.abs(S_i)+S_i)/2\n",
    "        E_i = (np.abs(E_i)+E_i)/2\n",
    "        A_i = (np.abs(A_i)+A_i)/2\n",
    "        D_i = (np.abs(D_i)+D_i)/2\n",
    "        I_i = (np.abs(I_i)+I_i)/2\n",
    "        R_i = (np.abs(R_i)+R_i)/2\n",
    "        \n",
    "        R_i_I = (np.abs(R_i_I)+R_i_I)/2\n",
    "        R_i_A = (np.abs(R_i_A)+R_i_A)/2\n",
    "        \n",
    "        \n",
    "        regional_real_cases[t+1,:,:] = ind[1,:,:]\n",
    "        england_real_cases[t+1,:] = np.sum(ind[1,:,:],axis=1)\n",
    "        for region in range(N_K):\n",
    "            for age in range(N_A):\n",
    "                number = ind[1,age,region]\n",
    "                regional_confirm_cases[t+1,age,region] =  np.random.binomial(number, pi, 1)[0] \n",
    "        \n",
    "        today_confirm = np.sum(regional_confirm_cases[t+1,:,:],axis=1)\n",
    "        england_confirm_cases[t+1,:] = today_confirm\n",
    "        \n",
    "        \n",
    "        S.append(S_i.copy())\n",
    "        E.append(E_i.copy())\n",
    "        I.append(I_i.copy())\n",
    "        A.append(A_i.copy())\n",
    "        D.append(D_i.copy())\n",
    "        R.append(R_i.copy())\n",
    "        \n",
    "        R_A.append(R_i_A.copy())\n",
    "        R_I.append(R_i_I.copy())\n",
    "        \n",
    "        \n",
    "        \n",
    "        \n",
    "         \n",
    "    return S,E,I,A,D,R,R_A,R_I,signals,regional_real_cases,england_real_cases,regional_confirm_cases,england_confirm_cases,total_contact"
   ]
  },
  {
   "cell_type": "markdown",
   "metadata": {},
   "source": [
    "# Data Preparation"
   ]
  },
  {
   "cell_type": "code",
   "execution_count": 92,
   "metadata": {},
   "outputs": [],
   "source": [
    "# social contact among age group\n",
    "contact = pd.read_csv('../../data/contact_matrix_16_groups.csv')\n",
    "social_m = np.array(contact[['matrix..0.5.', 'matrix..5.10.', 'matrix..10.15.', 'matrix..15.20.',\n",
    "       'matrix..20.25.', 'matrix..25.30.', 'matrix..30.35.', 'matrix..35.40.',\n",
    "       'matrix..40.45.', 'matrix..45.50.', 'matrix..50.55.', 'matrix..55.60.',\n",
    "       'matrix..60.65.', 'matrix..65.70.', 'matrix..70.75.', 'matrix.75.']]).reshape(16,16)\n",
    "\n",
    "Sigma = social_m"
   ]
  },
  {
   "cell_type": "code",
   "execution_count": 93,
   "metadata": {},
   "outputs": [],
   "source": [
    "#contact mtrix\n",
    "transport = pd.read_csv('../../data/CommuteMatrix-NUTS3.csv')\n",
    "transport_mat = np.array(transport)[:,1:].astype(float)\n",
    "C = transport_mat"
   ]
  },
  {
   "cell_type": "code",
   "execution_count": 94,
   "metadata": {},
   "outputs": [],
   "source": [
    "covid_data = pd.read_csv('../../data/UK-COVID-data.csv')\n",
    "covid_data_new = pd.DataFrame(columns = covid_data.columns)\n",
    "region_order = list(transport['Unnamed: 0'])"
   ]
  },
  {
   "cell_type": "code",
   "execution_count": 95,
   "metadata": {},
   "outputs": [],
   "source": [
    "for i in range(133):\n",
    "    region = region_order[i]\n",
    "    covid_data_new.loc[i] = covid_data[covid_data['id']==region].values[0]\n",
    "    #covid_data_new2.loc[i] = covid_data2[covid_data2['id']==region].values[0]"
   ]
  },
  {
   "cell_type": "code",
   "execution_count": 96,
   "metadata": {},
   "outputs": [
    {
     "name": "stdout",
     "output_type": "stream",
     "text": [
      "does all tables have the same region order:\n",
      "True\n"
     ]
    }
   ],
   "source": [
    "## Sanity check\n",
    "print('does all tables have the same region order:')\n",
    "covid_order = list(covid_data_new['id'])\n",
    "#covid_order2 = list(covid_data_new2['id'])\n",
    "\n",
    "region_order = list(transport['Unnamed: 0'])\n",
    "\n",
    "print(region_order ==covid_order)\n",
    "#print(population_order==covid_order2)"
   ]
  },
  {
   "cell_type": "code",
   "execution_count": 97,
   "metadata": {},
   "outputs": [],
   "source": [
    "## Population data validation \n",
    "population = pd.read_csv('../../data/UK-COVID-data-with_ALL_age_groups.csv')\n",
    "population = population[['id', 'Y_LT5', 'Y5-9', 'Y10-14', 'Y15-19', 'Y20-24',\n",
    "       'Y25-29', 'Y30-34', 'Y35-39', 'Y40-44', 'Y45-49', 'Y50-54', 'Y55-59',\n",
    "       'Y60-64', 'Y65-69', 'Y70-74', 'Y75-79', 'Y80-84', 'Y85-89','Y_GE90']]"
   ]
  },
  {
   "cell_type": "code",
   "execution_count": 98,
   "metadata": {},
   "outputs": [],
   "source": [
    "population_new = pd.DataFrame(columns = population.columns)\n",
    "for i in range(133):\n",
    "    region = region_order[i]\n",
    "    population_new.loc[i] = population[population['id']==region].values[0]"
   ]
  },
  {
   "cell_type": "code",
   "execution_count": 99,
   "metadata": {},
   "outputs": [
    {
     "data": {
      "text/plain": [
       "56171302.0"
      ]
     },
     "execution_count": 99,
     "metadata": {},
     "output_type": "execute_result"
    }
   ],
   "source": [
    "N_mat2 = np.array(population_new[['Y_LT5', 'Y5-9', 'Y10-14', 'Y15-19', 'Y20-24',\n",
    "       'Y25-29', 'Y30-34', 'Y35-39', 'Y40-44', 'Y45-49', 'Y50-54', 'Y55-59',\n",
    "       'Y60-64', 'Y65-69', 'Y70-74', 'Y75-79', 'Y80-84', 'Y85-89','Y_GE90']]).T\n",
    "\n",
    "N_mat = np.zeros((16,133))\n",
    "\n",
    "N_mat[:15,:] = N_mat2[:15,:]\n",
    "\n",
    "N_mat[-1,:] = np.sum(N_mat2[15:,],axis=0)\n",
    "np.sum(N_mat)"
   ]
  },
  {
   "cell_type": "code",
   "execution_count": 100,
   "metadata": {},
   "outputs": [],
   "source": [
    "## Population density\n",
    "population_density = np.array(covid_data_new['population_density'])"
   ]
  },
  {
   "cell_type": "code",
   "execution_count": null,
   "metadata": {},
   "outputs": [],
   "source": []
  },
  {
   "cell_type": "code",
   "execution_count": 101,
   "metadata": {},
   "outputs": [],
   "source": [
    "initial_day = 15\n"
   ]
  },
  {
   "cell_type": "code",
   "execution_count": 102,
   "metadata": {},
   "outputs": [],
   "source": [
    "N_A= 16\n",
    "N_K = 133"
   ]
  },
  {
   "cell_type": "code",
   "execution_count": 103,
   "metadata": {},
   "outputs": [],
   "source": [
    "real_cum_cases = np.sum(np.array(covid_data_new.iloc[0:133,(19+initial_day):103]).astype(float),axis = 0)"
   ]
  },
  {
   "cell_type": "code",
   "execution_count": 104,
   "metadata": {},
   "outputs": [],
   "source": [
    "real_cum_cases_ind = np.cumsum(np.ones(len(real_cum_cases)))+initial_day"
   ]
  },
  {
   "cell_type": "code",
   "execution_count": 105,
   "metadata": {},
   "outputs": [
    {
     "data": {
      "text/plain": [
       "[<matplotlib.lines.Line2D at 0x12b6ffe80>]"
      ]
     },
     "execution_count": 105,
     "metadata": {},
     "output_type": "execute_result"
    },
    {
     "data": {
      "image/png": "[encoded data removed]",
      "text/plain": [
       "<Figure size 432x288 with 1 Axes>"
      ]
     },
     "metadata": {},
     "output_type": "display_data"
    }
   ],
   "source": [
    "plt.plot(real_cum_cases_ind,real_cum_cases)"
   ]
  },
  {
   "cell_type": "code",
   "execution_count": 106,
   "metadata": {},
   "outputs": [],
   "source": [
    "d_table =  pd.read_csv('../../data/d1d2_effdates_initialization_final_lowratio_133regions_16agegroups.csv')\n",
    "\n",
    "initial_covid = np.array(d_table['initialization'])\n",
    "\n",
    "sigma_adjust1 = np.array(d_table['d_adjust1'])\n",
    "sigma_adjust2 = np.array(d_table['d_adjust2'])\n",
    "simulation_eff_dates = np.array(d_table['adjust_dates'])"
   ]
  },
  {
   "cell_type": "code",
   "execution_count": 107,
   "metadata": {},
   "outputs": [
    {
     "data": {
      "text/plain": [
       "[<matplotlib.lines.Line2D at 0x12b5886a0>]"
      ]
     },
     "execution_count": 107,
     "metadata": {},
     "output_type": "execute_result"
    },
    {
     "data": {
      "image/png": "[encoded data removed]",
      "text/plain": [
       "<Figure size 432x288 with 1 Axes>"
      ]
     },
     "metadata": {},
     "output_type": "display_data"
    }
   ],
   "source": [
    "plt.plot(0.12*sigma_adjust2/sigma_adjust1)"
   ]
  },
  {
   "cell_type": "code",
   "execution_count": 108,
   "metadata": {},
   "outputs": [],
   "source": [
    "death_data = pd.read_csv('../../data/coronavirus-deaths_0615.csv')\n",
    "\n",
    "cum_death_number = np.array(death_data[death_data['Area name']=='England'][::-1].iloc[9:]['Cumulative deaths'])\n",
    "\n",
    "cum_death_number_ind = np.cumsum(np.ones(len(cum_death_number)))+initial_day"
   ]
  },
  {
   "cell_type": "code",
   "execution_count": 109,
   "metadata": {},
   "outputs": [
    {
     "data": {
      "text/plain": [
       "[<matplotlib.lines.Line2D at 0x12b3d3438>]"
      ]
     },
     "execution_count": 109,
     "metadata": {},
     "output_type": "execute_result"
    },
    {
     "data": {
      "image/png": "[encoded data removed]",
      "text/plain": [
       "<Figure size 432x288 with 1 Axes>"
      ]
     },
     "metadata": {},
     "output_type": "display_data"
    }
   ],
   "source": [
    "plt.plot(cum_death_number_ind,cum_death_number)"
   ]
  },
  {
   "cell_type": "markdown",
   "metadata": {},
   "source": [
    "# Initialization"
   ]
  },
  {
   "cell_type": "code",
   "execution_count": 110,
   "metadata": {},
   "outputs": [],
   "source": [
    "alpha = 0.055 #+ np.random.normal(0, 0.01, 1)[0]\n",
    "beta = 0.2 #+ np.random.normal(0, 0.05, 1)[0]\n",
    "gamma = 0.1 #+ np.random.normal(0, 0.02, 1)[0]\n",
    "kappa = 0.5 # + np.random.normal(0, 0.05, 1)[0]\n",
    "\n",
    "f0 = 0.002 \n",
    "f1 = 0.002\n",
    "f2 = 0.01\n",
    "f3 = 0.01\n",
    "f4 = 0.05\n",
    "f5 = 0.05\n",
    "f6 = 0.1\n",
    "f7 = 0.1\n",
    "f8 =  0.2\n",
    "f9 = 0.2\n",
    "f10 = 0.6\n",
    "f11 = 0.6\n",
    "f12 = 2.0\n",
    "f13 = 2.0\n",
    "f14 = 4.0\n",
    "f15 = 7.5 \n",
    "\n",
    "\n",
    "p0 = 0.075 \n",
    "p1 =  0.075\n",
    "p2 = 0.05\n",
    "p3 = 0.05\n",
    "p4 = 0.15\n",
    "p5 = 0.15\n",
    "p6 = 0.21\n",
    "p7 = 0.21\n",
    "p8 =  0.23 \n",
    "p9 = 0.23 \n",
    "p10 = 0.28\n",
    "p11 = 0.28\n",
    "p12 =  0.41\n",
    "p13 =  0.41\n",
    "p14 =  0.375\n",
    "p15 = 0.375\n",
    "p = [p0,p1, p2,p3,p4,p5,p6,p7,p8,p9,p10,p11,p12,p13,p14,p15]\n",
    "pi = 4.5/100\n",
    "# 0.005,0.25,2,6\n",
    "f = np.array([f0,f1,f2,f3,f4,f5,f6,f7,f8,f9,f10,f11,f12,f13,f14,f15]).reshape(16,1)/100\n",
    "params =alpha, beta, gamma, kappa,pi"
   ]
  },
  {
   "cell_type": "code",
   "execution_count": 111,
   "metadata": {},
   "outputs": [],
   "source": [
    "## initial population\n",
    "init_sick = np.zeros((N_A,N_K))\n",
    "init_sick_scale = np.zeros((N_A,N_K))\n",
    "for a in [4,5,6,7,8,9,10,11]:\n",
    "    init_sick[a,:] = initial_covid*(N_mat[a,:])/np.sum(N_mat[4:12,:],axis=0)\n",
    "\n",
    "for a in [4,5,6,7,8,9,10,11]:\n",
    "    init_sick_scale[a,:] = init_sick[a,:]/(p[a]*pi)\n",
    "#init_sick[1,44] = 5\n",
    "#init_sick[1,64] = 5\n",
    "init_vals = N_mat-(init_sick_scale).astype(int),(init_sick_scale).astype(int), np.zeros((N_A,N_K)), np.zeros((N_A,N_K)), np.zeros((N_A,N_K)), np.zeros((N_A,N_K))"
   ]
  },
  {
   "cell_type": "code",
   "execution_count": 112,
   "metadata": {},
   "outputs": [],
   "source": [
    "nn=1000\n",
    "scale=0.12"
   ]
  },
  {
   "cell_type": "code",
   "execution_count": 113,
   "metadata": {},
   "outputs": [],
   "source": [
    "benchmark_total_contact = 0\n",
    "for r in range(133):\n",
    "    for a in range(16):\n",
    "        benchmark_total_contact += N_mat[a,r]*sigma_adjust1[r]*nn*np.sum(Sigma[a,:])"
   ]
  },
  {
   "cell_type": "code",
   "execution_count": 114,
   "metadata": {},
   "outputs": [
    {
     "data": {
      "text/plain": [
       "613800527142.0557"
      ]
     },
     "execution_count": 114,
     "metadata": {},
     "output_type": "execute_result"
    }
   ],
   "source": [
    "benchmark_total_contact"
   ]
  },
  {
   "cell_type": "markdown",
   "metadata": {},
   "source": [
    "# Experiments"
   ]
  },
  {
   "cell_type": "code",
   "execution_count": 115,
   "metadata": {},
   "outputs": [],
   "source": [
    "sns.set(font_scale=1.3)"
   ]
  },
  {
   "cell_type": "code",
   "execution_count": 121,
   "metadata": {},
   "outputs": [],
   "source": [
    "relax = 0.5\n",
    "relax_day = 350\n",
    "nn = 1000\n",
    "\n",
    "S,E,I,A,D,R,R_A,R_I,signals,regional_real_cases,england_real_cases,regional_confirm_cases,england_confirm_cases, total_contact =SEIR_Policy_relax(init_vals, C, Sigma,p,f, params,scale,simulation_eff_dates,np.ones(133),sigma_adjust2,relax,relax_day,nn)\n"
   ]
  },
  {
   "cell_type": "code",
   "execution_count": 131,
   "metadata": {},
   "outputs": [],
   "source": [
    "xx = np.cumsum(np.ones(100))+lag-1"
   ]
  },
  {
   "cell_type": "code",
   "execution_count": 151,
   "metadata": {},
   "outputs": [
    {
     "data": {
      "image/png": "[encoded data removed]",
      "text/plain": [
       "<Figure size 432x288 with 1 Axes>"
      ]
     },
     "metadata": {},
     "output_type": "display_data"
    }
   ],
   "source": [
    "plt.scatter(real_cum_cases_ind[:14],real_cum_cases[:14],label='Data',color='blue',s=60)\n",
    "plt.plot(xx[:22],np.cumsum(np.sum(england_confirm_cases,axis=1)[:22])*0.73,label='Simulation',linewidth=3,color='orange')\n",
    "plt.ylabel('Cumulative reported cases')\n",
    "plt.xlabel('t (days since March 1st)')\n",
    "plt.legend()\n",
    "plt.savefig('validation.png',bbox_inches=\"tight\")"
   ]
  },
  {
   "cell_type": "markdown",
   "metadata": {},
   "source": [
    "# Frontier Visualization"
   ]
  },
  {
   "cell_type": "code",
   "execution_count": 38,
   "metadata": {},
   "outputs": [],
   "source": [
    "sns.set(font_scale=1.3)"
   ]
  },
  {
   "cell_type": "code",
   "execution_count": 39,
   "metadata": {},
   "outputs": [],
   "source": [
    "relax_days = [90-15,120-15,150-15,180-15,210-15,270-15,350-15]#[90,120,150,180,210,270,350] - 15\n",
    "relaxes = list([0.2,0.3,0.4,0.5,0.6,0.8,1.0])"
   ]
  },
  {
   "cell_type": "code",
   "execution_count": 41,
   "metadata": {},
   "outputs": [],
   "source": [
    "#data = pd.read_csv('../results/frontiers/0712/openloop_differentrelaxation_7-7-30.csv')"
   ]
  },
  {
   "cell_type": "code",
   "execution_count": 32,
   "metadata": {},
   "outputs": [],
   "source": [
    "data_lowratio = pd.read_csv('../results/frontiers/0721/openloop_differentrelaxation_lowratio_7-7-30.csv')"
   ]
  },
  {
   "cell_type": "code",
   "execution_count": 33,
   "metadata": {},
   "outputs": [
    {
     "data": {
      "text/html": [
       "<div>\n",
       "<style scoped>\n",
       "    .dataframe tbody tr th:only-of-type {\n",
       "        vertical-align: middle;\n",
       "    }\n",
       "\n",
       "    .dataframe tbody tr th {\n",
       "        vertical-align: top;\n",
       "    }\n",
       "\n",
       "    .dataframe thead th {\n",
       "        text-align: right;\n",
       "    }\n",
       "</style>\n",
       "<table border=\"1\" class=\"dataframe\">\n",
       "  <thead>\n",
       "    <tr style=\"text-align: right;\">\n",
       "      <th></th>\n",
       "      <th>cost</th>\n",
       "      <th>death</th>\n",
       "    </tr>\n",
       "  </thead>\n",
       "  <tbody>\n",
       "    <tr>\n",
       "      <th>0</th>\n",
       "      <td>5.187947e+11</td>\n",
       "      <td>171524.0</td>\n",
       "    </tr>\n",
       "    <tr>\n",
       "      <th>1</th>\n",
       "      <td>5.187947e+11</td>\n",
       "      <td>171541.0</td>\n",
       "    </tr>\n",
       "    <tr>\n",
       "      <th>2</th>\n",
       "      <td>5.187947e+11</td>\n",
       "      <td>170612.0</td>\n",
       "    </tr>\n",
       "    <tr>\n",
       "      <th>3</th>\n",
       "      <td>5.187947e+11</td>\n",
       "      <td>171409.0</td>\n",
       "    </tr>\n",
       "    <tr>\n",
       "      <th>4</th>\n",
       "      <td>5.187947e+11</td>\n",
       "      <td>171189.0</td>\n",
       "    </tr>\n",
       "  </tbody>\n",
       "</table>\n",
       "</div>"
      ],
      "text/plain": [
       "           cost     death\n",
       "0  5.187947e+11  171524.0\n",
       "1  5.187947e+11  171541.0\n",
       "2  5.187947e+11  170612.0\n",
       "3  5.187947e+11  171409.0\n",
       "4  5.187947e+11  171189.0"
      ]
     },
     "execution_count": 33,
     "metadata": {},
     "output_type": "execute_result"
    }
   ],
   "source": [
    "data.head()"
   ]
  },
  {
   "cell_type": "code",
   "execution_count": 34,
   "metadata": {},
   "outputs": [],
   "source": [
    "cost = np.array(data['cost']).reshape(7,7,30)\n",
    "death = np.array(data['death']).reshape(7,7,30)"
   ]
  },
  {
   "cell_type": "code",
   "execution_count": 35,
   "metadata": {},
   "outputs": [],
   "source": [
    "costs = np.mean(cost,axis=2)\n",
    "deaths = np.mean(death,axis=2)"
   ]
  },
  {
   "cell_type": "code",
   "execution_count": 36,
   "metadata": {},
   "outputs": [],
   "source": [
    "cost_lowratio = np.array(data_lowratio['cost']).reshape(7,7,30)\n",
    "death_lowratio = np.array(data_lowratio['death']).reshape(7,7,30)\n",
    "costs_lowratio = np.mean(cost_lowratio,axis=2)\n",
    "deaths_lowratio = np.mean(death_lowratio,axis=2)"
   ]
  },
  {
   "cell_type": "code",
   "execution_count": 165,
   "metadata": {},
   "outputs": [
    {
     "data": {
      "image/png": "[encoded data removed]",
      "text/plain": [
       "<Figure size 432x288 with 1 Axes>"
      ]
     },
     "metadata": {},
     "output_type": "display_data"
    }
   ],
   "source": [
    "plt.scatter(costs[:,1:],deaths[:,1:],label= ' ')\n",
    "plt.scatter(costs_lowratio[:,1:],deaths_lowratio[:,1:],label= ' ')\n",
    "plt.xlabel('Social Cost')\n",
    "plt.ylabel('Fatalities')\n",
    "plt.legend()\n",
    "plt.savefig(\"../results/frontiers/0721/openloop_diff_lowratio_relaxationlevel.png\",bbox_inches=\"tight\")"
   ]
  },
  {
   "cell_type": "code",
   "execution_count": 166,
   "metadata": {},
   "outputs": [
    {
     "data": {
      "image/png": "[encoded data removed]",
      "text/plain": [
       "<Figure size 432x288 with 1 Axes>"
      ]
     },
     "metadata": {},
     "output_type": "display_data"
    }
   ],
   "source": [
    "for i in range(7):\n",
    "    plt.scatter(costs_lowratio[i,1:],deaths_lowratio[i,1:],label=str(relaxes[i]))\n",
    "plt.legend(bbox_to_anchor=(1.25, 0.9))\n",
    "plt.xlabel('Social Cost')\n",
    "plt.ylabel('Fatalities')\n",
    "plt.savefig(\"../results/frontiers/0721/openloop_diff_relaxationlevel_levels_lowratio.png\",bbox_inches=\"tight\")"
   ]
  },
  {
   "cell_type": "code",
   "execution_count": 167,
   "metadata": {
    "scrolled": true
   },
   "outputs": [
    {
     "data": {
      "image/png": "[encoded data removed]",
      "text/plain": [
       "<Figure size 432x288 with 1 Axes>"
      ]
     },
     "metadata": {},
     "output_type": "display_data"
    }
   ],
   "source": [
    "for j in range(1,7):\n",
    "    plt.scatter(costs_lowratio[:,j],deaths_lowratio[:,j],label=''+str(relax_days[j]))\n",
    "plt.legend(bbox_to_anchor=(1.25, 0.9))\n",
    "plt.xlabel('Social Cost')\n",
    "plt.ylabel('Fatalities')\n",
    "plt.savefig(\"../results/frontiers/0721/openloop_diff_relaxationlevel_days_lowratio.png\",bbox_inches=\"tight\")"
   ]
  },
  {
   "cell_type": "markdown",
   "metadata": {},
   "source": [
    "# Improvements along the frontier"
   ]
  },
  {
   "cell_type": "code",
   "execution_count": 117,
   "metadata": {},
   "outputs": [],
   "source": [
    "death_table = pd.read_csv(\"../../data/UK-COVID-fatalities-government-fixed.csv\")\n",
    "death_long = np.sum(np.array(death_table.iloc[:,68:308]),axis=0)\n",
    "death_long = np.sum(np.array(death_table.iloc[:,68:308]),axis=0)\n",
    "death_short = death_long[1:]-death_long[:-1]"
   ]
  },
  {
   "cell_type": "code",
   "execution_count": null,
   "metadata": {},
   "outputs": [],
   "source": [
    "relax = 0.5\n",
    "relax_day = 350\n",
    "nn = 1000\n",
    "\n",
    "paths = 10\n",
    "\n",
    "trags = np.zeros((nn+1,paths))\n",
    "deaths = np.zeros((nn+1,paths))\n",
    "trags_I = np.zeros((nn+1,paths))\n",
    "costs = np.zeros(paths)\n",
    "\n",
    "\n",
    "for path in range(paths):\n",
    "    print(path)\n",
    "    S,E,I,A,D,R,R_A,R_I,signals,regional_real_cases,england_real_cases,regional_confirm_cases,england_confirm_cases, total_contact =SEIR_Policy_relax(init_vals, C, Sigma,p,f, params,scale,simulation_eff_dates,sigma_adjust1,sigma_adjust2,relax,relax_day,nn)\n",
    "\n",
    "    lenss = np.array(I).shape[0]\n",
    "    trags[:,path] = np.sum(england_confirm_cases,axis=1)\n",
    "    trags_I[:lenss,path] = np.sum(np.array(I),axis=(1,2))\n",
    "    deaths[:lenss,path] = np.sum(np.array(D),axis=(1,2))\n",
    "    deaths[lenss:,path] = np.sum(np.array(D),axis=(1,2))[-1]\n",
    "    \n",
    "    end = nn+1\n",
    "    \n",
    "    costs[path] = benchmark_total_contact - total_contact\n",
    "    "
   ]
  },
  {
   "cell_type": "code",
   "execution_count": null,
   "metadata": {},
   "outputs": [],
   "source": [
    "I_mean = np.mean(trags_I,axis=1)\n",
    "I_std = np.std(trags_I,axis=1)\n",
    "\n",
    "D_mean = np.mean(deaths,axis=1)\n",
    "D_std = np.std(deaths,axis=1)\n",
    "\n",
    "lag = 10\n",
    "\n",
    "xx = np.cumsum(np.ones(len(D_mean)))-1+lag"
   ]
  },
  {
   "cell_type": "code",
   "execution_count": 30,
   "metadata": {},
   "outputs": [
    {
     "name": "stdout",
     "output_type": "stream",
     "text": [
      "0\n",
      "1\n",
      "2\n",
      "3\n",
      "4\n"
     ]
    }
   ],
   "source": [
    "relax = 0.25 #0.5\n",
    "relax_day = 120\n",
    "nn = 1000\n",
    "\n",
    "paths = 5\n",
    "\n",
    "trags22 = np.zeros((nn+1,paths))\n",
    "deaths22 = np.zeros((nn+1,paths))\n",
    "regional_deaths22 = np.zeros((paths,133))\n",
    "trags_I22 = np.zeros((nn+1,paths))\n",
    "trags_A22 = np.zeros((nn+1,paths))\n",
    "costs22 = np.zeros(paths)\n",
    "\n",
    "\n",
    "\n",
    "for path in range(paths):\n",
    "    print(path)\n",
    "    S,E,I,A,D,R,R_A,R_I,signals,regional_real_cases,england_real_cases,regional_confirm_cases,england_confirm_cases, total_contact =SEIR_Policy_relax(init_vals, C, Sigma,p,f, params,scale,simulation_eff_dates,sigma_adjust1,sigma_adjust2,relax,relax_day,nn)\n",
    "\n",
    "    lenss = np.array(I).shape[0]\n",
    "    trags22[:,path] = np.sum(england_confirm_cases,axis=1)\n",
    "    trags_I22[:lenss,path] = np.sum(np.array(I),axis=(1,2))\n",
    "    trags_A22[:lenss,path] = np.sum(np.array(A),axis=(1,2))\n",
    "    deaths22[:lenss,path] = np.sum(np.array(D),axis=(1,2))\n",
    "    deaths22[lenss:,path] = np.sum(np.array(D),axis=(1,2))[-1]\n",
    "    \n",
    "    regional_deaths22[path,:] = np.sum(np.array(D),axis=1)[-1,:]\n",
    "    \n",
    "    \n",
    "    costs22[path] = benchmark_total_contact - total_contact\n",
    "    "
   ]
  },
  {
   "cell_type": "code",
   "execution_count": 188,
   "metadata": {},
   "outputs": [
    {
     "name": "stdout",
     "output_type": "stream",
     "text": [
      "0\n",
      "1\n",
      "2\n",
      "3\n",
      "4\n"
     ]
    }
   ],
   "source": [
    "relax = 0.5 #0.5\n",
    "relax_day = 120\n",
    "nn = 1000\n",
    "\n",
    "paths = 5\n",
    "\n",
    "trags2 = np.zeros((nn+1,paths))\n",
    "deaths2 = np.zeros((nn+1,paths))\n",
    "regional_deaths2 = np.zeros((paths,133))\n",
    "trags_I2 = np.zeros((nn+1,paths))\n",
    "trags_A2 = np.zeros((nn+1,paths))\n",
    "costs2 = np.zeros(paths)\n",
    "\n",
    "\n",
    "\n",
    "for path in range(paths):\n",
    "    print(path)\n",
    "    S,E,I,A,D,R,R_A,R_I,signals,regional_real_cases,england_real_cases,regional_confirm_cases,england_confirm_cases, total_contact =SEIR_Policy_relax(init_vals, C, Sigma,p,f, params,scale,simulation_eff_dates,sigma_adjust1,sigma_adjust2,relax,relax_day,nn)\n",
    "\n",
    "    lenss = np.array(I).shape[0]\n",
    "    trags2[:,path] = np.sum(england_confirm_cases,axis=1)\n",
    "    trags_I2[:lenss,path] = np.sum(np.array(I),axis=(1,2))\n",
    "    trags_A2[:lenss,path] = np.sum(np.array(A),axis=(1,2))\n",
    "    deaths2[:lenss,path] = np.sum(np.array(D),axis=(1,2))\n",
    "    deaths2[lenss:,path] = np.sum(np.array(D),axis=(1,2))[-1]\n",
    "    \n",
    "    regional_deaths2[path,:] = np.sum(np.array(D),axis=1)[-1,:]\n",
    "    \n",
    "    \n",
    "    costs2[path] = benchmark_total_contact - total_contact\n",
    "    "
   ]
  },
  {
   "cell_type": "code",
   "execution_count": 189,
   "metadata": {},
   "outputs": [
    {
     "data": {
      "text/plain": [
       "290399691122.61005"
      ]
     },
     "execution_count": 189,
     "metadata": {},
     "output_type": "execute_result"
    }
   ],
   "source": [
    "\n",
    "np.mean(costs2)"
   ]
  },
  {
   "cell_type": "code",
   "execution_count": null,
   "metadata": {},
   "outputs": [],
   "source": [
    "#np.mean(costs2)"
   ]
  },
  {
   "cell_type": "code",
   "execution_count": 738,
   "metadata": {},
   "outputs": [
    {
     "data": {
      "text/plain": [
       "<matplotlib.legend.Legend at 0x12eb5fac8>"
      ]
     },
     "execution_count": 738,
     "metadata": {},
     "output_type": "execute_result"
    },
    {
     "data": {
      "image/png": "[encoded data removed]",
      "text/plain": [
       "<Figure size 432x288 with 1 Axes>"
      ]
     },
     "metadata": {},
     "output_type": "display_data"
    }
   ],
   "source": [
    "plt.plot(np.mean(trags_I2,axis=1)[:500],label='m=0.25')\n",
    "plt.plot(np.mean(trags_I22,axis=1)[:500],label='m=0.3')\n",
    "plt.ylabel('$I_t$')\n",
    "plt.legend()"
   ]
  },
  {
   "cell_type": "code",
   "execution_count": 179,
   "metadata": {},
   "outputs": [
    {
     "data": {
      "text/plain": [
       "[<matplotlib.lines.Line2D at 0x12cf0c198>]"
      ]
     },
     "execution_count": 179,
     "metadata": {},
     "output_type": "execute_result"
    },
    {
     "data": {
      "image/png": "[encoded data removed]",
      "text/plain": [
       "<Figure size 432x288 with 1 Axes>"
      ]
     },
     "metadata": {},
     "output_type": "display_data"
    }
   ],
   "source": [
    "plt.plot(np.mean(deaths2,axis=1))"
   ]
  },
  {
   "cell_type": "code",
   "execution_count": 190,
   "metadata": {},
   "outputs": [
    {
     "data": {
      "text/plain": [
       "40719.0"
      ]
     },
     "execution_count": 190,
     "metadata": {},
     "output_type": "execute_result"
    }
   ],
   "source": [
    "np.mean(deaths2,axis=1)[(date-lag)]"
   ]
  },
  {
   "cell_type": "code",
   "execution_count": 728,
   "metadata": {},
   "outputs": [
    {
     "data": {
      "text/plain": [
       "51902.0"
      ]
     },
     "execution_count": 728,
     "metadata": {},
     "output_type": "execute_result"
    }
   ],
   "source": [
    "death_long[-1]\n"
   ]
  },
  {
   "cell_type": "code",
   "execution_count": 729,
   "metadata": {},
   "outputs": [],
   "source": [
    "end = 300"
   ]
  },
  {
   "cell_type": "code",
   "execution_count": 742,
   "metadata": {},
   "outputs": [
    {
     "data": {
      "text/plain": [
       "<matplotlib.legend.Legend at 0x12eceeda0>"
      ]
     },
     "execution_count": 742,
     "metadata": {},
     "output_type": "execute_result"
    },
    {
     "data": {
      "image/png": "[encoded data removed]",
      "text/plain": [
       "<Figure size 432x288 with 1 Axes>"
      ]
     },
     "metadata": {},
     "output_type": "display_data"
    }
   ],
   "source": [
    "plt.plot(death_short,label='real',linewidth=3)\n",
    "plt.plot(np.mean(deaths2,axis=1)[1:end]-np.mean(deaths2,axis=1)[:(end-1)],label='m=0.25',linewidth=3)\n",
    "plt.plot(np.mean(deaths22,axis=1)[1:end]-np.mean(deaths22,axis=1)[:(end-1)],label='m=0.3',linewidth=3)\n",
    "plt.legend()"
   ]
  },
  {
   "cell_type": "code",
   "execution_count": null,
   "metadata": {},
   "outputs": [],
   "source": [
    "# August 1: 155\n",
    "# June 30: 125\n",
    "# Nov 4: 250"
   ]
  },
  {
   "cell_type": "code",
   "execution_count": 191,
   "metadata": {},
   "outputs": [],
   "source": [
    "date = 155\n",
    "lag=10"
   ]
  },
  {
   "cell_type": "code",
   "execution_count": 192,
   "metadata": {},
   "outputs": [
    {
     "data": {
      "text/plain": [
       "98208.8"
      ]
     },
     "execution_count": 192,
     "metadata": {},
     "output_type": "execute_result"
    }
   ],
   "source": [
    "np.mean(trags_I2,axis=1)[(date-lag)]"
   ]
  },
  {
   "cell_type": "code",
   "execution_count": 193,
   "metadata": {
    "scrolled": true
   },
   "outputs": [
    {
     "data": {
      "text/plain": [
       "392423.8"
      ]
     },
     "execution_count": 193,
     "metadata": {},
     "output_type": "execute_result"
    }
   ],
   "source": [
    "np.mean(trags_A2,axis=1)[(date-lag)]"
   ]
  },
  {
   "cell_type": "code",
   "execution_count": 194,
   "metadata": {
    "scrolled": true
   },
   "outputs": [
    {
     "data": {
      "text/plain": [
       "40719.0"
      ]
     },
     "execution_count": 194,
     "metadata": {},
     "output_type": "execute_result"
    }
   ],
   "source": [
    "np.mean(deaths2,axis=1)[(date-lag)]"
   ]
  },
  {
   "cell_type": "code",
   "execution_count": 195,
   "metadata": {},
   "outputs": [
    {
     "data": {
      "text/plain": [
       "146093.2"
      ]
     },
     "execution_count": 195,
     "metadata": {},
     "output_type": "execute_result"
    }
   ],
   "source": [
    "np.mean(deaths2,axis=1)[-1]"
   ]
  },
  {
   "cell_type": "code",
   "execution_count": 196,
   "metadata": {},
   "outputs": [
    {
     "data": {
      "text/plain": [
       "763957.4"
      ]
     },
     "execution_count": 196,
     "metadata": {},
     "output_type": "execute_result"
    }
   ],
   "source": [
    "np.max(np.mean(trags_I2,axis=1)[100:])"
   ]
  },
  {
   "cell_type": "code",
   "execution_count": 197,
   "metadata": {},
   "outputs": [
    {
     "data": {
      "text/plain": [
       "3655909.8"
      ]
     },
     "execution_count": 197,
     "metadata": {},
     "output_type": "execute_result"
    }
   ],
   "source": [
    "np.max(np.mean(trags_A2,axis=1))"
   ]
  },
  {
   "cell_type": "code",
   "execution_count": 187,
   "metadata": {},
   "outputs": [],
   "source": [
    "nuts2_region_order = region_order.copy()"
   ]
  },
  {
   "cell_type": "code",
   "execution_count": 42,
   "metadata": {},
   "outputs": [],
   "source": [
    "for i in range(133):\n",
    "    nuts2_region_order[i] = nuts2_region_order[i][:3]"
   ]
  },
  {
   "cell_type": "code",
   "execution_count": 43,
   "metadata": {},
   "outputs": [],
   "source": [
    "death = np.mean(regional_deaths2,axis=0)"
   ]
  },
  {
   "cell_type": "code",
   "execution_count": 44,
   "metadata": {},
   "outputs": [],
   "source": [
    "normalized_death = death/np.sum(N_mat,axis=0)*100000"
   ]
  },
  {
   "cell_type": "code",
   "execution_count": 45,
   "metadata": {},
   "outputs": [],
   "source": [
    "data2 = {\"$d_r$\":sigma_adjust1,\"Mortality per 100,000\":normalized_death, \"NUTS-1\":nuts2_region_order,\"size\":np.ones(133)*50}"
   ]
  },
  {
   "cell_type": "code",
   "execution_count": 46,
   "metadata": {},
   "outputs": [],
   "source": [
    "data2 = pd.DataFrame(data2)"
   ]
  },
  {
   "cell_type": "code",
   "execution_count": 47,
   "metadata": {},
   "outputs": [
    {
     "data": {
      "image/png": "[encoded data removed]",
      "text/plain": [
       "<Figure size 432x288 with 1 Axes>"
      ]
     },
     "metadata": {},
     "output_type": "display_data"
    }
   ],
   "source": [
    "sns.scatterplot(x=\"$d_r$\", y=\"Mortality per 100,000\", hue=\"NUTS-1\",\n",
    "                     data=data2,s=80)\n",
    "plt.legend(loc=(1.1,0.))\n",
    "plt.savefig('results/correlation_fatality_dr_NUTS2.png',bbox_inches=\"tight\")"
   ]
  },
  {
   "cell_type": "code",
   "execution_count": 48,
   "metadata": {},
   "outputs": [
    {
     "data": {
      "text/plain": [
       "(5, 133)"
      ]
     },
     "execution_count": 48,
     "metadata": {},
     "output_type": "execute_result"
    }
   ],
   "source": [
    "regional_deaths2.shape"
   ]
  },
  {
   "cell_type": "code",
   "execution_count": 49,
   "metadata": {},
   "outputs": [],
   "source": [
    "death = np.mean(regional_deaths2,axis=0)"
   ]
  },
  {
   "cell_type": "code",
   "execution_count": 50,
   "metadata": {},
   "outputs": [],
   "source": [
    "normalized_death = death/np.sum(N_mat,axis=0)*100000"
   ]
  },
  {
   "cell_type": "code",
   "execution_count": 51,
   "metadata": {},
   "outputs": [
    {
     "data": {
      "text/plain": [
       "[<matplotlib.lines.Line2D at 0x12b2b1cf8>]"
      ]
     },
     "execution_count": 51,
     "metadata": {},
     "output_type": "execute_result"
    },
    {
     "data": {
      "image/png": "[encoded data removed]",
      "text/plain": [
       "<Figure size 432x288 with 1 Axes>"
      ]
     },
     "metadata": {},
     "output_type": "display_data"
    }
   ],
   "source": [
    "plt.plot(normalized_death)"
   ]
  },
  {
   "cell_type": "code",
   "execution_count": 52,
   "metadata": {},
   "outputs": [],
   "source": [
    "pre_planned = {\"region\":np.array(region_order),\"death\": death}"
   ]
  },
  {
   "cell_type": "code",
   "execution_count": 53,
   "metadata": {},
   "outputs": [],
   "source": [
    "pre_planned = pd.DataFrame(pre_planned)"
   ]
  },
  {
   "cell_type": "code",
   "execution_count": 56,
   "metadata": {},
   "outputs": [
    {
     "name": "stdout",
     "output_type": "stream",
     "text": [
      "/Users/renyuanxu/Dropbox/Research_Codes/epidemic_code/Revision_November/pre-planned\r\n"
     ]
    }
   ],
   "source": [
    "!pwd"
   ]
  },
  {
   "cell_type": "code",
   "execution_count": 55,
   "metadata": {},
   "outputs": [],
   "source": [
    "pre_planned.to_csv(\"pre-planned_death.csv\")"
   ]
  },
  {
   "cell_type": "code",
   "execution_count": 364,
   "metadata": {},
   "outputs": [
    {
     "data": {
      "text/plain": [
       "array([96185., 97104., 96228., 96142., 96985., 96502., 96145., 96402.,\n",
       "       96589., 96680.])"
      ]
     },
     "execution_count": 364,
     "metadata": {},
     "output_type": "execute_result"
    }
   ],
   "source": [
    "deaths2[-1,:]"
   ]
  },
  {
   "cell_type": "code",
   "execution_count": 198,
   "metadata": {},
   "outputs": [
    {
     "name": "stdout",
     "output_type": "stream",
     "text": [
      "0\n",
      "1\n",
      "2\n",
      "3\n",
      "4\n",
      "5\n",
      "6\n",
      "7\n",
      "8\n",
      "9\n"
     ]
    }
   ],
   "source": [
    "relax = 0.4\n",
    "relax_day = 120 # 210\n",
    "nn = 1000\n",
    "\n",
    "paths = 10\n",
    "\n",
    "trags3 = np.zeros((nn+1,paths))\n",
    "deaths3 = np.zeros((nn+1,paths))\n",
    "trags_I3 = np.zeros((nn+1,paths))\n",
    "costs3 = np.zeros(paths)\n",
    "\n",
    "\n",
    "\n",
    "for path in range(paths):\n",
    "    print(path)\n",
    "    S,E,I,A,D,R,R_A,R_I,signals,regional_real_cases,england_real_cases,regional_confirm_cases,england_confirm_cases, total_contact =SEIR_Policy_relax(init_vals, C, Sigma,p,f, params,scale,simulation_eff_dates,sigma_adjust1,sigma_adjust2,relax,relax_day,nn)\n",
    "\n",
    "    lenss = np.array(I).shape[0]\n",
    "    trags3[:,path] = np.sum(england_confirm_cases,axis=1)\n",
    "    trags_I3[:lenss,path] = np.sum(np.array(I),axis=(1,2))\n",
    "    deaths3[:lenss,path] = np.sum(np.array(D),axis=(1,2))\n",
    "    deaths3[lenss:,path] = np.sum(np.array(D),axis=(1,2))[-1]\n",
    "    \n",
    "    \n",
    "    \n",
    "    costs3[path] = benchmark_total_contact - total_contact\n",
    "    "
   ]
  },
  {
   "cell_type": "code",
   "execution_count": 199,
   "metadata": {},
   "outputs": [
    {
     "data": {
      "text/plain": [
       "0.75"
      ]
     },
     "execution_count": 199,
     "metadata": {},
     "output_type": "execute_result"
    }
   ],
   "source": [
    "12/16"
   ]
  },
  {
   "cell_type": "code",
   "execution_count": 206,
   "metadata": {
    "scrolled": false
   },
   "outputs": [
    {
     "name": "stdout",
     "output_type": "stream",
     "text": [
      "144570.9 146023.9 124443.9\n"
     ]
    }
   ],
   "source": [
    "print(np.mean(deaths[-1,:]),np.mean(deaths2[-1,:]), np.mean(deaths3[-1,:]))"
   ]
  },
  {
   "cell_type": "code",
   "execution_count": 211,
   "metadata": {},
   "outputs": [
    {
     "data": {
      "text/plain": [
       "0.14778402713528402"
      ]
     },
     "execution_count": 211,
     "metadata": {},
     "output_type": "execute_result"
    }
   ],
   "source": [
    "(np.mean(deaths2[-1,:])- np.mean(deaths3[-1,:]))/np.mean(deaths2[-1,:])"
   ]
  },
  {
   "cell_type": "code",
   "execution_count": 208,
   "metadata": {},
   "outputs": [
    {
     "name": "stdout",
     "output_type": "stream",
     "text": [
      "352902436223.97064 290399691122.61005 338076943312.225\n"
     ]
    }
   ],
   "source": [
    "print(np.mean(costs),np.mean(costs2), np.mean(costs3))"
   ]
  },
  {
   "cell_type": "code",
   "execution_count": 209,
   "metadata": {},
   "outputs": [
    {
     "data": {
      "image/png": "[encoded data removed]",
      "text/plain": [
       "<Figure size 432x288 with 1 Axes>"
      ]
     },
     "metadata": {},
     "output_type": "display_data"
    }
   ],
   "source": [
    "plt.plot(xx,D_mean, label='m=0.5,T=335',linewidth=3,linestyle=':')\n",
    "plt.plot(xx,D_mean2,  label='m=0.5,T=105',linewidth=3,linestyle='--')\n",
    "plt.plot(xx,D_mean3, label='m=0.4,T=105',linewidth=3)\n",
    "plt.legend()\n",
    "plt.xlabel('t (days)')\n",
    "plt.savefig(\"results/openloop_diff_relaxationlevel_Dt_lowratio.png\",bbox_inches=\"tight\")"
   ]
  },
  {
   "cell_type": "code",
   "execution_count": 210,
   "metadata": {},
   "outputs": [
    {
     "data": {
      "image/png": "[encoded data removed]",
      "text/plain": [
       "<Figure size 432x288 with 1 Axes>"
      ]
     },
     "metadata": {},
     "output_type": "display_data"
    }
   ],
   "source": [
    "plt.plot(xx,I_mean, label='m=0.5,T=335',linewidth=3,linestyle=':')\n",
    "plt.plot(xx,I_mean2,  label='m=0.5,T=105',linewidth=3,linestyle='--')\n",
    "plt.plot(xx,I_mean3, label='m=0.4,T=105',linewidth=3)\n",
    "plt.legend()\n",
    "plt.xlabel('t (days)')\n",
    "plt.savefig(\"results/openloop_diff_relaxationlevel_It_lowratio.png\",bbox_inches=\"tight\")"
   ]
  },
  {
   "cell_type": "code",
   "execution_count": 84,
   "metadata": {},
   "outputs": [
    {
     "name": "stdout",
     "output_type": "stream",
     "text": [
      "/Users/renyuanxu/Dropbox/Research_Codes/epidemic_code/Revision_November/pre-planned\r\n"
     ]
    }
   ],
   "source": [
    "!pwd"
   ]
  },
  {
   "cell_type": "code",
   "execution_count": null,
   "metadata": {},
   "outputs": [],
   "source": []
  },
  {
   "cell_type": "code",
   "execution_count": null,
   "metadata": {},
   "outputs": [],
   "source": []
  },
  {
   "cell_type": "code",
   "execution_count": null,
   "metadata": {},
   "outputs": [],
   "source": []
  },
  {
   "cell_type": "code",
   "execution_count": 85,
   "metadata": {},
   "outputs": [
    {
     "data": {
      "text/plain": [
       "(1000, 16, 133)"
      ]
     },
     "execution_count": 85,
     "metadata": {},
     "output_type": "execute_result"
    }
   ],
   "source": [
    "np.array(I).shape"
   ]
  },
  {
   "cell_type": "code",
   "execution_count": 61,
   "metadata": {},
   "outputs": [
    {
     "name": "stdout",
     "output_type": "stream",
     "text": [
      "0\n",
      "1\n",
      "2\n",
      "3\n",
      "4\n",
      "5\n",
      "6\n",
      "7\n",
      "8\n",
      "9\n"
     ]
    }
   ],
   "source": [
    "relax = 0.3\n",
    "relax_day = 120 # 210\n",
    "nn = 1000\n",
    "\n",
    "paths = 10\n",
    "\n",
    "trags4 = np.zeros((nn+1,paths))\n",
    "deaths4 = np.zeros((nn+1,paths))\n",
    "trags_I4 = np.zeros((nn+1,paths))\n",
    "costs4 = np.zeros(paths)\n",
    "I_all = np.zeros((paths,nn+1,16,133))\n",
    "D_all= np.zeros((paths,nn+1,16,133))\n",
    "\n",
    "for path in range(paths):\n",
    "    print(path)\n",
    "    S,E,I,A,D,R,R_A,R_I,signals,regional_real_cases,england_real_cases,regional_confirm_cases,england_confirm_cases, total_contact =SEIR_Policy_relax(init_vals, C, Sigma,p,f, params,scale,simulation_eff_dates,sigma_adjust1,sigma_adjust2,relax,relax_day,nn)\n",
    "\n",
    "    lenss = np.array(I).shape[0]\n",
    "    trags4[:,path] = np.sum(england_confirm_cases,axis=1)\n",
    "    trags_I4[:lenss,path] = np.sum(np.array(I),axis=(1,2))\n",
    "    deaths4[:lenss,path] = np.sum(np.array(D),axis=(1,2))\n",
    "    deaths4[lenss:,path] = np.sum(np.array(D),axis=(1,2))[-1]\n",
    "    I_all[path,:lenss,:,:] = np.array(I)\n",
    "    D_all[path,:lenss,:,:] = np.array(D)\n",
    "    D_all[path,lenss:,:,:] = np.array(D)[-1,:,:]\n",
    "    costs4[path] = benchmark_total_contact - total_contact\n",
    "    "
   ]
  },
  {
   "cell_type": "code",
   "execution_count": 62,
   "metadata": {},
   "outputs": [],
   "source": [
    "D_all2 =np.sum(D_all,axis=2)\n"
   ]
  },
  {
   "cell_type": "code",
   "execution_count": 63,
   "metadata": {},
   "outputs": [
    {
     "data": {
      "text/plain": [
       "[<matplotlib.lines.Line2D at 0x12b437b38>]"
      ]
     },
     "execution_count": 63,
     "metadata": {},
     "output_type": "execute_result"
    },
    {
     "data": {
      "image/png": "[encoded data removed]",
      "text/plain": [
       "<Figure size 432x288 with 1 Axes>"
      ]
     },
     "metadata": {},
     "output_type": "display_data"
    }
   ],
   "source": [
    "plt.plot(np.mean(np.sum(D_all2,axis=2),axis=0))"
   ]
  },
  {
   "cell_type": "code",
   "execution_count": 64,
   "metadata": {
    "scrolled": true
   },
   "outputs": [
    {
     "data": {
      "text/plain": [
       "96700.8"
      ]
     },
     "execution_count": 64,
     "metadata": {},
     "output_type": "execute_result"
    }
   ],
   "source": [
    "np.mean(np.sum(D_all2,axis=2),axis=0)[-1]"
   ]
  },
  {
   "cell_type": "code",
   "execution_count": 65,
   "metadata": {},
   "outputs": [],
   "source": [
    "#region = 48 # birmingham\n",
    "#region = 89 # oxford\n",
    "region = 69 # westminster"
   ]
  },
  {
   "cell_type": "code",
   "execution_count": 66,
   "metadata": {
    "scrolled": true
   },
   "outputs": [
    {
     "data": {
      "text/plain": [
       "'UKI32'"
      ]
     },
     "execution_count": 66,
     "metadata": {},
     "output_type": "execute_result"
    }
   ],
   "source": [
    "region_order[region]"
   ]
  },
  {
   "cell_type": "code",
   "execution_count": 67,
   "metadata": {},
   "outputs": [
    {
     "data": {
      "text/plain": [
       "(10, 1001, 133)"
      ]
     },
     "execution_count": 67,
     "metadata": {},
     "output_type": "execute_result"
    }
   ],
   "source": [
    "D_all2.shape\n"
   ]
  },
  {
   "cell_type": "code",
   "execution_count": 68,
   "metadata": {},
   "outputs": [
    {
     "data": {
      "text/plain": [
       "202.0"
      ]
     },
     "execution_count": 68,
     "metadata": {},
     "output_type": "execute_result"
    }
   ],
   "source": [
    "np.mean(D_all2[:,:,region],axis=0)[-1]"
   ]
  },
  {
   "cell_type": "code",
   "execution_count": 69,
   "metadata": {},
   "outputs": [
    {
     "data": {
      "text/plain": [
       "122.3"
      ]
     },
     "execution_count": 69,
     "metadata": {},
     "output_type": "execute_result"
    }
   ],
   "source": [
    "np.mean(D_all2[:,:,region],axis=0)[107-lag]"
   ]
  },
  {
   "cell_type": "code",
   "execution_count": 70,
   "metadata": {},
   "outputs": [
    {
     "data": {
      "text/plain": [
       "96700.8"
      ]
     },
     "execution_count": 70,
     "metadata": {},
     "output_type": "execute_result"
    }
   ],
   "source": [
    "np.mean(np.sum(D_all2[:,:,:],axis=2),axis=0)[-1]"
   ]
  },
  {
   "cell_type": "code",
   "execution_count": 71,
   "metadata": {},
   "outputs": [
    {
     "data": {
      "text/plain": [
       "37471.4"
      ]
     },
     "execution_count": 71,
     "metadata": {},
     "output_type": "execute_result"
    }
   ],
   "source": [
    "np.mean(np.sum(D_all2[:,:,:],axis=2),axis=0)[107-lag]"
   ]
  },
  {
   "cell_type": "code",
   "execution_count": 72,
   "metadata": {},
   "outputs": [
    {
     "data": {
      "text/plain": [
       "[<matplotlib.lines.Line2D at 0x12b3beb70>]"
      ]
     },
     "execution_count": 72,
     "metadata": {},
     "output_type": "execute_result"
    },
    {
     "data": {
      "image/png": "[encoded data removed]",
      "text/plain": [
       "<Figure size 432x288 with 1 Axes>"
      ]
     },
     "metadata": {},
     "output_type": "display_data"
    }
   ],
   "source": [
    "plt.plot(np.mean(D_all2[:,:,region],axis=0))"
   ]
  },
  {
   "cell_type": "code",
   "execution_count": 73,
   "metadata": {},
   "outputs": [
    {
     "data": {
      "text/plain": [
       "(10, 1001, 16, 133)"
      ]
     },
     "execution_count": 73,
     "metadata": {},
     "output_type": "execute_result"
    }
   ],
   "source": [
    "I_all.shape"
   ]
  },
  {
   "cell_type": "code",
   "execution_count": 74,
   "metadata": {},
   "outputs": [],
   "source": [
    "sns.set(font_scale=1.3)"
   ]
  },
  {
   "cell_type": "code",
   "execution_count": 75,
   "metadata": {},
   "outputs": [
    {
     "data": {
      "text/plain": [
       "[<matplotlib.lines.Line2D at 0x12b5ae358>]"
      ]
     },
     "execution_count": 75,
     "metadata": {},
     "output_type": "execute_result"
    },
    {
     "data": {
      "image/png": "[encoded data removed]",
      "text/plain": [
       "<Figure size 432x288 with 1 Axes>"
      ]
     },
     "metadata": {},
     "output_type": "display_data"
    }
   ],
   "source": [
    "plt.plot(np.mean(np.sum(I_all,axis=(2,3)),axis=0))"
   ]
  },
  {
   "cell_type": "code",
   "execution_count": 76,
   "metadata": {},
   "outputs": [
    {
     "data": {
      "text/plain": [
       "'UKI32'"
      ]
     },
     "execution_count": 76,
     "metadata": {},
     "output_type": "execute_result"
    }
   ],
   "source": [
    "region_order[region]"
   ]
  },
  {
   "cell_type": "code",
   "execution_count": 77,
   "metadata": {},
   "outputs": [],
   "source": [
    "I_all2 = np.sum(I_all,axis=2)"
   ]
  },
  {
   "cell_type": "code",
   "execution_count": 78,
   "metadata": {},
   "outputs": [],
   "source": [
    "Ir_mean = np.mean(I_all2[:,:,region],axis=0)\n",
    "\n",
    "Ir_std = np.std(I_all2[:,:,region],axis=0)"
   ]
  },
  {
   "cell_type": "code",
   "execution_count": 79,
   "metadata": {},
   "outputs": [],
   "source": [
    "sns.set(font_scale=1.3)"
   ]
  },
  {
   "cell_type": "code",
   "execution_count": 80,
   "metadata": {},
   "outputs": [],
   "source": [
    "# 40,48,86,4"
   ]
  },
  {
   "cell_type": "code",
   "execution_count": 81,
   "metadata": {},
   "outputs": [
    {
     "data": {
      "text/plain": [
       "30"
      ]
     },
     "execution_count": 81,
     "metadata": {},
     "output_type": "execute_result"
    }
   ],
   "source": [
    "np.argmax(np.max(np.mean(I_all2,axis=0)[100:,:],axis=0))"
   ]
  },
  {
   "cell_type": "code",
   "execution_count": 82,
   "metadata": {},
   "outputs": [
    {
     "data": {
      "text/plain": [
       "array([-1., -1., -1., -1., -1., -1., -1., -1., -1., -1., -1., -1., -1.,\n",
       "       -1., -1., -1., -1., -1., -1., -1., -1., -1., -1., -1., -1., -1.,\n",
       "       -1., -1., -1., -1., -1., -1., -1., -1., -1., -1., -1., -1., -1.,\n",
       "       -1., -1., -1., -1., -1., -1., -1., -1., -1., -1., -1., -1., -1.,\n",
       "       -1., -1., -1., -1., -1., -1., -1., -1., -1., -1., -1., -1., -1.,\n",
       "       -1., -1., -1., -1., -1., -1., -1., -1., -1., -1., -1., -1., -1.,\n",
       "       -1., -1., -1., -1., -1., -1., -1., -1., -1., -1., -1., -1., -1.,\n",
       "       -1., -1., -1., -1., -1., -1., -1., -1., -1., -1., -1., -1., -1.,\n",
       "       -1., -1., -1., -1., -1., -1., -1., -1., -1., -1., -1., -1., -1.,\n",
       "       -1., -1., -1., -1., -1., -1., -1., -1., -1., -1., -1., -1., -1.,\n",
       "       -1., -1., -1.])"
      ]
     },
     "execution_count": 82,
     "metadata": {},
     "output_type": "execute_result"
    }
   ],
   "source": [
    "(np.argmax(np.mean(I_all2,axis=0)[100:,:],axis=0)==247)*np.cumsum(np.ones(133))-1"
   ]
  },
  {
   "cell_type": "code",
   "execution_count": 84,
   "metadata": {},
   "outputs": [],
   "source": [
    "xx = np.cumsum(np.ones(1000))-1+lag"
   ]
  },
  {
   "cell_type": "code",
   "execution_count": 86,
   "metadata": {},
   "outputs": [
    {
     "data": {
      "image/png": "[encoded data removed]",
      "text/plain": [
       "<Figure size 432x288 with 1 Axes>"
      ]
     },
     "metadata": {},
     "output_type": "display_data"
    }
   ],
   "source": [
    "Ir_mean1 = np.mean(I_all2[:,:,40],axis=0)\n",
    "Ir_std1 = np.std(I_all2[:,:,40],axis=0)\n",
    "\n",
    "Ir_mean2 = np.mean(I_all2[:,:,48],axis=0)\n",
    "Ir_std2 = np.std(I_all2[:,:,48],axis=0)\n",
    "\n",
    "Ir_mean3 = np.mean(I_all2[:,:,86],axis=0)\n",
    "Ir_std3 = np.std(I_all2[:,:,86],axis=0)\n",
    "\n",
    "Ir_mean4 = np.mean(I_all2[:,:,4],axis=0)\n",
    "Ir_std4 = np.std(I_all2[:,:,4],axis=0)\n",
    "    \n",
    "plt.plot(xx[:400],Ir_mean1[:400],linewidth=3,label=str(region_order[40]))\n",
    "plt.fill_between(xx[:400],Ir_mean1[:400] - Ir_std1[:400],Ir_mean1[:400] + Ir_std1[:400],alpha=0.3)\n",
    "\n",
    "plt.plot(xx[:400],Ir_mean2[:400],linewidth=3,label=str(region_order[48]))\n",
    "plt.fill_between(xx[:400],Ir_mean2[:400] - Ir_std2[:400],Ir_mean2[:400] + Ir_std2[:400],alpha=0.3)\n",
    "\n",
    "plt.plot(xx[:400],Ir_mean3[:400],linewidth=3,label=str(region_order[86]))\n",
    "plt.fill_between(xx[:400],Ir_mean3[:400] - Ir_std3[:400],Ir_mean3[:400] + Ir_std3[:400],alpha=0.3)\n",
    "\n",
    "plt.plot(xx[:400],Ir_mean4[:400],linewidth=3,label=str(region_order[4]))\n",
    "plt.fill_between(xx[:400],Ir_mean4[:400] - Ir_std4[:400],Ir_mean4[:400] + Ir_std4[:400],alpha=0.3)\n",
    "    \n",
    "peak_time1 = np.argmax(Ir_mean1[100:400]) +100\n",
    "peak_time2 = np.argmax(Ir_mean2[100:400]) +100\n",
    "peak_time3 = np.argmax(Ir_mean3[100:400]) +100\n",
    "peak_time4 = np.argmax(Ir_mean4[100:400]) +100\n",
    "\n",
    "plt.axvline(x=peak_time1+10,color='blue',linestyle = '--')\n",
    "plt.axvline(x=peak_time2+10,color='orange',linestyle = '--')\n",
    "plt.axvline(x=peak_time3+10,color='green',linestyle ='--')\n",
    "#plt.axvline(x=peak_time4+10,color='red',linestyle ='--')\n",
    "\n",
    "plt.ylabel(r\"$I_t$\")\n",
    "plt.xlabel('t (days)')\n",
    "plt.legend()\n",
    "plt.savefig(\"results/openloop_diff_relaxationlevel_heter.png\",bbox_inches=\"tight\")"
   ]
  },
  {
   "cell_type": "code",
   "execution_count": null,
   "metadata": {},
   "outputs": [],
   "source": []
  },
  {
   "cell_type": "code",
   "execution_count": 716,
   "metadata": {},
   "outputs": [
    {
     "data": {
      "text/plain": [
       "<matplotlib.legend.Legend at 0x12e7d7518>"
      ]
     },
     "execution_count": 716,
     "metadata": {},
     "output_type": "execute_result"
    },
    {
     "data": {
      "image/png": "[encoded data removed]",
      "text/plain": [
       "<Figure size 432x288 with 1 Axes>"
      ]
     },
     "metadata": {},
     "output_type": "display_data"
    }
   ],
   "source": [
    "a = 30\n",
    "b= 29\n",
    "c = 31\n",
    "d= 124\n",
    "Ir_mean1 = np.mean(I_all2[:,:,a],axis=0)\n",
    "Ir_std1 = np.std(I_all2[:,:,a],axis=0)\n",
    "\n",
    "Ir_mean2 = np.mean(I_all2[:,:,b],axis=0)\n",
    "Ir_std2 = np.std(I_all2[:,:,b],axis=0)\n",
    "\n",
    "Ir_mean3 = np.mean(I_all2[:,:,c],axis=0)\n",
    "Ir_std3 = np.std(I_all2[:,:,c],axis=0)\n",
    "\n",
    "Ir_mean4 = np.mean(I_all2[:,:,d],axis=0)\n",
    "Ir_std4 = np.std(I_all2[:,:,d],axis=0)\n",
    "    \n",
    "plt.plot(xx[:400],Ir_mean1[:400],linewidth=3,label=str(region_order[a]))\n",
    "plt.fill_between(xx[:400],Ir_mean1[:400] - Ir_std1[:400],Ir_mean1[:400] + Ir_std1[:400],alpha=0.3)\n",
    "\n",
    "plt.plot(xx[:400],Ir_mean2[:400],linewidth=3,label=str(region_order[b]))\n",
    "plt.fill_between(xx[:400],Ir_mean2[:400] - Ir_std2[:400],Ir_mean2[:400] + Ir_std2[:400],alpha=0.3)\n",
    "\n",
    "plt.plot(xx[:400],Ir_mean3[:400],linewidth=3,label=str(region_order[c]))\n",
    "plt.fill_between(xx[:400],Ir_mean3[:400] - Ir_std3[:400],Ir_mean3[:400] + Ir_std3[:400],alpha=0.3)\n",
    "\n",
    "plt.plot(xx[:400],Ir_mean4[:400],linewidth=3,label=str(region_order[d]))\n",
    "plt.fill_between(xx[:400],Ir_mean4[:400] - Ir_std4[:400],Ir_mean4[:400] + Ir_std4[:400],alpha=0.3)\n",
    "    \n",
    "peak_time1 = np.argmax(Ir_mean1[100:400]) +100\n",
    "peak_time2 = np.argmax(Ir_mean2[100:400]) +100\n",
    "peak_time3 = np.argmax(Ir_mean3[100:400]) +100\n",
    "peak_time4 = np.argmax(Ir_mean4[100:400]) +100\n",
    "\n",
    "plt.axvline(x=peak_time1+10,color='blue',linestyle = '--')\n",
    "plt.axvline(x=peak_time2+10,color='orange',linestyle = '--')\n",
    "plt.axvline(x=peak_time3+10,color='green',linestyle ='--')\n",
    "#plt.axvline(x=peak_time4+10,color='red',linestyle ='--')\n",
    "\n",
    "plt.ylabel(r\"$I_t$\")\n",
    "plt.xlabel('t (days)')\n",
    "plt.legend()\n"
   ]
  },
  {
   "cell_type": "markdown",
   "metadata": {},
   "source": [
    "# Infected Individuals Ratios"
   ]
  },
  {
   "cell_type": "code",
   "execution_count": 152,
   "metadata": {},
   "outputs": [
    {
     "name": "stdout",
     "output_type": "stream",
     "text": [
      "0\n",
      "1\n",
      "2\n",
      "3\n",
      "4\n",
      "5\n",
      "6\n",
      "7\n",
      "8\n",
      "9\n"
     ]
    }
   ],
   "source": [
    "relax = 0.3\n",
    "relax_day = 120 # 210\n",
    "nn = 1000\n",
    "\n",
    "paths = 10\n",
    "\n",
    "trags5 = np.zeros((nn+1,paths))\n",
    "deaths5 = np.zeros((nn+1,paths))\n",
    "trags_I5 = np.zeros((nn+1,paths))\n",
    "R_all = np.zeros((paths,nn+1,16,133))\n",
    "R_I_all = np.zeros((paths,nn+1,16,133))\n",
    "R_A_all = np.zeros((paths,nn+1,16,133))\n",
    "D_all= np.zeros((paths,nn+1,16,133))\n",
    "I_all = np.zeros((paths,nn+1,16,133))\n",
    "A_all= np.zeros((paths,nn+1,16,133))\n",
    "E_all= np.zeros((paths,nn+1,16,133))\n",
    "for path in range(paths):\n",
    "    print(path)\n",
    "    S,E,I,A,D,R,R_A,R_I,signals,regional_real_cases,england_real_cases,regional_confirm_cases,england_confirm_cases, total_contact =SEIR_Policy_relax(init_vals, C, Sigma,p,f, params,scale,simulation_eff_dates,sigma_adjust1,sigma_adjust2,relax,relax_day,nn)\n",
    "   \n",
    "    lenss = np.array(I).shape[0]\n",
    "    trags5[:,path] = np.sum(england_confirm_cases,axis=1)\n",
    "    trags_I5[:lenss,path] = np.sum(np.array(I),axis=(1,2))\n",
    "    deaths5[:lenss,path] = np.sum(np.array(D),axis=(1,2))\n",
    "    deaths5[lenss:,path] = np.sum(np.array(D),axis=(1,2))[-1]\n",
    "    R_all[path,:lenss,:,:] = np.array(R)\n",
    "    R_all[path,lenss:,:,:] = np.array(R)[-1,:,:]\n",
    "    \n",
    "    R_A_all[path,:lenss,:,:] = np.array(R_A)\n",
    "    R_A_all[path,lenss:,:,:] = np.array(R_A)[-1,:,:]\n",
    "    \n",
    "    R_I_all[path,:lenss,:,:] = np.array(R_I)\n",
    "    R_I_all[path,lenss:,:,:] = np.array(R_I)[-1,:,:]\n",
    "    \n",
    "    D_all[path,:lenss,:,:] = np.array(D)\n",
    "    D_all[path,lenss:,:,:] = np.array(D)[-1,:,:]\n",
    "    I_all[path,:lenss,:,:] = np.array(I)\n",
    "    E_all[path,:lenss,:,:] = np.array(E)\n",
    "    A_all[path,:lenss,:,:] = np.array(A)\n",
    "    \n",
    "    "
   ]
  },
  {
   "cell_type": "code",
   "execution_count": 153,
   "metadata": {},
   "outputs": [
    {
     "data": {
      "text/plain": [
       "(10, 1001, 16, 133)"
      ]
     },
     "execution_count": 153,
     "metadata": {},
     "output_type": "execute_result"
    }
   ],
   "source": [
    "R_all.shape"
   ]
  },
  {
   "cell_type": "code",
   "execution_count": 154,
   "metadata": {},
   "outputs": [],
   "source": [
    "lag = 10"
   ]
  },
  {
   "cell_type": "code",
   "execution_count": 155,
   "metadata": {},
   "outputs": [],
   "source": [
    "# June 31 125 (delta=0)\n",
    "# Nov 4  250 (delta = 127)"
   ]
  },
  {
   "cell_type": "code",
   "execution_count": 156,
   "metadata": {},
   "outputs": [],
   "source": [
    "delta= 30"
   ]
  },
  {
   "cell_type": "code",
   "execution_count": 157,
   "metadata": {},
   "outputs": [],
   "source": [
    "R_all2 = R_all[:,125+delta-lag,:,:]\n",
    "R_A_all2 = R_A_all[:,125+delta-lag,:,:]\n",
    "R_I_all2 = R_I_all[:,125+delta-lag,:,:]\n",
    "\n",
    "D_all2 = D_all[:,125+delta-lag,:,:]\n",
    "I_all2 = I_all[:,125+delta-lag,:,:]\n",
    "A_all2 = A_all[:,125+delta-lag,:,:]\n",
    "E_all2 = E_all[:,125+delta-lag,:,:]"
   ]
  },
  {
   "cell_type": "code",
   "execution_count": 158,
   "metadata": {},
   "outputs": [
    {
     "data": {
      "text/plain": [
       "(10, 16, 133)"
      ]
     },
     "execution_count": 158,
     "metadata": {},
     "output_type": "execute_result"
    }
   ],
   "source": [
    "R_all2.shape"
   ]
  },
  {
   "cell_type": "code",
   "execution_count": 159,
   "metadata": {},
   "outputs": [],
   "source": [
    "R_region = np.mean(np.sum(R_all2,axis=1),axis=0)\n",
    "\n",
    "R_A_region = np.mean(np.sum(R_A_all2,axis=1),axis=0)\n",
    "R_I_region = np.mean(np.sum(R_I_all2,axis=1),axis=0)\n",
    "\n",
    "D_region = np.mean(np.sum(D_all2,axis=1),axis=0)"
   ]
  },
  {
   "cell_type": "code",
   "execution_count": 160,
   "metadata": {},
   "outputs": [],
   "source": [
    "I_region = np.mean(np.sum(I_all2,axis=1),axis=0)\n",
    "A_region = np.mean(np.sum(A_all2,axis=1),axis=0)\n",
    "E_region = np.mean(np.sum(E_all2,axis=1),axis=0)"
   ]
  },
  {
   "cell_type": "code",
   "execution_count": 161,
   "metadata": {},
   "outputs": [
    {
     "data": {
      "text/plain": [
       "56171302.0"
      ]
     },
     "execution_count": 161,
     "metadata": {},
     "output_type": "execute_result"
    }
   ],
   "source": [
    "np.sum(N_mat)"
   ]
  },
  {
   "cell_type": "code",
   "execution_count": 162,
   "metadata": {},
   "outputs": [
    {
     "name": "stdout",
     "output_type": "stream",
     "text": [
      "14787455.7 3412885.2 40124.799999999996\n"
     ]
    }
   ],
   "source": [
    "print(np.sum(R_A_region),np.sum(R_I_region),np.sum(D_region))"
   ]
  },
  {
   "cell_type": "code",
   "execution_count": 163,
   "metadata": {
    "scrolled": true
   },
   "outputs": [
    {
     "name": "stdout",
     "output_type": "stream",
     "text": [
      "0.2632564169511328 0.06075852042738835 0.000714329178269715\n"
     ]
    }
   ],
   "source": [
    "print(np.sum(R_A_region)/np.sum(N_mat),np.sum(R_I_region)/np.sum(N_mat),np.sum(D_region)/np.sum(N_mat))"
   ]
  },
  {
   "cell_type": "code",
   "execution_count": 175,
   "metadata": {},
   "outputs": [
    {
     "data": {
      "text/plain": [
       "array([0.05905703, 0.06293148, 0.0590679 , 0.0550731 , 0.06228191,\n",
       "       0.0679437 , 0.06775697, 0.06645164, 0.06063449, 0.06697173,\n",
       "       0.06968242, 0.06454171, 0.05486307, 0.05006873, 0.04902267,\n",
       "       0.08365147])"
      ]
     },
     "execution_count": 175,
     "metadata": {},
     "output_type": "execute_result"
    }
   ],
   "source": [
    "np.sum(N_mat,axis=1)/np.sum(N_mat)"
   ]
  },
  {
   "cell_type": "code",
   "execution_count": 164,
   "metadata": {},
   "outputs": [
    {
     "data": {
      "text/plain": [
       "0.3240149373785211"
      ]
     },
     "execution_count": 164,
     "metadata": {},
     "output_type": "execute_result"
    }
   ],
   "source": [
    "(np.sum(R_region))/np.sum(N_mat)"
   ]
  },
  {
   "cell_type": "code",
   "execution_count": 165,
   "metadata": {},
   "outputs": [
    {
     "data": {
      "text/plain": [
       "18240465.7"
      ]
     },
     "execution_count": 165,
     "metadata": {},
     "output_type": "execute_result"
    }
   ],
   "source": [
    "(np.sum(R_region)+np.sum(D_region))# OLD"
   ]
  },
  {
   "cell_type": "code",
   "execution_count": 166,
   "metadata": {},
   "outputs": [
    {
     "data": {
      "text/plain": [
       "0.328936078426667"
      ]
     },
     "execution_count": 166,
     "metadata": {},
     "output_type": "execute_result"
    }
   ],
   "source": [
    "(np.sum(R_region)+np.sum(D_region)+np.sum(I_region)+np.sum(A_region))/np.sum(N_mat)"
   ]
  },
  {
   "cell_type": "code",
   "execution_count": 171,
   "metadata": {},
   "outputs": [
    {
     "data": {
      "text/plain": [
       "0.328936078426667"
      ]
     },
     "execution_count": 171,
     "metadata": {},
     "output_type": "execute_result"
    }
   ],
   "source": [
    "(np.sum(R_region)+np.sum(D_region)+np.sum(I_region)+np.sum(A_region))/np.sum(N_mat)"
   ]
  },
  {
   "cell_type": "code",
   "execution_count": 172,
   "metadata": {},
   "outputs": [
    {
     "data": {
      "text/plain": [
       "18476767.799999997"
      ]
     },
     "execution_count": 172,
     "metadata": {},
     "output_type": "execute_result"
    }
   ],
   "source": [
    "np.sum(R_region)+np.sum(D_region)+np.sum(I_region)+np.sum(A_region)"
   ]
  },
  {
   "cell_type": "code",
   "execution_count": 168,
   "metadata": {
    "scrolled": true
   },
   "outputs": [
    {
     "data": {
      "text/plain": [
       "47114.2"
      ]
     },
     "execution_count": 168,
     "metadata": {},
     "output_type": "execute_result"
    }
   ],
   "source": [
    "np.sum(I_region)"
   ]
  },
  {
   "cell_type": "code",
   "execution_count": 169,
   "metadata": {
    "scrolled": true
   },
   "outputs": [
    {
     "data": {
      "text/plain": [
       "189187.90000000002"
      ]
     },
     "execution_count": 169,
     "metadata": {},
     "output_type": "execute_result"
    }
   ],
   "source": [
    "np.sum(A_region)"
   ]
  },
  {
   "cell_type": "code",
   "execution_count": 170,
   "metadata": {},
   "outputs": [
    {
     "data": {
      "text/plain": [
       "151819.80000000002"
      ]
     },
     "execution_count": 170,
     "metadata": {},
     "output_type": "execute_result"
    }
   ],
   "source": [
    "np.sum(E_region)"
   ]
  },
  {
   "cell_type": "code",
   "execution_count": 645,
   "metadata": {},
   "outputs": [
    {
     "data": {
      "text/plain": [
       "22445269.6"
      ]
     },
     "execution_count": 645,
     "metadata": {},
     "output_type": "execute_result"
    }
   ],
   "source": [
    "np.sum(R_region)"
   ]
  },
  {
   "cell_type": "code",
   "execution_count": 646,
   "metadata": {},
   "outputs": [
    {
     "data": {
      "text/plain": [
       "50930.5"
      ]
     },
     "execution_count": 646,
     "metadata": {},
     "output_type": "execute_result"
    }
   ],
   "source": [
    "np.sum(D_region)"
   ]
  },
  {
   "cell_type": "code",
   "execution_count": 603,
   "metadata": {},
   "outputs": [
    {
     "name": "stdout",
     "output_type": "stream",
     "text": [
      "/Users/renyuanxu/Dropbox/Research_Codes/epidemic_code/Revision_November/pre-planned\r\n"
     ]
    }
   ],
   "source": [
    "!pwd"
   ]
  },
  {
   "cell_type": "code",
   "execution_count": null,
   "metadata": {},
   "outputs": [],
   "source": []
  },
  {
   "cell_type": "code",
   "execution_count": 604,
   "metadata": {},
   "outputs": [],
   "source": [
    "uninfected = 1 - (R_region+D_region)/np.sum(N_mat,axis=0)"
   ]
  },
  {
   "cell_type": "code",
   "execution_count": 605,
   "metadata": {},
   "outputs": [],
   "source": [
    "data =  {\"region\":np.array(region_order),\"uninfected_ratio\":uninfected}"
   ]
  },
  {
   "cell_type": "code",
   "execution_count": 606,
   "metadata": {},
   "outputs": [],
   "source": [
    "data = pd.DataFrame(data)"
   ]
  },
  {
   "cell_type": "code",
   "execution_count": 607,
   "metadata": {},
   "outputs": [],
   "source": [
    "data.to_csv('results/social_distancing_uninfected_ratio_august1_m25.csv',index=False)"
   ]
  },
  {
   "cell_type": "code",
   "execution_count": 608,
   "metadata": {},
   "outputs": [
    {
     "data": {
      "text/plain": [
       "(10, 1001, 16, 133)"
      ]
     },
     "execution_count": 608,
     "metadata": {},
     "output_type": "execute_result"
    }
   ],
   "source": [
    "I_all.shape"
   ]
  },
  {
   "cell_type": "markdown",
   "metadata": {},
   "source": [
    "# Map"
   ]
  },
  {
   "cell_type": "code",
   "execution_count": 647,
   "metadata": {},
   "outputs": [
    {
     "name": "stdout",
     "output_type": "stream",
     "text": [
      "0\n",
      "1\n",
      "2\n",
      "3\n",
      "4\n",
      "5\n",
      "6\n",
      "7\n",
      "8\n",
      "9\n",
      "10\n",
      "11\n",
      "12\n",
      "13\n",
      "14\n",
      "15\n",
      "16\n",
      "17\n",
      "18\n",
      "19\n"
     ]
    }
   ],
   "source": [
    "relax = 0.25\n",
    "relax_day = 120 # 210\n",
    "nn = 1000\n",
    "\n",
    "paths = 20\n",
    "\n",
    "trags5 = np.zeros((nn+1,paths))\n",
    "deaths5 = np.zeros((nn+1,paths))\n",
    "trags_I5 = np.zeros((nn+1,paths))\n",
    "R_all = np.zeros((paths,nn+1,16,133))\n",
    "R_I_all = np.zeros((paths,nn+1,16,133))\n",
    "R_A_all = np.zeros((paths,nn+1,16,133))\n",
    "D_all= np.zeros((paths,nn+1,16,133))\n",
    "I_all = np.zeros((paths,nn+1,16,133))\n",
    "A_all= np.zeros((paths,nn+1,16,133))\n",
    "E_all= np.zeros((paths,nn+1,16,133))\n",
    "for path in range(paths):\n",
    "    print(path)\n",
    "    S,E,I,A,D,R,R_A,R_I,signals,regional_real_cases,england_real_cases,regional_confirm_cases,england_confirm_cases, total_contact =SEIR_Policy_relax(init_vals, C, Sigma,p,f, params,scale,simulation_eff_dates,sigma_adjust1,sigma_adjust2,relax,relax_day,nn)\n",
    "   \n",
    "    lenss = np.array(I).shape[0]\n",
    "    trags5[:,path] = np.sum(england_confirm_cases,axis=1)\n",
    "    trags_I5[:lenss,path] = np.sum(np.array(I),axis=(1,2))\n",
    "    deaths5[:lenss,path] = np.sum(np.array(D),axis=(1,2))\n",
    "    deaths5[lenss:,path] = np.sum(np.array(D),axis=(1,2))[-1]\n",
    "    R_all[path,:lenss,:,:] = np.array(R)\n",
    "    R_all[path,lenss:,:,:] = np.array(R)[-1,:,:]\n",
    "    \n",
    "    R_A_all[path,:lenss,:,:] = np.array(R_A)\n",
    "    R_A_all[path,lenss:,:,:] = np.array(R_A)[-1,:,:]\n",
    "    \n",
    "    R_I_all[path,:lenss,:,:] = np.array(R_I)\n",
    "    R_I_all[path,lenss:,:,:] = np.array(R_I)[-1,:,:]\n",
    "    \n",
    "    D_all[path,:lenss,:,:] = np.array(D)\n",
    "    D_all[path,lenss:,:,:] = np.array(D)[-1,:,:]\n",
    "    I_all[path,:lenss,:,:] = np.array(I)\n",
    "    E_all[path,:lenss,:,:] = np.array(E)\n",
    "    A_all[path,:lenss,:,:] = np.array(A)\n",
    "    \n",
    "    "
   ]
  },
  {
   "cell_type": "code",
   "execution_count": 648,
   "metadata": {},
   "outputs": [],
   "source": [
    "total_death_rgs = np.zeros(133)"
   ]
  },
  {
   "cell_type": "code",
   "execution_count": 649,
   "metadata": {},
   "outputs": [],
   "source": [
    "for i in range(133):\n",
    "    total_death_rgs[i] = np.sum(np.mean(D_all[:,:,:,i],axis=0),axis=1)[-1]\n",
    "   "
   ]
  },
  {
   "cell_type": "code",
   "execution_count": 650,
   "metadata": {},
   "outputs": [],
   "source": [
    "data_fatality = pd.DataFrame(columns=['region','death_socialdistance'])\n",
    "\n",
    "data_fatality['region'] = d_table['region']\n",
    "\n",
    "data_fatality['death_socialdistance'] = total_death_rgs\n",
    "\n",
    "\n",
    "data_fatality.to_csv('death_socialdistance_16groups_m25.csv',index=False)"
   ]
  },
  {
   "cell_type": "code",
   "execution_count": 654,
   "metadata": {},
   "outputs": [
    {
     "data": {
      "text/plain": [
       "50948.9"
      ]
     },
     "execution_count": 654,
     "metadata": {},
     "output_type": "execute_result"
    }
   ],
   "source": [
    "np.mean(np.sum(D_all,axis=(2,3)),axis=0)[250-10]"
   ]
  },
  {
   "cell_type": "code",
   "execution_count": null,
   "metadata": {},
   "outputs": [],
   "source": []
  }
 ],
 "metadata": {
  "kernelspec": {
   "display_name": "Python 3",
   "language": "python",
   "name": "python3"
  },
  "language_info": {
   "codemirror_mode": {
    "name": "ipython",
    "version": 3
   },
   "file_extension": ".py",
   "mimetype": "text/x-python",
   "name": "python",
   "nbconvert_exporter": "python",
   "pygments_lexer": "ipython3",
   "version": "3.6.5"
  }
 },
 "nbformat": 4,
 "nbformat_minor": 4
}
